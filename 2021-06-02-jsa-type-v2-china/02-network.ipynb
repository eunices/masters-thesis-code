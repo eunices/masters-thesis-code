{
 "cells": [
  {
   "cell_type": "markdown",
   "metadata": {},
   "source": [
    "# Network analysis for coauthors - modularity\n",
    "\n",
    "This looks at modularity of the main subgraph."
   ]
  },
  {
   "cell_type": "code",
   "execution_count": 3,
   "metadata": {},
   "outputs": [
    {
     "data": {
      "text/plain": [
       "'0.24.1'"
      ]
     },
     "execution_count": 3,
     "metadata": {},
     "output_type": "execute_result"
    }
   ],
   "source": [
    "import sklearn\n",
    "sklearn.__version__"
   ]
  },
  {
   "cell_type": "code",
   "execution_count": 4,
   "metadata": {},
   "outputs": [
    {
     "name": "stdout",
     "output_type": "stream",
     "text": [
      "The autoreload extension is already loaded. To reload it, use:\n",
      "  %reload_ext autoreload\n"
     ]
    }
   ],
   "source": [
    "%load_ext autoreload\n",
    "%autoreload 2\n",
    "\n",
    "from src.util import load_coauthor_nx, ddir_analysis, fn_nodes, fn_statoids, get_spp_df\n",
    "\n",
    "import community\n",
    "import networkx as nx\n",
    "from operator import itemgetter\n",
    "import pandas as pd\n",
    "from collections import Counter\n",
    "import matplotlib.pyplot as plt\n",
    "import seaborn as sns\n",
    "import skbio.diversity.alpha as b\n",
    "import math\n",
    "import random\n",
    "\n",
    "from sklearn.decomposition import PCA\n",
    "from sklearn.cluster import DBSCAN, KMeans\n",
    "from sklearn import preprocessing\n",
    "import numpy as np"
   ]
  },
  {
   "cell_type": "code",
   "execution_count": 5,
   "metadata": {},
   "outputs": [
    {
     "name": "stdout",
     "output_type": "stream",
     "text": [
      "\n",
      "Name: \n",
      "Type: Graph\n",
      "Number of nodes: 391\n",
      "Number of edges: 510\n",
      "Average degree:   2.6087\n"
     ]
    }
   ],
   "source": [
    "# Params\n",
    "seed = 2021\n",
    "random.seed(seed)\n",
    "\n",
    "# Load graph\n",
    "(G, nodes) = load_coauthor_nx() # abstracted into src"
   ]
  },
  {
   "cell_type": "markdown",
   "metadata": {},
   "source": [
    "## Communities"
   ]
  },
  {
   "cell_type": "code",
   "execution_count": 6,
   "metadata": {},
   "outputs": [
    {
     "name": "stderr",
     "output_type": "stream",
     "text": [
      "/home/ejysoh/miniconda3/envs/msc/lib/python3.9/site-packages/IPython/core/interactiveshell.py:3337: DtypeWarning: Columns (22,30,60,61,65,86,89,106,117) have mixed types.Specify dtype option on import or set low_memory=False.\n",
      "  if (await self.run_code(code, result,  async_=asy)):\n",
      "/mnt/c/_dev/msc/thesis/2021-06-02-jsa-type-v2-china/src/util.py:35: UserWarning: Boolean Series key will be reindexed to match DataFrame index.\n",
      "  spp = spp[~spp['duplicated']][\n"
     ]
    },
    {
     "data": {
      "text/html": [
       "<div>\n",
       "<style scoped>\n",
       "    .dataframe tbody tr th:only-of-type {\n",
       "        vertical-align: middle;\n",
       "    }\n",
       "\n",
       "    .dataframe tbody tr th {\n",
       "        vertical-align: top;\n",
       "    }\n",
       "\n",
       "    .dataframe thead th {\n",
       "        text-align: right;\n",
       "    }\n",
       "</style>\n",
       "<table border=\"1\" class=\"dataframe\">\n",
       "  <thead>\n",
       "    <tr style=\"text-align: right;\">\n",
       "      <th></th>\n",
       "      <th>idx</th>\n",
       "      <th>date</th>\n",
       "      <th>status</th>\n",
       "      <th>duplicated</th>\n",
       "      <th>full_name_of_describer</th>\n",
       "    </tr>\n",
       "  </thead>\n",
       "  <tbody>\n",
       "    <tr>\n",
       "      <th>1</th>\n",
       "      <td>2</td>\n",
       "      <td>2004</td>\n",
       "      <td>Valid species</td>\n",
       "      <td>False</td>\n",
       "      <td>Carlos Hernan Vergara</td>\n",
       "    </tr>\n",
       "    <tr>\n",
       "      <th>1</th>\n",
       "      <td>2</td>\n",
       "      <td>2004</td>\n",
       "      <td>Valid species</td>\n",
       "      <td>False</td>\n",
       "      <td>Charles Duncan Michener</td>\n",
       "    </tr>\n",
       "    <tr>\n",
       "      <th>2</th>\n",
       "      <td>3</td>\n",
       "      <td>2004</td>\n",
       "      <td>Valid species</td>\n",
       "      <td>False</td>\n",
       "      <td>Charles Duncan Michener</td>\n",
       "    </tr>\n",
       "  </tbody>\n",
       "</table>\n",
       "</div>"
      ],
      "text/plain": [
       "   idx  date         status  duplicated   full_name_of_describer\n",
       "1    2  2004  Valid species       False    Carlos Hernan Vergara\n",
       "1    2  2004  Valid species       False  Charles Duncan Michener\n",
       "2    3  2004  Valid species       False  Charles Duncan Michener"
      ]
     },
     "execution_count": 6,
     "metadata": {},
     "output_type": "execute_result"
    }
   ],
   "source": [
    "# Read data\n",
    "nodes_df = pd.read_csv(fn_nodes)\n",
    "statoids = pd.read_csv(fn_statoids)\n",
    "statoids = area_dict = dict(zip(statoids.DL, statoids.Country))\n",
    "\n",
    "spp = get_spp_df()\n",
    "\n",
    "spp.head(3)"
   ]
  },
  {
   "cell_type": "code",
   "execution_count": 7,
   "metadata": {},
   "outputs": [],
   "source": [
    "# Add module information\n",
    "communities = community.best_partition(G, random_state=seed)  # https://python-louvain.readthedocs.io/en/latest/api.html\n",
    "nx.set_node_attributes(G, communities, 'modularity')"
   ]
  },
  {
   "cell_type": "code",
   "execution_count": 14,
   "metadata": {
    "scrolled": true
   },
   "outputs": [
    {
     "data": {
      "text/plain": [
       "{'country_of_residence': 'CH',\n",
       " 'ns_spp_n': 195,\n",
       " 'degree': 7,\n",
       " 'betweenness': 0.007964309214876283,\n",
       " 'eigenvector': 0.0038379240915783607,\n",
       " 'modularity': 12}"
      ]
     },
     "execution_count": 14,
     "metadata": {},
     "output_type": "execute_result"
    }
   ],
   "source": [
    "G.nodes[\"Yan-ru Wu\"]"
   ]
  },
  {
   "cell_type": "code",
   "execution_count": 33,
   "metadata": {},
   "outputs": [],
   "source": []
  },
  {
   "cell_type": "code",
   "execution_count": 35,
   "metadata": {
    "scrolled": false
   },
   "outputs": [
    {
     "name": "stdout",
     "output_type": "stream",
     "text": [
      "                                 0                          1               2\n",
      "0                     Kamel Louadi             Erwin Scheuchl   {'weight': 1}\n",
      "1                     Kamel Louadi           Noudjoud Benarfa   {'weight': 1}\n",
      "2                 Noudjoud Benarfa             Erwin Scheuchl   {'weight': 1}\n",
      "3          Alberto H. Abrahamovich              Mariano Lucia   {'weight': 3}\n",
      "4          Alberto H. Abrahamovich        Leopoldo J. Alvarez   {'weight': 1}\n",
      "..                             ...                        ...             ...\n",
      "417              Terry L. Griswold             Wensdae Miller   {'weight': 2}\n",
      "418              Terry L. Griswold            Zach M. Portman   {'weight': 5}\n",
      "419              Terry L. Griswold       Victor Hugo Gonzalez  {'weight': 45}\n",
      "420  Theodore Dru Alison Cockerell  Wilmatte Porter Cockerell  {'weight': 10}\n",
      "421            Thomas J. Zavortink     Wallace Edmund LaBerge   {'weight': 1}\n",
      "\n",
      "[422 rows x 3 columns]\n"
     ]
    },
    {
     "data": {
      "image/png": "[encoded data removed]",
      "text/plain": [
       "<Figure size 432x288 with 1 Axes>"
      ]
     },
     "metadata": {},
     "output_type": "display_data"
    }
   ],
   "source": [
    "# Plotting one of the subgraphs\n",
    "subgraphs = [c for c in sorted(nx.connected_components(G), key=len, reverse=True)]\n",
    "\n",
    "wu_subgraph = [\"Yan-ru Wu\" in subgraph for subgraph in subgraphs].index(True)\n",
    "S = G.subgraph(subgraphs[wu_subgraph])\n",
    "print(pd.DataFrame(S.edges(data=True)))\n",
    "pos=nx.spring_layout(S) \n",
    "nx.draw_networkx_nodes(S, pos, node_size=30)\n",
    "# nx.draw_networkx_labels(S, pos, font_size=10,font_color='g')\n",
    "\n",
    "all_weights = []\n",
    "for (n1, n2, attr) in S.edges(data=True):\n",
    "    all_weights.append(attr['weight'])\n",
    "unique_weights = list(set(all_weights))\n",
    "\n",
    "for wt in range(1, int(max(unique_weights))+1):\n",
    "    edges = [(n1,n2) for (n1, n2, attr) in S.edges(data=True) if attr['weight']==wt]\n",
    "    width = wt*len(edges)*3.0/sum(all_weights)\n",
    "    nx.draw_networkx_edges(S, pos, edgelist=edges, width=width, edge_color='b')"
   ]
  }
 ],
 "metadata": {
  "kernelspec": {
   "display_name": "Python 3",
   "language": "python",
   "name": "python3"
  },
  "language_info": {
   "codemirror_mode": {
    "name": "ipython",
    "version": 3
   },
   "file_extension": ".py",
   "mimetype": "text/x-python",
   "name": "python",
   "nbconvert_exporter": "python",
   "pygments_lexer": "ipython3",
   "version": "3.9.1"
  }
 },
 "nbformat": 4,
 "nbformat_minor": 2
}
