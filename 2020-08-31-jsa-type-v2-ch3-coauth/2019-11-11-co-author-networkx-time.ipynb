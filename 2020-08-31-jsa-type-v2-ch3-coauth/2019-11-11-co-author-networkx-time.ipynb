{
 "cells": [
  {
   "cell_type": "markdown",
   "metadata": {},
   "source": [
    "# Network analysis for coauthors - network through time\n",
    "\n",
    "This looks at how the network changes through time with network metrics."
   ]
  },
  {
   "cell_type": "code",
   "execution_count": 1,
   "metadata": {},
   "outputs": [],
   "source": [
    "%load_ext autoreload\n",
    "%autoreload 2\n",
    "\n",
    "from src import util as u\n",
    "\n",
    "import pandas as pd\n",
    "from functools import reduce\n",
    "import operator\n",
    "import networkx as nx"
   ]
  },
  {
   "cell_type": "code",
   "execution_count": 2,
   "metadata": {},
   "outputs": [],
   "source": [
    "nodes = pd.read_csv(u.fn_nodes)"
   ]
  },
  {
   "cell_type": "code",
   "execution_count": 3,
   "metadata": {},
   "outputs": [],
   "source": [
    "# Import author data with dates\n",
    "start = 1758\n",
    "end = 2018\n",
    "years = end-start\n",
    "timepoints = 4\n",
    "interval = round(years/3, 0)\n",
    "year1= start + interval*1\n",
    "year2= start + interval*2"
   ]
  },
  {
   "cell_type": "code",
   "execution_count": 4,
   "metadata": {},
   "outputs": [
    {
     "name": "stdout",
     "output_type": "stream",
     "text": [
      "1758 1845.0\n",
      "1845.0 1932.0\n",
      "1932.0 2018\n"
     ]
    }
   ],
   "source": [
    "print(start, year1)\n",
    "print(year1, year2) # postal mail invented\n",
    "print(year2, end)   # airlines invested"
   ]
  },
  {
   "cell_type": "code",
   "execution_count": 5,
   "metadata": {},
   "outputs": [
    {
     "name": "stderr",
     "output_type": "stream",
     "text": [
      "/home/ejysoh/miniconda3/envs/msc/lib/python3.9/site-packages/IPython/core/interactiveshell.py:3337: DtypeWarning: Columns (22,30,60,61,65,86,89,106,117) have mixed types.Specify dtype option on import or set low_memory=False.\n",
      "  if (await self.run_code(code, result,  async_=asy)):\n",
      "/mnt/c/_dev/msc/thesis/2020-08-31-jsa-type-v2-ch3-coauth/src/util.py:35: UserWarning: Boolean Series key will be reindexed to match DataFrame index.\n",
      "  spp = spp[~spp['duplicated']][\n"
     ]
    }
   ],
   "source": [
    "auth = u.get_spp_df()\n",
    "auth = auth.drop(columns=['status'])\n",
    "\n",
    "\n",
    "auth1 = auth[(auth['date'] >= start) & (auth['date']  < year1)][['idx', 'full_name_of_describer']]\n",
    "auth2 = auth[(auth['date'] >= year1) & (auth['date']  < year2)][['idx', 'full_name_of_describer']]\n",
    "auth3 = auth[(auth['date'] >= year2) & (auth['date']  <= end)][['idx', 'full_name_of_describer']]\n",
    "\n",
    "df_li =  [auth1, auth2, auth3]\n",
    "df_li = [x.groupby('idx')['full_name_of_describer'].apply(lambda x: \"%s\" % '; '.join(x)) for x in df_li]"
   ]
  },
  {
   "cell_type": "code",
   "execution_count": 6,
   "metadata": {},
   "outputs": [],
   "source": [
    "# Get pairs\n",
    "\n",
    "def li_pairs(source):\n",
    "    source = str.split(source, \"; \")\n",
    "    result = []\n",
    "    N = len(source)\n",
    "    if (N <= 1):\n",
    "        return [(source[0], None)]\n",
    "    else:\n",
    "\n",
    "        for p1 in range(N):\n",
    "            for p2 in range(p1+1,len(source)):\n",
    "                    result.append((source[p1],source[p2]))\n",
    "        return result\n"
   ]
  },
  {
   "cell_type": "code",
   "execution_count": 7,
   "metadata": {},
   "outputs": [
    {
     "name": "stdout",
     "output_type": "stream",
     "text": [
      "Ricardo Ayala Barajas; Michael Scott Engel\n",
      "[('Ricardo Ayala Barajas', 'Michael Scott Engel')]\n",
      "[('Earle Gorton Linsley', 'John Winslow MacSwain')]\n"
     ]
    }
   ],
   "source": [
    "print(df_li[2].iloc[2])\n",
    "print(li_pairs(df_li[2].iloc[2]))\n",
    "print(li_pairs(df_li[2].iloc[63]))"
   ]
  },
  {
   "cell_type": "code",
   "execution_count": 8,
   "metadata": {},
   "outputs": [],
   "source": [
    "df_li = [x.apply(lambda x: li_pairs(x)) for x in df_li]"
   ]
  },
  {
   "cell_type": "code",
   "execution_count": 9,
   "metadata": {},
   "outputs": [],
   "source": [
    "li = [[] for i in range(3)]\n",
    "for i in range(len(df_li)):\n",
    "    df = df_li[i]\n",
    "    for j, row in df.iteritems():\n",
    "        li[i].append(row[0])"
   ]
  },
  {
   "cell_type": "code",
   "execution_count": 10,
   "metadata": {},
   "outputs": [],
   "source": [
    "df_li = [pd.DataFrame(x, columns=['p1', 'p2']) for x in li]\n",
    "df_li = [pd.DataFrame(x).groupby(['p1', 'p2']).size() for x in df_li]\n",
    "df_li = [x.reset_index() for x in df_li]"
   ]
  },
  {
   "cell_type": "code",
   "execution_count": 11,
   "metadata": {},
   "outputs": [],
   "source": [
    "def get_edges(df):\n",
    "    edges = []\n",
    "    for i, row in df.iterrows():\n",
    "        edges.append((row.p1, row.p2, row[0]))\n",
    "    return edges"
   ]
  },
  {
   "cell_type": "code",
   "execution_count": 12,
   "metadata": {},
   "outputs": [],
   "source": [
    "df_li = [get_edges(df) for df in df_li]"
   ]
  },
  {
   "cell_type": "code",
   "execution_count": 13,
   "metadata": {},
   "outputs": [],
   "source": [
    "def get_node_names(edges):\n",
    "    all_node_names = []\n",
    "    all_node_names = [all_node_names + [e[0], e[1]] for e in edges]\n",
    "    all_node_names = reduce(operator.add, all_node_names)\n",
    "    return set(all_node_names)"
   ]
  },
  {
   "cell_type": "code",
   "execution_count": 14,
   "metadata": {},
   "outputs": [],
   "source": [
    "node_names = [get_node_names(df) for df in df_li]"
   ]
  },
  {
   "cell_type": "code",
   "execution_count": 15,
   "metadata": {},
   "outputs": [],
   "source": [
    "# Load into graph\n",
    "g_li = [nx.Graph() for x in range(3)]\n",
    "for i in range(len(df_li)):\n",
    "\n",
    "    g_li[i].add_nodes_from(node_names[i])\n",
    "    g_li[i].add_weighted_edges_from(df_li[i])"
   ]
  },
  {
   "cell_type": "code",
   "execution_count": 16,
   "metadata": {
    "scrolled": false
   },
   "outputs": [
    {
     "name": "stdout",
     "output_type": "stream",
     "text": [
      "Network 0\n",
      "Network density: 33.3 %\n",
      "Triadic closure: 0 %\n",
      "Number of subgraphs: 2\n",
      "Network diameter of largest component: 1\n",
      "['Jean Guillaume Audinet-Serville', '[Jean-Pierre Omer Anne] Édouard Perris', 'Léon [Jean Marie] Dufour', 'Amédée Louis Michel le Peletier, comte de Saint-Fargeau']\n",
      "\n",
      "\n",
      "Network 1\n",
      "Network density: 4.0 %\n",
      "Triadic closure: 0 %\n",
      "Number of subgraphs: 11\n",
      "Network diameter of largest component: 3\n",
      "['Edward Sharpe Gaige Titus', 'Robert Cyril Layton Perkins', 'James Fletcher', 'Ruth Sumner', 'Otto Emil Plath', 'Léon Marc Herminie Fairmaire', 'G. Trautmann', 'Kurt [Curt] Schrottky', 'Henry Lorenz Viereck', 'Franz von Wagner', 'Louis Jérôme Reiche', 'Karl Wilhelm von Dalla Torre', 'Arthur Gibson', 'Alberto H. Abrahamovich', 'Myron Harmon Swenk', 'Mariano Lucia', 'John Harvey Lovell', 'Wilmatte Porter Cockerell', 'Woldemar Trautmann', 'Lucy Evelyn Cheesman', 'Hans [Franz Paul] Hedicke', 'Beulah Hix Blair', 'Philip Hunter Timberlake', 'Grace Adelbert Sandhouse', 'Arnaldo de Winkelried Bertoni', 'Heinrich Friedrich August Karl Ludwig Friese', 'Tohru Uchida', 'Theodore Dru Alison Cockerell', 'Charles H. Hicks', 'Joseph Charles Bequaert', 'Hans Bischoff', 'Sievert Allen Rohwer', 'Shōnen Matsumura', 'Jessie E. Casad', 'James Chamberlain Crawford', 'Norma Ebolie LeVeque']\n",
      "\n",
      "\n",
      "Network 2\n",
      "Network density: 0.7 %\n",
      "Triadic closure: 5.7 %\n",
      "Number of subgraphs: 41\n",
      "Network diameter of largest component: 11\n",
      "['Chang-Whan Kim', 'Louise M. Ireland', 'Huan-li Xu', 'Y. B. Soukontoua', 'Antonio José Camillo Aguiar', 'Sébastien Patiny', 'Jan Smit', 'Philip Hunter Timberlake', 'Vladimir Veniaminovich Popov', 'Michael Scott Engel', 'T. C. Narendran', 'John L. [Jack] Neff', 'Manfredo A. Fritz', 'Michael P. Schwarz', 'Ryuki Murao', 'Cory Silas Sheffield', 'Claus Rasmussen', 'Pierre Rasmont', 'John Winslow MacSwain', 'Laurence Packer', 'María Fernanda Rodríguez', 'Paola Marchi', 'Ataur Rahman', 'Terry Francis Houston', 'Wensdae Miller', 'Beatriz Woiski Teixeira Coelho', 'Sharon Rodríguez', 'Remko Leijs [or Leys]', 'Timofey Victorovich Levchenko', 'Alexsander A. Azevedo', 'Tamiji Inoue', 'Bangyu Kuang', 'Carl Edmund Atwood', 'André Nemésio', 'Jerome George Rozen, Jr.', 'Guaraci Duran Cordeiro', 'Patrícia Maia Correia de Albuquerque', 'Ardeshir Ariana', 'Arkady S. Lelej', 'Leah LaPerle Larkin', 'Yuriy Andreyevich Pesenko', 'Lionel Alvin Stange', 'Carlos Hernan Vergara', 'Jelle Devalez', 'Albert A. Grigarick', 'Natapot Warrit', 'Gerd Knerer', 'Karl Mazzucco', 'Edgard Cédric Fabre Anguilet', 'Qiang Li', 'Ian Cross', 'Mi-Lyang Kim', 'David W. Baldock', 'Earle Gorton Linsley', 'Makoto Kato', 'Gerald [Jerry] Irving Stage', 'Sherlem Patricia de Seixas Felizardo', 'Ryôichi Miyanaga', 'Kim Timmermann', 'Rodrigo da Cunha', 'Keizô Yasumatsu', 'David W. Ribble', 'Mark Amidon Deyrup', 'Yoshihiro Hirashima', 'Leandro Mattos Santos', 'Léo Correia da Rocha Filho', 'Petr Bogusch', 'Christophe J. Praz', 'Leif D. Deyrup', 'Marco Antônio Costa', 'Fernando César Vieira Zanella', 'William T. [Bill] Wcislo', 'Terry L. Griswold', 'Kimio Yoshikawa', 'Randall Hepburn', 'Leslie J. Lollin', 'Robert W. Brooks', 'Robert Cyril Layton Perkins', 'B. Lucas de Oliveira', 'Jorge M. González', 'Frank D. Parker', 'Birgit Harter-Marques', 'Gideon Pisanty', 'Danny Vélez', 'Michael Christopher Orr', 'Lucy Evelyn Cheesman', 'Luisa Ruz', 'Theodore Dru Alison Cockerell', 'Vittorio Nobile', 'Klaus Standfuss', 'Andreas Bertsch', 'João Maria Franco de Camargo', 'Silvana P. Durante', 'K. Sajan Jose', 'Michael Kuhlmann', 'Robbin W. Thorp', 'Radclyffe Burnand Roberts', 'Pia Oremek', 'M. Herrera', 'Shôichi F. Sakagami', 'Arturo Roig-Alsina', 'Robert Wilhelm Grünwaldt', 'Simon M. Tierney', 'Anna Zakharovna Osytshnjuk', 'Leopoldo J. Alvarez', 'Alexander Lall', 'Kim E. Steiner', 'Shuichi Ikudome', 'Rui Zhang', 'Abdulaziz S. Alqarni', 'Prerna Chandel', 'Konrad Schmidt', \"Asya Anatol'evna Ponomareva\", 'Fabrício R. Santos', 'Kees [Cornelius] van Achterberg', 'Luiz R. R. Faria', 'Julio Antonio Genaro', 'Salvatore Vicidomini', 'Osamu Tadauchi', 'Rodulfo Ospina-Torres', 'Daniel H. Tapia', 'Alejandro Parra-H', 'Allan Henry Smith-Pardo', 'Gaurav Sharma', 'Yan-ru Wu', 'Andreas Dubitzky', 'Korrawat Attasopa', 'Hai-rong Huang', 'Barrett Anthony Klein', 'M. L. Thakur', 'Rajiv K. Gupta', 'Mohammed A. Hannan', 'Deborah Roan Smith', 'Ricardo Ayala Barajas', 'Erin Willis', 'George Edward [Ned] Bohart', 'Jesus Santiago Moure', 'Sydney G. Cannings', 'Warwick Estevam Kerr', 'Shusaburo Tamasawa', 'Yulia V. Astafurova', 'Vinalto Graf', 'Cécile Vogt', 'Danúncia Urban', 'Karl Nicholas Magnacca', 'Alberto H. Abrahamovich', 'Maximilian Schwarz', 'Mariano Lucia', 'Sebastião Laroca', 'Paula A. Sepúlveda', 'Barry James Donovan', 'Cindy Julieth Celis', 'Sabita Simlote', 'Alvin Fleetwood Shinn', 'Ya Tang', 'Yasuo Maeta', 'Herbert Ferlando Schwarz', 'Glynn Vivian Maynard', 'Marcio Luiz de Oliveira', 'Thomas J. Zavortink', 'Fernando Amaral da Silveira', 'Alain Pauly', 'José Eustáquio dos Santos Júnior', 'Andreas Müller', 'Ahmad Nadimi', 'Sundar Lal Sharma', 'Maurits Anne Lieftinck', 'Misaki Abe', 'Zach M. Portman', 'Holger Heinrich Dathe', 'Marina Siqueira de Castro', 'Boris O. Schlumpberger', 'Sheila Dumesh', 'Charles Duncan Michener', 'Anne E. Dollin', 'I-Hsin Sung', 'Achik Dorchin', 'Marco A. Gaiani', 'Edinaldo Luz das Neves', 'José Ricardo Cure', 'Somnuk Boongird', 'Charlotte Skov', 'John Stoskopf Ascher', 'Renee M. Borges', 'V. K. Tewari', 'Ismael Alejandro Hinojosa-Díaz', 'Takeshi Matsumura', 'Vincent Booth Whitehead', 'Rosalind Patricia Urban', 'Ze-qing Niu', 'Suzanne Willington Tubby Batra', 'Kelli dos Santos Ramos', 'Jorge Arturo Lobo Segura', 'Jakub Straka', 'Kenneth L. Walker', 'Maria Christina de Almeida', 'Dieter Wittmann', 'Ryôsuke Ishikawa', 'Masao Ito', 'David Ward Roubik', 'Stefan Vogel', 'Richard W. Rust', 'Paul Westrich', 'Fresia Rojas [Alvarez]', 'Jason Gibbs', 'Suniti Tomar', 'Roy R. Snelling', 'Mohamed Shebl', 'I. H. Syed', 'Meeta Tomar', 'Fritz Josef [Friedrich] Gusenleitner', 'T. Jobiraj', 'Molly Greer Rightmyer', 'Paul Hugh Williams', 'Victor Cabezas', \"Nina Grigo'yevna Davydova\", 'Roderic B. Martines', 'Nadia S. Gibran', 'Wallace Edmund LaBerge', 'Juan Carlos Sandino-Franco', 'Jessica [Jesse] Litman', 'Eduardo Andrade Botelho de Almeida', 'Gerhard K. H. Przemeck', 'Silvia Regina de Menezes Pedro', 'Giuseppe Fabrizio Turrisi', 'Benjamin Bembé', 'Thiago Mahlmann', 'Ali Asghar Talebi', 'Xuan Chen', 'Haroldo Toro [Guttierez]', 'Katja Hogendoorn', 'Volker Mauss', 'Katsushi Mitai', 'José Manuel Macário Rebêlo', 'David A. Tanner', 'Shashidhar Viraktamath', 'Thomas James Wood', 'Paul David Hurd, Jr.', 'Ellen Ordway', 'Tatiana G. Romankova', 'Thomas J. Pohl', 'Chao-dong Zhu', 'Francisco Javier Ortiz-Sánchez', 'Sarah Whitman-Mascherini', 'Clemens Schlindwein', 'Rafael Rodrigues Ferrari', 'Zewdu Ararso Hora', 'Favízia Freitas de Oliveira', 'Robert Louis Dressler', 'Masashi Goubara', 'Betânia Truylio', 'N. P. Chopra', 'Guanhuang Yang', 'Alina Nilovna Kupianskaya', 'Michael Batley', 'Vinita Sharma', 'Sergey P. Ivanov', 'Joan G. Ehrenfeld', 'Rodrigo Barbosa Gonçalves', 'Embrik Strand', 'Felipe Vivallo [Felipe Rodrigo Vivallo Martínez]', 'Denis Michez', 'Jian-guo Fan', 'Maxim Yurievich Proshchalykin', 'Carlos Alberto Campos Seabra', 'Harlan Glenn Hall', 'Stephen Gavilan Reyes', 'Jérôme Munzinger', 'Juan M. Labougle', 'Victor Hugo Gonzalez', 'Gabriel Augusto Rodrigues de Melo', 'John Keith Bouseman', 'Noudjoud Benarfa', 'Luis A. Compagnucci', 'Andrew R. Moldenke', 'Avdhesh Kumar', 'Klaus Schönitzer', 'Oskar Vogt', 'Elizabeth Morris Exley', 'Hans Bänziger', 'Wan He', 'Evandson José dos Anjos-Silva', 'Judith [Judy] King', 'Makoto Shiokawa', 'Hywel Roberts', 'Bo G. Svensson', 'Ana Rita Gonçalves', 'Gerald Hölzler', 'Juan Pablo Torretta', 'Jessica Janjic', 'Daniele R. Parizotto', 'Michael Terzo', 'Hideo Takahashi', 'Howell Vann Daly, Jr.', 'Vladimir G. Radchenko', 'Anselm Kratochwil', 'Yoshito Haneda', 'Andreas Werner Ebmer', 'Carlos Balboa', 'Erwin Scheuchl', 'Felipe Vieira Freitas', 'Gérard Le Goff', 'Donald Burton Baker', 'Meiyo Munakata', 'Thomas Eltz', 'Connal D. Eardley', 'Francisco La Roche', 'Canan Hazir', 'Sandra M. Rehan', 'Elizabeth Chiappa', 'Hermanus Gerardus Maria Teunissen', 'Rocío Ana González-Vaquero', 'Rita I. Velez-Ruiz', 'Bryan Nicholas Danforth', 'Alice Barringer Mackie', 'Jiří Hadrava']\n",
      "\n",
      "\n"
     ]
    }
   ],
   "source": [
    "for i in range(len(df_li)):\n",
    "    print(\"Network\", i)\n",
    "    \n",
    "    density = nx.density(g_li[i])\n",
    "    print(\"Network density:\", round(density*100, 1), \"%\")\n",
    "    \n",
    "    triadic_closure = nx.transitivity(g_li[i])\n",
    "    print(\"Triadic closure:\", round(triadic_closure*100, 1), \"%\")\n",
    "    \n",
    "    # Get subgraphs\n",
    "    subgraphs = [c for c in sorted(nx.connected_components(g_li[i]), key=len, reverse=True)]\n",
    "    print(\"Number of subgraphs:\", len(subgraphs))\n",
    "    \n",
    "    # Largest component\n",
    "    components = nx.connected_components(g_li[i])\n",
    "    largest_component = max(components, key=len) # max number of nodes\n",
    "\n",
    "    # Create a \"subgraph\" of just the largest component\n",
    "    # Then calculate the diameter of the subgraph, just like you did with density.\n",
    "    subgraph = g_li[i].subgraph(largest_component)\n",
    "    diameter = nx.diameter(subgraph)\n",
    "    print(\"Network diameter of largest component:\", diameter)\n",
    "    \n",
    "    print([v[0] for v in g_li[i].nodes(data=True)])\n",
    "    \n",
    "    \n",
    "    print(\"\\n\")"
   ]
  }
 ],
 "metadata": {
  "kernelspec": {
   "display_name": "Python 3",
   "language": "python",
   "name": "python3"
  },
  "language_info": {
   "codemirror_mode": {
    "name": "ipython",
    "version": 3
   },
   "file_extension": ".py",
   "mimetype": "text/x-python",
   "name": "python",
   "nbconvert_exporter": "python",
   "pygments_lexer": "ipython3",
   "version": "3.9.1"
  }
 },
 "nbformat": 4,
 "nbformat_minor": 2
}
