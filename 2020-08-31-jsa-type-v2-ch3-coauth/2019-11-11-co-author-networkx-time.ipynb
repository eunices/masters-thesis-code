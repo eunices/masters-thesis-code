{
 "cells": [
  {
   "cell_type": "markdown",
   "metadata": {},
   "source": [
    "# Network analysis for coauthors - network through time\n",
    "\n",
    "This looks at how the network changes through time with network metrics."
   ]
  },
  {
   "cell_type": "code",
   "execution_count": 1,
   "metadata": {},
   "outputs": [
    {
     "name": "stdout",
     "output_type": "stream",
     "text": [
      "The history saving thread hit an unexpected error (DatabaseError('database disk image is malformed')).History will not be written to the database.\n"
     ]
    }
   ],
   "source": [
    "%load_ext autoreload\n",
    "%autoreload 2\n",
    "\n",
    "from src import util as u\n",
    "\n",
    "import pandas as pd\n",
    "from functools import reduce\n",
    "import operator\n",
    "import networkx as nx"
   ]
  },
  {
   "cell_type": "code",
   "execution_count": 2,
   "metadata": {},
   "outputs": [],
   "source": [
    "nodes = pd.read_csv(u.fn_nodes)"
   ]
  },
  {
   "cell_type": "code",
   "execution_count": 3,
   "metadata": {},
   "outputs": [],
   "source": [
    "# Import author data with dates\n",
    "start = 1758\n",
    "end = 2018\n",
    "years = end-start\n",
    "timepoints = 4\n",
    "interval = round(years/3, 0)\n",
    "year1= start + interval*1\n",
    "year2= start + interval*2"
   ]
  },
  {
   "cell_type": "code",
   "execution_count": 4,
   "metadata": {},
   "outputs": [
    {
     "name": "stdout",
     "output_type": "stream",
     "text": [
      "1758 1845.0\n",
      "1845.0 1932.0\n",
      "1932.0 2018\n"
     ]
    }
   ],
   "source": [
    "print(start, year1)\n",
    "print(year1, year2) # postal mail invented\n",
    "print(year2, end)   # airlines invested"
   ]
  },
  {
   "cell_type": "code",
   "execution_count": 5,
   "metadata": {},
   "outputs": [
    {
     "name": "stderr",
     "output_type": "stream",
     "text": [
      "/home/ejysoh/miniconda3/envs/msc/lib/python3.9/site-packages/IPython/core/interactiveshell.py:3337: DtypeWarning: Columns (22,30,60,61,65,86,89,106,117) have mixed types.Specify dtype option on import or set low_memory=False.\n",
      "  if (await self.run_code(code, result,  async_=asy)):\n",
      "/mnt/c/_dev/msc/thesis/2020-08-31-jsa-type-v2-ch3-coauth/src/util.py:35: UserWarning: Boolean Series key will be reindexed to match DataFrame index.\n",
      "  spp = spp[~spp['duplicated']][\n"
     ]
    }
   ],
   "source": [
    "auth = u.get_spp_df()\n",
    "auth = auth.drop(columns=['status'])\n",
    "\n",
    "\n",
    "auth1 = auth[(auth['date'] >= start) & (auth['date']  < year1)][['idx', 'full_name_of_describer']]\n",
    "auth2 = auth[(auth['date'] >= year1) & (auth['date']  < year2)][['idx', 'full_name_of_describer']]\n",
    "auth3 = auth[(auth['date'] >= year2) & (auth['date']  <= end)][['idx', 'full_name_of_describer']]\n",
    "\n",
    "df_li =  [auth1, auth2, auth3]\n",
    "df_li = [x.groupby('idx')['full_name_of_describer'].apply(lambda x: \"%s\" % '; '.join(x)) for x in df_li]"
   ]
  },
  {
   "cell_type": "code",
   "execution_count": 6,
   "metadata": {},
   "outputs": [],
   "source": [
    "# Get pairs\n",
    "\n",
    "def li_pairs(source):\n",
    "    source = str.split(source, \"; \")\n",
    "    result = []\n",
    "    N = len(source)\n",
    "    if (N <= 1):\n",
    "        return [(source[0], None)]\n",
    "    else:\n",
    "\n",
    "        for p1 in range(N):\n",
    "            for p2 in range(p1+1,len(source)):\n",
    "                    result.append((source[p1],source[p2]))\n",
    "        return result\n"
   ]
  },
  {
   "cell_type": "code",
   "execution_count": 7,
   "metadata": {},
   "outputs": [
    {
     "name": "stdout",
     "output_type": "stream",
     "text": [
      "Ricardo Ayala Barajas; Michael Scott Engel\n",
      "[('Ricardo Ayala Barajas', 'Michael Scott Engel')]\n",
      "[('Earle Gorton Linsley', 'John Winslow MacSwain')]\n"
     ]
    }
   ],
   "source": [
    "print(df_li[2].iloc[2])\n",
    "print(li_pairs(df_li[2].iloc[2]))\n",
    "print(li_pairs(df_li[2].iloc[63]))"
   ]
  },
  {
   "cell_type": "code",
   "execution_count": 8,
   "metadata": {},
   "outputs": [],
   "source": [
    "df_li = [x.apply(lambda x: li_pairs(x)) for x in df_li]"
   ]
  },
  {
   "cell_type": "code",
   "execution_count": 9,
   "metadata": {},
   "outputs": [],
   "source": [
    "li = [[] for i in range(3)]\n",
    "for i in range(len(df_li)):\n",
    "    df = df_li[i]\n",
    "    for j, row in df.iteritems():\n",
    "        li[i].append(row[0])"
   ]
  },
  {
   "cell_type": "code",
   "execution_count": 10,
   "metadata": {},
   "outputs": [],
   "source": [
    "df_li = [pd.DataFrame(x, columns=['p1', 'p2']) for x in li]\n",
    "df_li = [pd.DataFrame(x).groupby(['p1', 'p2']).size() for x in df_li]\n",
    "df_li = [x.reset_index() for x in df_li]"
   ]
  },
  {
   "cell_type": "code",
   "execution_count": 11,
   "metadata": {},
   "outputs": [],
   "source": [
    "def get_edges(df):\n",
    "    edges = []\n",
    "    for i, row in df.iterrows():\n",
    "        edges.append((row.p1, row.p2, row[0]))\n",
    "    return edges"
   ]
  },
  {
   "cell_type": "code",
   "execution_count": 12,
   "metadata": {},
   "outputs": [],
   "source": [
    "df_li = [get_edges(df) for df in df_li]"
   ]
  },
  {
   "cell_type": "code",
   "execution_count": 13,
   "metadata": {},
   "outputs": [],
   "source": [
    "def get_node_names(edges):\n",
    "    all_node_names = []\n",
    "    all_node_names = [all_node_names + [e[0], e[1]] for e in edges]\n",
    "    all_node_names = reduce(operator.add, all_node_names)\n",
    "    return set(all_node_names)"
   ]
  },
  {
   "cell_type": "code",
   "execution_count": 14,
   "metadata": {},
   "outputs": [],
   "source": [
    "node_names = [get_node_names(df) for df in df_li]"
   ]
  },
  {
   "cell_type": "code",
   "execution_count": 15,
   "metadata": {},
   "outputs": [],
   "source": [
    "# Load into graph\n",
    "g_li = [nx.Graph() for x in range(3)]\n",
    "for i in range(len(df_li)):\n",
    "\n",
    "    g_li[i].add_nodes_from(node_names[i])\n",
    "    g_li[i].add_weighted_edges_from(df_li[i])"
   ]
  },
  {
   "cell_type": "code",
   "execution_count": 16,
   "metadata": {
    "scrolled": false
   },
   "outputs": [
    {
     "name": "stdout",
     "output_type": "stream",
     "text": [
      "Network 0\n",
      "Network density: 33.3 %\n",
      "Triadic closure: 0 %\n",
      "Number of subgraphs: 2\n",
      "Network diameter of largest component: 1\n",
      "['[Jean-Pierre Omer Anne] Édouard Perris', 'Amédée Louis Michel le Peletier, comte de Saint-Fargeau', 'Jean Guillaume Audinet-Serville', 'Léon [Jean Marie] Dufour']\n",
      "\n",
      "\n",
      "Network 1\n",
      "Network density: 4.3 %\n",
      "Triadic closure: 0 %\n",
      "Number of subgraphs: 10\n",
      "Network diameter of largest component: 3\n",
      "['Beulah Hix Blair', 'Louis Jérôme Reiche', 'Jessie E. Casad', 'Theodore Dru Alison Cockerell', 'James Fletcher', 'Joseph Charles Bequaert', 'Myron Harmon Swenk', 'Franz von Wagner', 'Karl Wilhelm von Dalla Torre', 'Lucy Evelyn Cheesman', 'Charles H. Hicks', 'G. Trautmann', 'Philip Hunter Timberlake', 'Heinrich Friedrich August Karl Ludwig Friese', 'Otto Emil Plath', 'Woldemar Trautmann', 'Edward Sharpe Gaige Titus', 'Hans Bischoff', 'Norma Ebolie LeVeque', 'Sievert Allen Rohwer', 'Grace Adelbert Sandhouse', 'Léon Marc Herminie Fairmaire', 'Ruth Sumner', 'Kurt [Curt] Schrottky', 'Hans [Franz Paul] Hedicke', 'Tohru Uchida', 'Arnaldo de Winkelried Bertoni', 'James Chamberlain Crawford', 'Arthur Gibson', 'Robert Cyril Layton Perkins', 'Henry Lorenz Viereck', 'Wilmatte Porter Cockerell', 'Shōnen Matsumura', 'John Harvey Lovell']\n",
      "\n",
      "\n",
      "Network 2\n",
      "Network density: 0.7 %\n",
      "Triadic closure: 5.7 %\n",
      "Number of subgraphs: 40\n",
      "Network diameter of largest component: 12\n",
      "['Ya Tang', 'Bangyu Kuang', 'Shôichi F. Sakagami', 'Michael Terzo', 'Herbert Ferlando Schwarz', 'Volker Mauss', \"Asya Anatol'evna Ponomareva\", 'Paola Marchi', 'Clemens Schlindwein', 'Beatriz Woiski Teixeira Coelho', 'Gérard Le Goff', 'Luiz R. R. Faria', 'Sundar Lal Sharma', 'Frank D. Parker', 'John L. [Jack] Neff', 'Embrik Strand', 'Misaki Abe', 'Michael P. Schwarz', 'John Stoskopf Ascher', 'Michael Kuhlmann', 'Victor Cabezas', 'Gerd Knerer', 'Rafael Rodrigues Ferrari', 'Joan G. Ehrenfeld', 'I-Hsin Sung', 'Bryan Nicholas Danforth', 'Philip Hunter Timberlake', 'Makoto Kato', 'Roy R. Snelling', 'Marco Antônio Costa', 'Rodulfo Ospina-Torres', 'Gideon Pisanty', 'Abdulaziz S. Alqarni', 'Jessica [Jesse] Litman', 'Hai-rong Huang', 'Gabriel Augusto Rodrigues de Melo', 'Leif D. Deyrup', 'Barrett Anthony Klein', 'Thiago Mahlmann', 'Zewdu Ararso Hora', 'Arturo Roig-Alsina', 'Juan Pablo Torretta', 'Ellen Ordway', 'Robbin W. Thorp', 'Guaraci Duran Cordeiro', 'Kimio Yoshikawa', 'Ryôsuke Ishikawa', 'Klaus Standfuss', 'Nadia S. Gibran', 'Hermanus Gerardus Maria Teunissen', 'Andreas Bertsch', 'Mohamed Shebl', 'Alejandro Parra-H', 'Yasuo Maeta', 'Paul Hugh Williams', 'Andreas Müller', 'Victor Hugo Gonzalez', 'Osamu Tadauchi', 'M. Herrera', 'Carlos Alberto Campos Seabra', 'Charles Duncan Michener', 'Manfredo A. Fritz', 'Fernando César Vieira Zanella', 'Leslie J. Lollin', 'Ahmad Nadimi', 'Pia Oremek', 'Zach M. Portman', 'Canan Hazir', 'Meiyo Munakata', 'Jakub Straka', 'Robert W. Brooks', 'Jerome George Rozen, Jr.', 'Charlotte Skov', 'Masashi Goubara', 'Paul Westrich', 'Sydney G. Cannings', 'Thomas J. Zavortink', 'Jorge M. González', 'Alina Nilovna Kupianskaya', 'V. K. Tewari', 'T. Jobiraj', 'Glynn Vivian Maynard', 'Sherlem Patricia de Seixas Felizardo', 'Suzanne Willington Tubby Batra', 'Dieter Wittmann', 'Kelli dos Santos Ramos', 'Vladimir Veniaminovich Popov', 'Jiří Hadrava', 'Thomas Eltz', 'Maria Christina de Almeida', 'Jesus Santiago Moure', 'Holger Heinrich Dathe', 'Mohammed A. Hannan', 'Sheila Dumesh', 'Louise M. Ireland', 'Shashidhar Viraktamath', 'Favízia Freitas de Oliveira', 'K. Sajan Jose', 'Jérôme Munzinger', 'Vincent Booth Whitehead', 'Yoshito Haneda', 'Léo Correia da Rocha Filho', 'Kim Timmermann', 'Ian Cross', 'Xuan Chen', 'Juan M. Labougle', 'Rocío Ana González-Vaquero', 'Terry L. Griswold', 'Fresia Rojas [Alvarez]', 'Rui Zhang', 'Roderic B. Martines', 'Michael Batley', 'Jan Smit', 'Patrícia Maia Correia de Albuquerque', 'David W. Baldock', 'Elizabeth Morris Exley', 'Oskar Vogt', 'Fernando Amaral da Silveira', 'Ardeshir Ariana', 'Cindy Julieth Celis', 'Gerald [Jerry] Irving Stage', 'Gaurav Sharma', 'Remko Leijs [or Leys]', 'Allan Henry Smith-Pardo', 'Thomas James Wood', 'Marco A. Gaiani', 'Yan-ru Wu', 'Korrawat Attasopa', 'Luisa Ruz', 'Erin Willis', 'Bo G. Svensson', 'Francisco La Roche', 'Silvana P. Durante', 'Albert A. Grigarick', 'Chao-dong Zhu', 'Daniele R. Parizotto', 'Prerna Chandel', 'Evandson José dos Anjos-Silva', 'Kees [Cornelius] van Achterberg', 'Paul David Hurd, Jr.', 'Juan Carlos Sandino-Franco', 'Lionel Alvin Stange', 'Lucy Evelyn Cheesman', 'Hywel Roberts', 'T. C. Narendran', 'John Keith Bouseman', 'Ricardo Ayala Barajas', 'Andreas Werner Ebmer', 'David A. Tanner', 'Ismael Alejandro Hinojosa-Díaz', \"Nina Grigo'yevna Davydova\", 'Luis A. Compagnucci', 'Alice Barringer Mackie', 'Carl Edmund Atwood', 'José Eustáquio dos Santos Júnior', 'Sebastião Laroca', 'José Ricardo Cure', 'Jessica Janjic', 'Salvatore Vicidomini', 'Makoto Shiokawa', 'Cory Silas Sheffield', 'Ataur Rahman', 'Wallace Edmund LaBerge', 'George Edward [Ned] Bohart', 'Sharon Rodríguez', 'Shusaburo Tamasawa', 'Terry Francis Houston', 'N. P. Chopra', 'Andrew R. Moldenke', 'Danny Vélez', 'Haroldo Toro [Guttierez]', 'Fritz Josef [Friedrich] Gusenleitner', 'Edinaldo Luz das Neves', 'Ali Asghar Talebi', 'Giuseppe Fabrizio Turrisi', 'Keizô Yasumatsu', 'Rita I. Velez-Ruiz', 'Timofey Victorovich Levchenko', 'André Nemésio', 'Achik Dorchin', 'Karl Mazzucco', 'Suniti Tomar', 'John Winslow MacSwain', 'Konrad Schmidt', 'Wan He', 'Warwick Estevam Kerr', 'Deborah Roan Smith', 'Maximilian Schwarz', 'I. H. Syed', 'Rodrigo Barbosa Gonçalves', 'Sandra M. Rehan', 'Mariano Lucia', 'Benjamin Bembé', 'Ryuki Murao', 'Kim E. Steiner', 'Francisco Javier Ortiz-Sánchez', 'Robert Louis Dressler', 'Robert Cyril Layton Perkins', 'Anne E. Dollin', 'Yulia V. Astafurova', 'Elizabeth Chiappa', 'Julio Antonio Genaro', 'Simon M. Tierney', 'Gerhard K. H. Przemeck', 'Boris O. Schlumpberger', 'Sabita Simlote', 'Alexsander A. Azevedo', 'Katja Hogendoorn', 'Alexander Lall', 'Hideo Takahashi', 'Tatiana G. Romankova', 'Harlan Glenn Hall', 'Sarah Whitman-Mascherini', 'Betânia Truylio', 'Klaus Schönitzer', 'José Manuel Macário Rebêlo', 'Guanhuang Yang', 'Connal D. Eardley', 'Barry James Donovan', 'Vinalto Graf', 'Sergey P. Ivanov', 'Chang-Whan Kim', 'Claus Rasmussen', 'Alain Pauly', 'Karl Nicholas Magnacca', 'David W. Ribble', 'Katsushi Mitai', 'Donald Burton Baker', 'Maurits Anne Lieftinck', 'Leah LaPerle Larkin', 'Fabrício R. Santos', 'João Maria Franco de Camargo', 'Carlos Hernan Vergara', 'Ana Rita Gonçalves', 'Daniel H. Tapia', 'David Ward Roubik', 'Pierre Rasmont', 'Maxim Yurievich Proshchalykin', 'Arkady S. Lelej', 'Jorge Arturo Lobo Segura', 'B. Lucas de Oliveira', 'Vinita Sharma', 'Leopoldo J. Alvarez', 'Paula A. Sepúlveda', 'Marina Siqueira de Castro', 'Petr Bogusch', 'Sébastien Patiny', 'Yoshihiro Hirashima', 'Qiang Li', 'Natapot Warrit', 'M. L. Thakur', 'Eduardo Andrade Botelho de Almeida', 'Judith [Judy] King', 'Denis Michez', 'Jian-guo Fan', 'Rodrigo da Cunha', 'Thomas J. Pohl', 'Antonio José Camillo Aguiar', 'Theodore Dru Alison Cockerell', 'Michael Scott Engel', 'Andreas Dubitzky', 'Takeshi Matsumura', 'Y. B. Soukontoua', 'Danúncia Urban', 'Robert Wilhelm Grünwaldt', 'Somnuk Boongird', 'Tamiji Inoue', 'Laurence Packer', 'Shuichi Ikudome', 'Randall Hepburn', 'Alvin Fleetwood Shinn', 'Meeta Tomar', 'Christophe J. Praz', 'Mi-Lyang Kim', 'Erwin Scheuchl', 'Rajiv K. Gupta', 'Anna Zakharovna Osytshnjuk', 'Michael Christopher Orr', 'Rosalind Patricia Urban', 'Cécile Vogt', 'Alberto H. Abrahamovich', 'María Fernanda Rodríguez', 'Jason Gibbs', 'Mark Amidon Deyrup', 'Howell Vann Daly, Jr.', 'Stephen Gavilan Reyes', 'Ze-qing Niu', 'Yuriy Andreyevich Pesenko', 'Vladimir G. Radchenko', 'Richard W. Rust', 'Carlos Balboa', 'Noudjoud Benarfa', 'Stefan Vogel', 'Molly Greer Rightmyer', 'Kenneth L. Walker', 'William T. [Bill] Wcislo', 'Earle Gorton Linsley', 'Masao Ito', 'Marcio Luiz de Oliveira', 'Huan-li Xu', 'Silvia Regina de Menezes Pedro', 'Leandro Mattos Santos', 'Wensdae Miller', 'Felipe Vivallo [Felipe Rodrigo Vivallo Martínez]', 'Felipe Vieira Freitas', 'Renee M. Borges', 'Jelle Devalez', 'Ryôichi Miyanaga', 'Avdhesh Kumar', 'Vittorio Nobile', 'Gerald Hölzler', 'Birgit Harter-Marques', 'Edgard Cédric Fabre Anguilet', 'Hans Bänziger', 'Radclyffe Burnand Roberts', 'Anselm Kratochwil']\n",
      "\n",
      "\n"
     ]
    }
   ],
   "source": [
    "for i in range(len(df_li)):\n",
    "    print(\"Network\", i)\n",
    "    \n",
    "    density = nx.density(g_li[i])\n",
    "    print(\"Network density:\", round(density*100, 1), \"%\")\n",
    "    \n",
    "    triadic_closure = nx.transitivity(g_li[i])\n",
    "    print(\"Triadic closure:\", round(triadic_closure*100, 1), \"%\")\n",
    "    \n",
    "    # Get subgraphs\n",
    "    subgraphs = [c for c in sorted(nx.connected_components(g_li[i]), key=len, reverse=True)]\n",
    "    print(\"Number of subgraphs:\", len(subgraphs))\n",
    "    \n",
    "    # Largest component\n",
    "    components = nx.connected_components(g_li[i])\n",
    "    largest_component = max(components, key=len) # max number of nodes\n",
    "\n",
    "    # Create a \"subgraph\" of just the largest component\n",
    "    # Then calculate the diameter of the subgraph, just like you did with density.\n",
    "    subgraph = g_li[i].subgraph(largest_component)\n",
    "    diameter = nx.diameter(subgraph)\n",
    "    print(\"Network diameter of largest component:\", diameter)\n",
    "    \n",
    "    print([v[0] for v in g_li[i].nodes(data=True)])\n",
    "    \n",
    "    \n",
    "    print(\"\\n\")"
   ]
  }
 ],
 "metadata": {
  "kernelspec": {
   "display_name": "Python 3",
   "language": "python",
   "name": "python3"
  },
  "language_info": {
   "codemirror_mode": {
    "name": "ipython",
    "version": 3
   },
   "file_extension": ".py",
   "mimetype": "text/x-python",
   "name": "python",
   "nbconvert_exporter": "python",
   "pygments_lexer": "ipython3",
   "version": "3.9.1"
  }
 },
 "nbformat": 4,
 "nbformat_minor": 2
}
