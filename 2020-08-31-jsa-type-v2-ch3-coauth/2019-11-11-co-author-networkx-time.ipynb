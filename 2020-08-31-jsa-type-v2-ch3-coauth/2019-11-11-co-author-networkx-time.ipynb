{
 "cells": [
  {
   "cell_type": "markdown",
   "metadata": {},
   "source": [
    "# Network analysis for coauthors - network through time\n",
    "\n",
    "This looks at how the network changes through time with network metrics."
   ]
  },
  {
   "cell_type": "code",
   "execution_count": 1,
   "metadata": {},
   "outputs": [
    {
     "name": "stdout",
     "output_type": "stream",
     "text": [
      "The history saving thread hit an unexpected error (DatabaseError('database disk image is malformed')).History will not be written to the database.\n"
     ]
    }
   ],
   "source": [
    "%load_ext autoreload\n",
    "%autoreload 2\n",
    "\n",
    "from src import util as u\n",
    "\n",
    "import pandas as pd\n",
    "from functools import reduce\n",
    "import operator\n",
    "import networkx as nx"
   ]
  },
  {
   "cell_type": "code",
   "execution_count": 2,
   "metadata": {},
   "outputs": [],
   "source": [
    "nodes = pd.read_csv(u.fn_nodes)"
   ]
  },
  {
   "cell_type": "code",
   "execution_count": 3,
   "metadata": {},
   "outputs": [],
   "source": [
    "# Import author data with dates\n",
    "start = 1758\n",
    "end = 2018\n",
    "years = end-start\n",
    "timepoints = 4\n",
    "interval = round(years/3, 0)\n",
    "year1= start + interval*1\n",
    "year2= start + interval*2"
   ]
  },
  {
   "cell_type": "code",
   "execution_count": 4,
   "metadata": {},
   "outputs": [
    {
     "name": "stdout",
     "output_type": "stream",
     "text": [
      "1758 1845.0\n",
      "1845.0 1932.0\n",
      "1932.0 2018\n"
     ]
    }
   ],
   "source": [
    "print(start, year1)\n",
    "print(year1, year2) # postal mail invented\n",
    "print(year2, end)   # airlines invested"
   ]
  },
  {
   "cell_type": "code",
   "execution_count": 5,
   "metadata": {},
   "outputs": [
    {
     "name": "stderr",
     "output_type": "stream",
     "text": [
      "/home/ejysoh/miniconda3/envs/msc/lib/python3.9/site-packages/IPython/core/interactiveshell.py:3337: DtypeWarning: Columns (22,30,60,61,65,86,89,106,117) have mixed types.Specify dtype option on import or set low_memory=False.\n",
      "  if (await self.run_code(code, result,  async_=asy)):\n",
      "/mnt/c/_dev/msc/thesis/2020-08-31-jsa-type-v2-ch3-coauth/src/util.py:35: UserWarning: Boolean Series key will be reindexed to match DataFrame index.\n",
      "  spp = spp[~spp['duplicated']][\n"
     ]
    }
   ],
   "source": [
    "auth = u.get_spp_df()\n",
    "auth = auth.drop(columns=['status'])\n",
    "\n",
    "\n",
    "auth1 = auth[(auth['date'] >= start) & (auth['date']  < year1)][['idx', 'full_name_of_describer']]\n",
    "auth2 = auth[(auth['date'] >= year1) & (auth['date']  < year2)][['idx', 'full_name_of_describer']]\n",
    "auth3 = auth[(auth['date'] >= year2) & (auth['date']  <= end)][['idx', 'full_name_of_describer']]\n",
    "\n",
    "df_li =  [auth1, auth2, auth3]\n",
    "df_li = [x.groupby('idx')['full_name_of_describer'].apply(lambda x: \"%s\" % '; '.join(x)) for x in df_li]"
   ]
  },
  {
   "cell_type": "code",
   "execution_count": 6,
   "metadata": {},
   "outputs": [],
   "source": [
    "# Get pairs\n",
    "\n",
    "def li_pairs(source):\n",
    "    source = str.split(source, \"; \")\n",
    "    result = []\n",
    "    N = len(source)\n",
    "    if (N <= 1):\n",
    "        return [(source[0], None)]\n",
    "    else:\n",
    "\n",
    "        for p1 in range(N):\n",
    "            for p2 in range(p1+1,len(source)):\n",
    "                    result.append((source[p1],source[p2]))\n",
    "        return result\n"
   ]
  },
  {
   "cell_type": "code",
   "execution_count": 7,
   "metadata": {},
   "outputs": [
    {
     "name": "stdout",
     "output_type": "stream",
     "text": [
      "Ricardo Ayala Barajas; Michael Scott Engel\n",
      "[('Ricardo Ayala Barajas', 'Michael Scott Engel')]\n",
      "[('Earle Gorton Linsley', 'John Winslow MacSwain')]\n"
     ]
    }
   ],
   "source": [
    "print(df_li[2].iloc[2])\n",
    "print(li_pairs(df_li[2].iloc[2]))\n",
    "print(li_pairs(df_li[2].iloc[63]))"
   ]
  },
  {
   "cell_type": "code",
   "execution_count": 8,
   "metadata": {},
   "outputs": [],
   "source": [
    "df_li = [x.apply(lambda x: li_pairs(x)) for x in df_li]"
   ]
  },
  {
   "cell_type": "code",
   "execution_count": 9,
   "metadata": {},
   "outputs": [],
   "source": [
    "li = [[] for i in range(3)]\n",
    "for i in range(len(df_li)):\n",
    "    df = df_li[i]\n",
    "    for j, row in df.iteritems():\n",
    "        li[i].append(row[0])"
   ]
  },
  {
   "cell_type": "code",
   "execution_count": 10,
   "metadata": {},
   "outputs": [],
   "source": [
    "df_li = [pd.DataFrame(x, columns=['p1', 'p2']) for x in li]\n",
    "df_li = [pd.DataFrame(x).groupby(['p1', 'p2']).size() for x in df_li]\n",
    "df_li = [x.reset_index() for x in df_li]"
   ]
  },
  {
   "cell_type": "code",
   "execution_count": 11,
   "metadata": {},
   "outputs": [],
   "source": [
    "def get_edges(df):\n",
    "    edges = []\n",
    "    for i, row in df.iterrows():\n",
    "        edges.append((row.p1, row.p2, row[0]))\n",
    "    return edges"
   ]
  },
  {
   "cell_type": "code",
   "execution_count": 12,
   "metadata": {},
   "outputs": [],
   "source": [
    "df_li = [get_edges(df) for df in df_li]"
   ]
  },
  {
   "cell_type": "code",
   "execution_count": 13,
   "metadata": {},
   "outputs": [],
   "source": [
    "def get_node_names(edges):\n",
    "    all_node_names = []\n",
    "    all_node_names = [all_node_names + [e[0], e[1]] for e in edges]\n",
    "    all_node_names = reduce(operator.add, all_node_names)\n",
    "    return set(all_node_names)"
   ]
  },
  {
   "cell_type": "code",
   "execution_count": 14,
   "metadata": {},
   "outputs": [],
   "source": [
    "node_names = [get_node_names(df) for df in df_li]"
   ]
  },
  {
   "cell_type": "code",
   "execution_count": 15,
   "metadata": {},
   "outputs": [],
   "source": [
    "# Load into graph\n",
    "g_li = [nx.Graph() for x in range(3)]\n",
    "for i in range(len(df_li)):\n",
    "\n",
    "    g_li[i].add_nodes_from(node_names[i])\n",
    "    g_li[i].add_weighted_edges_from(df_li[i])"
   ]
  },
  {
   "cell_type": "code",
   "execution_count": 16,
   "metadata": {
    "scrolled": false
   },
   "outputs": [
    {
     "name": "stdout",
     "output_type": "stream",
     "text": [
      "Network 0\n",
      "Network density: 33.3 %\n",
      "Triadic closure: 0 %\n",
      "Number of subgraphs: 2\n",
      "Network diameter of largest component: 1\n",
      "['Léon [Jean Marie] Dufour', 'Jean Guillaume Audinet-Serville', 'Amédée Louis Michel le Peletier, comte de Saint-Fargeau', '[Jean-Pierre Omer Anne] Édouard Perris']\n",
      "\n",
      "\n",
      "Network 1\n",
      "Network density: 4.3 %\n",
      "Triadic closure: 0 %\n",
      "Number of subgraphs: 10\n",
      "Network diameter of largest component: 3\n",
      "['Kurt [Curt] Schrottky', 'Grace Adelbert Sandhouse', 'Heinrich Friedrich August Karl Ludwig Friese', 'Joseph Charles Bequaert', 'Hans [Franz Paul] Hedicke', 'Woldemar Trautmann', 'Charles H. Hicks', 'Ruth Sumner', 'G. Trautmann', 'Karl Wilhelm von Dalla Torre', 'Arnaldo de Winkelried Bertoni', 'Beulah Hix Blair', 'Arthur Gibson', 'James Fletcher', 'Myron Harmon Swenk', 'Robert Cyril Layton Perkins', 'Theodore Dru Alison Cockerell', 'Henry Lorenz Viereck', 'Sievert Allen Rohwer', 'Wilmatte Porter Cockerell', 'Philip Hunter Timberlake', 'Tohru Uchida', 'Norma Ebolie LeVeque', 'Franz von Wagner', 'Léon Marc Herminie Fairmaire', 'Lucy Evelyn Cheesman', 'Otto Emil Plath', 'James Chamberlain Crawford', 'Jessie E. Casad', 'Hans Bischoff', 'Louis Jérôme Reiche', 'Edward Sharpe Gaige Titus', 'John Harvey Lovell', 'Shōnen Matsumura']\n",
      "\n",
      "\n",
      "Network 2\n",
      "Network density: 0.7 %\n",
      "Triadic closure: 5.7 %\n",
      "Number of subgraphs: 40\n",
      "Network diameter of largest component: 12\n",
      "['Andreas Bertsch', 'Leopoldo J. Alvarez', 'Alina Nilovna Kupianskaya', 'Beatriz Woiski Teixeira Coelho', 'Jerome George Rozen, Jr.', 'David W. Ribble', 'Sydney G. Cannings', 'Meiyo Munakata', 'Herbert Ferlando Schwarz', 'Carl Edmund Atwood', 'M. Herrera', 'Vinalto Graf', 'Philip Hunter Timberlake', 'Zewdu Ararso Hora', 'Louise M. Ireland', 'Avdhesh Kumar', 'Ian Cross', 'K. Sajan Jose', 'Fritz Josef [Friedrich] Gusenleitner', 'Betânia Truylio', 'V. K. Tewari', 'Somnuk Boongird', 'Jakub Straka', 'Zach M. Portman', 'Suzanne Willington Tubby Batra', 'Albert A. Grigarick', 'Gabriel Augusto Rodrigues de Melo', 'Bryan Nicholas Danforth', 'Felipe Vivallo [Felipe Rodrigo Vivallo Martínez]', 'Hermanus Gerardus Maria Teunissen', 'Rodrigo da Cunha', 'Earle Gorton Linsley', 'Warwick Estevam Kerr', 'Huan-li Xu', 'Stephen Gavilan Reyes', 'N. P. Chopra', 'Daniele R. Parizotto', 'Molly Greer Rightmyer', 'Katsushi Mitai', 'Erin Willis', 'Fresia Rojas [Alvarez]', 'Mohammed A. Hannan', 'Wan He', 'Canan Hazir', 'Rocío Ana González-Vaquero', 'Denis Michez', 'Ellen Ordway', 'Alice Barringer Mackie', 'Marco A. Gaiani', \"Nina Grigo'yevna Davydova\", 'John Keith Bouseman', 'Kelli dos Santos Ramos', 'Bo G. Svensson', 'Robert Louis Dressler', 'Ryuki Murao', 'Francisco Javier Ortiz-Sánchez', 'Korrawat Attasopa', 'Elizabeth Morris Exley', 'Hans Bänziger', 'Richard W. Rust', 'Terry Francis Houston', 'Carlos Balboa', 'Rita I. Velez-Ruiz', 'Shashidhar Viraktamath', 'Tamiji Inoue', 'Roderic B. Martines', 'Manfredo A. Fritz', 'Paul David Hurd, Jr.', 'Jessica Janjic', 'Makoto Shiokawa', 'Cécile Vogt', 'Vincent Booth Whitehead', 'Klaus Schönitzer', 'Hai-rong Huang', 'Michael Batley', 'Silvia Regina de Menezes Pedro', 'Robert W. Brooks', 'Victor Hugo Gonzalez', 'Fernando César Vieira Zanella', 'Keizô Yasumatsu', 'Andreas Werner Ebmer', 'Kimio Yoshikawa', 'B. Lucas de Oliveira', 'Fernando Amaral da Silveira', 'Cory Silas Sheffield', 'Rodrigo Barbosa Gonçalves', 'John Stoskopf Ascher', 'Sundar Lal Sharma', 'David Ward Roubik', 'Luisa Ruz', 'Lucy Evelyn Cheesman', 'Leah LaPerle Larkin', 'Barrett Anthony Klein', 'Leif D. Deyrup', 'Lionel Alvin Stange', 'Ali Asghar Talebi', 'Mohamed Shebl', 'I. H. Syed', 'Carlos Hernan Vergara', 'M. L. Thakur', 'Rajiv K. Gupta', 'Cindy Julieth Celis', 'Jesus Santiago Moure', 'Jan Smit', 'Y. B. Soukontoua', 'Guanhuang Yang', 'Ismael Alejandro Hinojosa-Díaz', 'Marcio Luiz de Oliveira', 'Dieter Wittmann', 'Robert Cyril Layton Perkins', 'Gerald Hölzler', 'Frank D. Parker', 'Paul Westrich', 'Xuan Chen', 'Kim Timmermann', 'Robert Wilhelm Grünwaldt', 'Jessica [Jesse] Litman', 'Gerd Knerer', 'Rui Zhang', 'Victor Cabezas', 'Chao-dong Zhu', 'Yoshito Haneda', 'Wallace Edmund LaBerge', 'Luiz R. R. Faria', 'I-Hsin Sung', 'Masao Ito', 'Robbin W. Thorp', 'Yulia V. Astafurova', 'Gerhard K. H. Przemeck', 'Charles Duncan Michener', 'Marina Siqueira de Castro', 'William T. [Bill] Wcislo', 'Renee M. Borges', 'Boris O. Schlumpberger', 'Francisco La Roche', 'Rodulfo Ospina-Torres', 'Michael Kuhlmann', 'Paul Hugh Williams', 'Hywel Roberts', 'Mariano Lucia', 'Prerna Chandel', 'Evandson José dos Anjos-Silva', 'Thomas James Wood', 'Patrícia Maia Correia de Albuquerque', 'Yuriy Andreyevich Pesenko', 'Christophe J. Praz', 'Judith [Judy] King', 'Vinita Sharma', 'Ryôsuke Ishikawa', 'Volker Mauss', 'Alvin Fleetwood Shinn', 'Shuichi Ikudome', 'Antonio José Camillo Aguiar', 'Jorge M. González', 'Jiří Hadrava', 'Luis A. Compagnucci', 'Remko Leijs [or Leys]', 'Salvatore Vicidomini', 'Yan-ru Wu', 'Makoto Kato', 'Sebastião Laroca', 'Danúncia Urban', 'Daniel H. Tapia', 'José Manuel Macário Rebêlo', 'Osamu Tadauchi', 'Gideon Pisanty', 'Pia Oremek', 'Julio Antonio Genaro', 'Mi-Lyang Kim', 'Vladimir G. Radchenko', 'Klaus Standfuss', 'Mark Amidon Deyrup', 'Gaurav Sharma', 'Hideo Takahashi', 'Alexsander A. Azevedo', 'Sergey P. Ivanov', 'Michael P. Schwarz', 'Jelle Devalez', 'Ze-qing Niu', 'Karl Nicholas Magnacca', 'Ardeshir Ariana', 'Charlotte Skov', 'Sarah Whitman-Mascherini', 'Jorge Arturo Lobo Segura', 'Thomas Eltz', 'Fabrício R. Santos', 'Anna Zakharovna Osytshnjuk', 'Misaki Abe', 'Ya Tang', 'Andrew R. Moldenke', 'Simon M. Tierney', 'Danny Vélez', 'Pierre Rasmont', 'Juan Pablo Torretta', 'Favízia Freitas de Oliveira', 'Arturo Roig-Alsina', 'Andreas Müller', 'David W. Baldock', 'Kenneth L. Walker', 'Oskar Vogt', 'Benjamin Bembé', 'Vladimir Veniaminovich Popov', 'Juan Carlos Sandino-Franco', 'Joan G. Ehrenfeld', 'Jérôme Munzinger', 'Erwin Scheuchl', 'Jason Gibbs', 'Yoshihiro Hirashima', 'Alexander Lall', 'John Winslow MacSwain', 'Sabita Simlote', 'Ahmad Nadimi', 'Embrik Strand', 'Silvana P. Durante', 'Michael Scott Engel', 'Sandra M. Rehan', 'Gérard Le Goff', 'Ricardo Ayala Barajas', 'Noudjoud Benarfa', 'Vittorio Nobile', 'Deborah Roan Smith', 'Felipe Vieira Freitas', 'Nadia S. Gibran', 'Sharon Rodríguez', 'Theodore Dru Alison Cockerell', 'T. Jobiraj', 'Ryôichi Miyanaga', 'Haroldo Toro [Guttierez]', 'Eduardo Andrade Botelho de Almeida', 'T. C. Narendran', 'Sébastien Patiny', 'Connal D. Eardley', 'Maria Christina de Almeida', 'Donald Burton Baker', 'Andreas Dubitzky', 'Leslie J. Lollin', 'David A. Tanner', 'Thiago Mahlmann', 'André Nemésio', 'Masashi Goubara', 'Shusaburo Tamasawa', 'Achik Dorchin', 'Jian-guo Fan', 'Katja Hogendoorn', 'Maxim Yurievich Proshchalykin', 'María Fernanda Rodríguez', 'Timofey Victorovich Levchenko', 'Barry James Donovan', 'Petr Bogusch', 'Alain Pauly', 'Qiang Li', 'Natapot Warrit', 'Tatiana G. Romankova', 'Karl Mazzucco', 'Léo Correia da Rocha Filho', 'Roy R. Snelling', 'Takeshi Matsumura', 'Alejandro Parra-H', 'Randall Hepburn', 'Carlos Alberto Campos Seabra', 'Wensdae Miller', 'Laurence Packer', 'Terry L. Griswold', 'Sheila Dumesh', 'Paula A. Sepúlveda', 'Bangyu Kuang', 'José Eustáquio dos Santos Júnior', 'Shôichi F. Sakagami', 'George Edward [Ned] Bohart', 'Guaraci Duran Cordeiro', \"Asya Anatol'evna Ponomareva\", 'Michael Terzo', 'Birgit Harter-Marques', 'Ana Rita Gonçalves', 'Kees [Cornelius] van Achterberg', 'Anne E. Dollin', 'Anselm Kratochwil', 'Konrad Schmidt', 'Michael Christopher Orr', 'Stefan Vogel', 'Claus Rasmussen', 'Radclyffe Burnand Roberts', 'Alberto H. Abrahamovich', 'Paola Marchi', 'Thomas J. Zavortink', 'Giuseppe Fabrizio Turrisi', 'Harlan Glenn Hall', 'Kim E. Steiner', 'Rosalind Patricia Urban', 'Chang-Whan Kim', 'Rafael Rodrigues Ferrari', 'Ataur Rahman', 'Holger Heinrich Dathe', 'Edinaldo Luz das Neves', 'John L. [Jack] Neff', 'Leandro Mattos Santos', 'Arkady S. Lelej', 'Sherlem Patricia de Seixas Felizardo', 'Allan Henry Smith-Pardo', 'João Maria Franco de Camargo', 'Meeta Tomar', 'Maurits Anne Lieftinck', 'Glynn Vivian Maynard', 'Maximilian Schwarz', 'Howell Vann Daly, Jr.', 'Clemens Schlindwein', 'José Ricardo Cure', 'Edgard Cédric Fabre Anguilet', 'Marco Antônio Costa', 'Juan M. Labougle', 'Yasuo Maeta', 'Suniti Tomar', 'Elizabeth Chiappa', 'Abdulaziz S. Alqarni', 'Gerald [Jerry] Irving Stage', 'Thomas J. Pohl']\n",
      "\n",
      "\n"
     ]
    }
   ],
   "source": [
    "for i in range(len(df_li)):\n",
    "    print(\"Network\", i)\n",
    "    \n",
    "    density = nx.density(g_li[i])\n",
    "    print(\"Network density:\", round(density*100, 1), \"%\")\n",
    "    \n",
    "    triadic_closure = nx.transitivity(g_li[i])\n",
    "    print(\"Triadic closure:\", round(triadic_closure*100, 1), \"%\")\n",
    "    \n",
    "    # Get subgraphs\n",
    "    subgraphs = [c for c in sorted(nx.connected_components(g_li[i]), key=len, reverse=True)]\n",
    "    print(\"Number of subgraphs:\", len(subgraphs))\n",
    "    \n",
    "    # Largest component\n",
    "    components = nx.connected_components(g_li[i])\n",
    "    largest_component = max(components, key=len) # max number of nodes\n",
    "\n",
    "    # Create a \"subgraph\" of just the largest component\n",
    "    # Then calculate the diameter of the subgraph, just like you did with density.\n",
    "    subgraph = g_li[i].subgraph(largest_component)\n",
    "    diameter = nx.diameter(subgraph)\n",
    "    print(\"Network diameter of largest component:\", diameter)\n",
    "    \n",
    "    print([v[0] for v in g_li[i].nodes(data=True)])\n",
    "    \n",
    "    \n",
    "    print(\"\\n\")"
   ]
  }
 ],
 "metadata": {
  "kernelspec": {
   "display_name": "Python 3",
   "language": "python",
   "name": "python3"
  },
  "language_info": {
   "codemirror_mode": {
    "name": "ipython",
    "version": 3
   },
   "file_extension": ".py",
   "mimetype": "text/x-python",
   "name": "python",
   "nbconvert_exporter": "python",
   "pygments_lexer": "ipython3",
   "version": "3.9.1"
  }
 },
 "nbformat": 4,
 "nbformat_minor": 2
}
