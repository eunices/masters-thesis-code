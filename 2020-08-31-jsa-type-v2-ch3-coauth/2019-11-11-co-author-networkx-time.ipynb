{
 "cells": [
  {
   "cell_type": "markdown",
   "metadata": {},
   "source": [
    "# Network analysis for coauthors - network through time\n",
    "\n",
    "This looks at how the network changes through time with network metrics."
   ]
  },
  {
   "cell_type": "code",
   "execution_count": 8,
   "metadata": {},
   "outputs": [
    {
     "name": "stdout",
     "output_type": "stream",
     "text": [
      "The autoreload extension is already loaded. To reload it, use:\n",
      "  %reload_ext autoreload\n"
     ]
    }
   ],
   "source": [
    "%load_ext autoreload\n",
    "%autoreload 2\n",
    "\n",
    "from src import util as u\n",
    "\n",
    "import pandas as pd\n",
    "from functools import reduce\n",
    "import operator\n",
    "import networkx as nx"
   ]
  },
  {
   "cell_type": "code",
   "execution_count": 9,
   "metadata": {},
   "outputs": [],
   "source": [
    "nodes = pd.read_csv(u.fn_nodes)"
   ]
  },
  {
   "cell_type": "code",
   "execution_count": 10,
   "metadata": {},
   "outputs": [],
   "source": [
    "# Import author data with dates\n",
    "start = 1758\n",
    "end = 2018\n",
    "years = end-start\n",
    "timepoints = 4\n",
    "interval = round(years/3, 0)\n",
    "year1= start + interval*1\n",
    "year2= start + interval*2"
   ]
  },
  {
   "cell_type": "code",
   "execution_count": 11,
   "metadata": {},
   "outputs": [
    {
     "name": "stdout",
     "output_type": "stream",
     "text": [
      "1758 1845.0\n",
      "1845.0 1932.0\n",
      "1932.0 2018\n"
     ]
    }
   ],
   "source": [
    "print(start, year1)\n",
    "print(year1, year2) # postal mail invented\n",
    "print(year2, end)   # airlines invested"
   ]
  },
  {
   "cell_type": "code",
   "execution_count": 18,
   "metadata": {},
   "outputs": [
    {
     "name": "stderr",
     "output_type": "stream",
     "text": [
      "/home/ejysoh/miniconda3/envs/msc/lib/python3.9/site-packages/IPython/core/interactiveshell.py:3337: DtypeWarning: Columns (22,30,60,61,65,86,89,106,117) have mixed types.Specify dtype option on import or set low_memory=False.\n",
      "  if (await self.run_code(code, result,  async_=asy)):\n",
      "/mnt/c/_dev/msc/thesis/2020-08-31-jsa-type-v2-ch3-coauth/src/util.py:35: UserWarning: Boolean Series key will be reindexed to match DataFrame index.\n",
      "  spp = spp[~spp['duplicated']][\n"
     ]
    }
   ],
   "source": [
    "auth = u.get_spp_df()\n",
    "auth = auth.drop(columns=['status'])\n",
    "\n",
    "\n",
    "auth1 = auth[(auth['date'] >= start) & (auth['date']  < year1)][['idx', 'full_name_of_describer']]\n",
    "auth2 = auth[(auth['date'] >= year1) & (auth['date']  < year2)][['idx', 'full_name_of_describer']]\n",
    "auth3 = auth[(auth['date'] >= year2) & (auth['date']  <= end)][['idx', 'full_name_of_describer']]\n",
    "\n",
    "df_li =  [auth1, auth2, auth3]\n",
    "df_li = [x.groupby('idx')['full_name_of_describer'].apply(lambda x: \"%s\" % '; '.join(x)) for x in df_li]"
   ]
  },
  {
   "cell_type": "code",
   "execution_count": 19,
   "metadata": {},
   "outputs": [],
   "source": [
    "# Get pairs\n",
    "\n",
    "def li_pairs(source):\n",
    "    source = str.split(source, \"; \")\n",
    "    result = []\n",
    "    N = len(source)\n",
    "    if (N <= 1):\n",
    "        return [(source[0], None)]\n",
    "    else:\n",
    "\n",
    "        for p1 in range(N):\n",
    "            for p2 in range(p1+1,len(source)):\n",
    "                    result.append((source[p1],source[p2]))\n",
    "        return result\n"
   ]
  },
  {
   "cell_type": "code",
   "execution_count": 20,
   "metadata": {},
   "outputs": [
    {
     "name": "stdout",
     "output_type": "stream",
     "text": [
      "Ricardo Ayala Barajas; Michael Scott Engel\n",
      "[('Ricardo Ayala Barajas', 'Michael Scott Engel')]\n",
      "[('Fritz Josef [Friedrich] Gusenleitner', 'Maximilian Schwarz')]\n"
     ]
    }
   ],
   "source": [
    "print(df_li[2].iloc[2])\n",
    "print(li_pairs(df_li[2].iloc[2]))\n",
    "print(li_pairs(df_li[2].iloc[63]))"
   ]
  },
  {
   "cell_type": "code",
   "execution_count": 21,
   "metadata": {},
   "outputs": [],
   "source": [
    "df_li = [x.apply(lambda x: li_pairs(x)) for x in df_li]"
   ]
  },
  {
   "cell_type": "code",
   "execution_count": 22,
   "metadata": {},
   "outputs": [],
   "source": [
    "li = [[] for i in range(3)]\n",
    "for i in range(len(df_li)):\n",
    "    df = df_li[i]\n",
    "    for j, row in df.iteritems():\n",
    "        li[i].append(row[0])"
   ]
  },
  {
   "cell_type": "code",
   "execution_count": 23,
   "metadata": {},
   "outputs": [],
   "source": [
    "df_li = [pd.DataFrame(x, columns=['p1', 'p2']) for x in li]\n",
    "df_li = [pd.DataFrame(x).groupby(['p1', 'p2']).size() for x in df_li]\n",
    "df_li = [x.reset_index() for x in df_li]"
   ]
  },
  {
   "cell_type": "code",
   "execution_count": 24,
   "metadata": {},
   "outputs": [],
   "source": [
    "def get_edges(df):\n",
    "    edges = []\n",
    "    for i, row in df.iterrows():\n",
    "        edges.append((row.p1, row.p2, row[0]))\n",
    "    return edges"
   ]
  },
  {
   "cell_type": "code",
   "execution_count": 25,
   "metadata": {},
   "outputs": [],
   "source": [
    "df_li = [get_edges(df) for df in df_li]"
   ]
  },
  {
   "cell_type": "code",
   "execution_count": 26,
   "metadata": {},
   "outputs": [],
   "source": [
    "def get_node_names(edges):\n",
    "    all_node_names = []\n",
    "    all_node_names = [all_node_names + [e[0], e[1]] for e in edges]\n",
    "    all_node_names = reduce(operator.add, all_node_names)\n",
    "    return set(all_node_names)"
   ]
  },
  {
   "cell_type": "code",
   "execution_count": 27,
   "metadata": {},
   "outputs": [],
   "source": [
    "node_names = [get_node_names(df) for df in df_li]"
   ]
  },
  {
   "cell_type": "code",
   "execution_count": 28,
   "metadata": {},
   "outputs": [],
   "source": [
    "# Load into graph\n",
    "g_li = [nx.Graph() for x in range(3)]\n",
    "for i in range(len(df_li)):\n",
    "\n",
    "    g_li[i].add_nodes_from(node_names[i])\n",
    "    g_li[i].add_weighted_edges_from(df_li[i])"
   ]
  },
  {
   "cell_type": "code",
   "execution_count": 29,
   "metadata": {
    "scrolled": false
   },
   "outputs": [
    {
     "name": "stdout",
     "output_type": "stream",
     "text": [
      "Network 0\n",
      "Network density: 33.3 %\n",
      "Triadic closure: 0 %\n",
      "Number of subgraphs: 2\n",
      "Network diameter of largest component: 1\n",
      "['Léon [Jean Marie] Dufour', '[Jean-Pierre Omer Anne] Édouard Perris', 'Jean Guillaume Audinet-Serville', 'Amédée Louis Michel le Peletier, comte de Saint-Fargeau']\n",
      "\n",
      "\n",
      "Network 1\n",
      "Network density: 4.0 %\n",
      "Triadic closure: 0 %\n",
      "Number of subgraphs: 11\n",
      "Network diameter of largest component: 3\n",
      "['Lucy Evelyn Cheesman', 'Mariano Lucia', 'Charles H. Hicks', 'Shōnen Matsumura', 'Arthur Gibson', 'Woldemar Trautmann', 'John Harvey Lovell', 'Wilmatte Porter Cockerell', 'Theodore Dru Alison Cockerell', 'Edward Sharpe Gaige Titus', 'Grace Adelbert Sandhouse', 'Franz von Wagner', 'Myron Harmon Swenk', 'Hans Bischoff', 'Henry Lorenz Viereck', 'Alberto H. Abrahamovich', 'Jessie E. Casad', 'Léon Marc Herminie Fairmaire', 'Ruth Sumner', 'Tohru Uchida', 'Karl Wilhelm von Dalla Torre', 'Otto Emil Plath', 'Joseph Charles Bequaert', 'Robert Cyril Layton Perkins', 'Hans [Franz Paul] Hedicke', 'Arnaldo de Winkelried Bertoni', 'Heinrich Friedrich August Karl Ludwig Friese', 'Sievert Allen Rohwer', 'Philip Hunter Timberlake', 'Beulah Hix Blair', 'Kurt [Curt] Schrottky', 'Norma Ebolie LeVeque', 'James Chamberlain Crawford', 'Louis Jérôme Reiche', 'G. Trautmann', 'James Fletcher']\n",
      "\n",
      "\n",
      "Network 2\n",
      "Network density: 0.7 %\n",
      "Triadic closure: 5.8 %\n",
      "Number of subgraphs: 40\n",
      "Network diameter of largest component: 12\n",
      "['Michael Scott Engel', 'Carlos Hernan Vergara', 'T. C. Narendran', 'Michael Terzo', 'Ana Rita Gonçalves', 'Leopoldo J. Alvarez', 'Ahmad Nadimi', 'Pierre Rasmont', 'Elizabeth Chiappa', 'Jelle Devalez', 'Yuriy Andreyevich Pesenko', 'Avdhesh Kumar', 'Danúncia Urban', 'Carl Edmund Atwood', 'N. P. Chopra', 'Evandson José dos Anjos-Silva', 'Howell Vann Daly, Jr.', 'Glynn Vivian Maynard', 'Marco Antônio Costa', 'Makoto Shiokawa', 'Kim E. Steiner', 'Paola Marchi', 'Gaurav Sharma', 'Sherlem Patricia de Seixas Felizardo', 'Jan Smit', 'Bryan Nicholas Danforth', 'Mohamed Shebl', 'Danny Vélez', 'Daniele R. Parizotto', 'Holger Heinrich Dathe', 'Yoshihiro Hirashima', 'Ya Tang', 'Wan He', 'Gerald Hölzler', 'Shashidhar Viraktamath', 'Betânia Truylio', 'Karl Nicholas Magnacca', 'Ricardo Ayala Barajas', 'Vinita Sharma', 'John Winslow MacSwain', 'Beatriz Woiski Teixeira Coelho', 'Oskar Vogt', 'Paul David Hurd, Jr.', 'José Ricardo Cure', 'Richard W. Rust', 'Daniel H. Tapia', 'Vladimir Veniaminovich Popov', 'Victor Cabezas', 'Michael Christopher Orr', 'Yoshito Haneda', 'Felipe Vieira Freitas', \"Nina Grigo'yevna Davydova\", 'Barry James Donovan', 'Masao Ito', 'Wallace Edmund LaBerge', 'Earle Gorton Linsley', 'Leslie J. Lollin', 'Antonio José Camillo Aguiar', \"Asya Anatol'evna Ponomareva\", 'Misaki Abe', 'Klaus Standfuss', 'David W. Baldock', 'Yan-ru Wu', 'Leah LaPerle Larkin', 'Giuseppe Fabrizio Turrisi', 'Thiago Mahlmann', 'Alvin Fleetwood Shinn', 'K. Sajan Jose', 'Hermanus Gerardus Maria Teunissen', 'Kees [Cornelius] van Achterberg', 'Robert Wilhelm Grünwaldt', 'Rodrigo Barbosa Gonçalves', 'Kim Timmermann', 'David Ward Roubik', 'Gideon Pisanty', 'Rita I. Velez-Ruiz', 'Natapot Warrit', 'Sundar Lal Sharma', 'Andreas Müller', 'Yasuo Maeta', 'Paul Hugh Williams', 'Guaraci Duran Cordeiro', 'Alexsander A. Azevedo', 'Sébastien Patiny', 'Remko Leijs [or Leys]', 'John L. [Jack] Neff', 'Theodore Dru Alison Cockerell', 'Charlotte Skov', 'José Eustáquio dos Santos Júnior', 'Rocío Ana González-Vaquero', 'Zach M. Portman', 'Michael Kuhlmann', 'Erin Willis', 'Roy R. Snelling', 'David A. Tanner', 'Tatiana G. Romankova', 'Alice Barringer Mackie', 'Dieter Wittmann', 'Deborah Roan Smith', 'Denis Michez', 'Fresia Rojas [Alvarez]', 'Marcio Luiz de Oliveira', 'Maximilian Schwarz', 'Jessica [Jesse] Litman', 'Molly Greer Rightmyer', 'Stephen Gavilan Reyes', 'Salvatore Vicidomini', 'T. Jobiraj', 'Erwin Scheuchl', 'Arturo Roig-Alsina', 'Achik Dorchin', 'Tamiji Inoue', 'Favízia Freitas de Oliveira', 'Rodrigo da Cunha', 'Barrett Anthony Klein', 'Prerna Chandel', 'Andreas Werner Ebmer', 'Sabita Simlote', 'Chao-dong Zhu', 'Yulia V. Astafurova', 'Konrad Schmidt', 'Alejandro Parra-H', 'Cécile Vogt', 'Claus Rasmussen', 'Alina Nilovna Kupianskaya', 'Anne E. Dollin', 'Thomas J. Zavortink', 'Ryuki Murao', 'Wensdae Miller', 'Kimio Yoshikawa', 'Jessica Janjic', 'Elizabeth Morris Exley', 'Allan Henry Smith-Pardo', 'Ze-qing Niu', 'Sandra M. Rehan', 'Edgard Cédric Fabre Anguilet', 'Alain Pauly', 'Luisa Ruz', 'Jason Gibbs', 'Kelli dos Santos Ramos', 'Somnuk Boongird', 'Fernando Amaral da Silveira', 'Thomas Eltz', 'Chang-Whan Kim', 'Philip Hunter Timberlake', 'Ryôichi Miyanaga', 'Cindy Julieth Celis', 'Terry Francis Houston', 'Katsushi Mitai', 'Masashi Goubara', 'María Fernanda Rodríguez', 'Lionel Alvin Stange', 'Vincent Booth Whitehead', 'Hans Bänziger', 'Makoto Kato', 'I. H. Syed', 'Huan-li Xu', 'Jian-guo Fan', 'Robert Louis Dressler', 'Hideo Takahashi', 'David W. Ribble', 'Roderic B. Martines', 'Robert W. Brooks', 'Sheila Dumesh', 'Herbert Ferlando Schwarz', 'Frank D. Parker', 'Takeshi Matsumura', 'Jakub Straka', 'Alexander Lall', 'Rafael Rodrigues Ferrari', 'Embrik Strand', 'Patrícia Maia Correia de Albuquerque', 'Suzanne Willington Tubby Batra', 'Sharon Rodríguez', 'Xuan Chen', 'Anna Zakharovna Osytshnjuk', 'Shôichi F. Sakagami', 'Nadia S. Gibran', 'Keizô Yasumatsu', 'Meeta Tomar', 'Albert A. Grigarick', 'Mi-Lyang Kim', 'Ali Asghar Talebi', 'Jérôme Munzinger', 'Carlos Balboa', 'Silvia Regina de Menezes Pedro', 'Abdulaziz S. Alqarni', 'Andreas Bertsch', 'Julio Antonio Genaro', 'Arkady S. Lelej', 'Harlan Glenn Hall', 'Leif D. Deyrup', 'Rui Zhang', 'Mohammed A. Hannan', 'Judith [Judy] King', 'Ian Cross', 'Jorge Arturo Lobo Segura', 'George Edward [Ned] Bohart', 'Manfredo A. Fritz', 'Ellen Ordway', 'M. L. Thakur', 'Maxim Yurievich Proshchalykin', 'Robert Cyril Layton Perkins', 'I-Hsin Sung', 'Christophe J. Praz', 'Gerald [Jerry] Irving Stage', 'Luis A. Compagnucci', 'Silvana P. Durante', 'Gerhard K. H. Przemeck', 'Michael Batley', 'Suniti Tomar', 'Ryôsuke Ishikawa', 'John Stoskopf Ascher', 'Rodulfo Ospina-Torres', 'Lucy Evelyn Cheesman', 'Mariano Lucia', 'William T. [Bill] Wcislo', 'Osamu Tadauchi', 'Juan Carlos Sandino-Franco', 'Ardeshir Ariana', 'Francisco La Roche', 'Léo Correia da Rocha Filho', 'Andrew R. Moldenke', 'Robbin W. Thorp', 'Stefan Vogel', 'Haroldo Toro [Guttierez]', 'Sarah Whitman-Mascherini', 'Francisco Javier Ortiz-Sánchez', 'Juan Pablo Torretta', 'Fritz Josef [Friedrich] Gusenleitner', 'Paula A. Sepúlveda', 'Radclyffe Burnand Roberts', 'Terry L. Griswold', 'V. K. Tewari', 'Noudjoud Benarfa', 'Donald Burton Baker', 'Boris O. Schlumpberger', 'Simon M. Tierney', 'Thomas James Wood', 'Joan G. Ehrenfeld', 'Shuichi Ikudome', 'Fabrício R. Santos', 'Y. B. Soukontoua', 'Carlos Alberto Campos Seabra', 'Edinaldo Luz das Neves', 'André Nemésio', 'Pia Oremek', 'Paul Westrich', 'Canan Hazir', 'Laurence Packer', 'José Manuel Macário Rebêlo', 'Fernando César Vieira Zanella', 'Jerome George Rozen, Jr.', 'Michael P. Schwarz', 'Karl Mazzucco', 'Jiří Hadrava', 'Eduardo Andrade Botelho de Almeida', 'Qiang Li', 'Timofey Victorovich Levchenko', 'Rosalind Patricia Urban', 'Gabriel Augusto Rodrigues de Melo', 'Petr Bogusch', 'Leandro Mattos Santos', 'Vinalto Graf', 'Luiz R. R. Faria', 'M. Herrera', 'Guanhuang Yang', 'Marco A. Gaiani', 'Louise M. Ireland', 'Sergey P. Ivanov', 'Benjamin Bembé', 'Rajiv K. Gupta', 'Volker Mauss', 'João Maria Franco de Camargo', 'Zewdu Ararso Hora', 'Ismael Alejandro Hinojosa-Díaz', 'Victor Hugo Gonzalez', 'Felipe Vivallo [Felipe Rodrigo Vivallo Martínez]', 'Gerd Knerer', 'John Keith Bouseman', 'B. Lucas de Oliveira', 'Bo G. Svensson', 'Vittorio Nobile', 'Jesus Santiago Moure', 'Alberto H. Abrahamovich', 'Ataur Rahman', 'Juan M. Labougle', 'Bangyu Kuang', 'Marina Siqueira de Castro', 'Gérard Le Goff', 'Shusaburo Tamasawa', 'Hywel Roberts', 'Anselm Kratochwil', 'Warwick Estevam Kerr', 'Katja Hogendoorn', 'Mark Amidon Deyrup', 'Cory Silas Sheffield', 'Klaus Schönitzer', 'Clemens Schlindwein', 'Randall Hepburn', 'Andreas Dubitzky', 'Vladimir G. Radchenko', 'Connal D. Eardley', 'Thomas J. Pohl', 'Kenneth L. Walker', 'Jorge M. González', 'Renee M. Borges', 'Korrawat Attasopa', 'Meiyo Munakata', 'Hai-rong Huang', 'Sydney G. Cannings', 'Charles Duncan Michener', 'Birgit Harter-Marques', 'Maurits Anne Lieftinck']\n",
      "\n",
      "\n"
     ]
    }
   ],
   "source": [
    "for i in range(len(df_li)):\n",
    "    print(\"Network\", i)\n",
    "    \n",
    "    density = nx.density(g_li[i])\n",
    "    print(\"Network density:\", round(density*100, 1), \"%\")\n",
    "    \n",
    "    triadic_closure = nx.transitivity(g_li[i])\n",
    "    print(\"Triadic closure:\", round(triadic_closure*100, 1), \"%\")\n",
    "    \n",
    "    # Get subgraphs\n",
    "    subgraphs = [c for c in sorted(nx.connected_components(g_li[i]), key=len, reverse=True)]\n",
    "    print(\"Number of subgraphs:\", len(subgraphs))\n",
    "    \n",
    "    # Largest component\n",
    "    components = nx.connected_components(g_li[i])\n",
    "    largest_component = max(components, key=len) # max number of nodes\n",
    "\n",
    "    # Create a \"subgraph\" of just the largest component\n",
    "    # Then calculate the diameter of the subgraph, just like you did with density.\n",
    "    subgraph = g_li[i].subgraph(largest_component)\n",
    "    diameter = nx.diameter(subgraph)\n",
    "    print(\"Network diameter of largest component:\", diameter)\n",
    "    \n",
    "    print([v[0] for v in g_li[i].nodes(data=True)])\n",
    "    \n",
    "    \n",
    "    print(\"\\n\")"
   ]
  }
 ],
 "metadata": {
  "kernelspec": {
   "display_name": "Python 3",
   "language": "python",
   "name": "python3"
  },
  "language_info": {
   "codemirror_mode": {
    "name": "ipython",
    "version": 3
   },
   "file_extension": ".py",
   "mimetype": "text/x-python",
   "name": "python",
   "nbconvert_exporter": "python",
   "pygments_lexer": "ipython3",
   "version": "3.9.1"
  }
 },
 "nbformat": 4,
 "nbformat_minor": 2
}
