{
 "cells": [
  {
   "cell_type": "markdown",
   "metadata": {},
   "source": [
    "# Network analysis for coauthors - network through time\n",
    "\n",
    "This looks at how the network changes through time with network metrics."
   ]
  },
  {
   "cell_type": "code",
   "execution_count": 1,
   "metadata": {},
   "outputs": [
    {
     "name": "stdout",
     "output_type": "stream",
     "text": [
      "The history saving thread hit an unexpected error (DatabaseError('database disk image is malformed')).History will not be written to the database.\n"
     ]
    }
   ],
   "source": [
    "%load_ext autoreload\n",
    "%autoreload 2\n",
    "\n",
    "from src import util as u\n",
    "\n",
    "import pandas as pd\n",
    "from functools import reduce\n",
    "import operator\n",
    "import networkx as nx"
   ]
  },
  {
   "cell_type": "code",
   "execution_count": 2,
   "metadata": {},
   "outputs": [],
   "source": [
    "nodes = pd.read_csv(u.fn_nodes)"
   ]
  },
  {
   "cell_type": "code",
   "execution_count": 3,
   "metadata": {},
   "outputs": [],
   "source": [
    "# Import author data with dates\n",
    "start = 1758\n",
    "end = 2018\n",
    "years = end-start\n",
    "timepoints = 4\n",
    "interval = round(years/3, 0)\n",
    "year1= start + interval*1\n",
    "year2= start + interval*2"
   ]
  },
  {
   "cell_type": "code",
   "execution_count": 4,
   "metadata": {},
   "outputs": [
    {
     "name": "stdout",
     "output_type": "stream",
     "text": [
      "1758 1845.0\n",
      "1845.0 1932.0\n",
      "1932.0 2018\n"
     ]
    }
   ],
   "source": [
    "print(start, year1)\n",
    "print(year1, year2) # postal mail invented\n",
    "print(year2, end)   # airlines invested"
   ]
  },
  {
   "cell_type": "code",
   "execution_count": 5,
   "metadata": {},
   "outputs": [
    {
     "name": "stderr",
     "output_type": "stream",
     "text": [
      "/home/ejysoh/miniconda3/envs/msc/lib/python3.9/site-packages/IPython/core/interactiveshell.py:3337: DtypeWarning: Columns (22,30,60,61,65,86,89,106,117) have mixed types.Specify dtype option on import or set low_memory=False.\n",
      "  if (await self.run_code(code, result,  async_=asy)):\n",
      "/mnt/c/_dev/msc/thesis/2020-08-31-jsa-type-v2-ch3-coauth/src/util.py:35: UserWarning: Boolean Series key will be reindexed to match DataFrame index.\n",
      "  spp = spp[~spp['duplicated']][\n"
     ]
    }
   ],
   "source": [
    "auth = u.get_spp_df()\n",
    "auth = auth.drop(columns=['status'])\n",
    "\n",
    "\n",
    "auth1 = auth[(auth['date'] >= start) & (auth['date']  < year1)][['idx', 'full_name_of_describer']]\n",
    "auth2 = auth[(auth['date'] >= year1) & (auth['date']  < year2)][['idx', 'full_name_of_describer']]\n",
    "auth3 = auth[(auth['date'] >= year2) & (auth['date']  <= end)][['idx', 'full_name_of_describer']]\n",
    "\n",
    "df_li =  [auth1, auth2, auth3]\n",
    "df_li = [x.groupby('idx')['full_name_of_describer'].apply(lambda x: \"%s\" % '; '.join(x)) for x in df_li]"
   ]
  },
  {
   "cell_type": "code",
   "execution_count": 6,
   "metadata": {},
   "outputs": [],
   "source": [
    "# Get pairs\n",
    "\n",
    "def li_pairs(source):\n",
    "    source = str.split(source, \"; \")\n",
    "    result = []\n",
    "    N = len(source)\n",
    "    if (N <= 1):\n",
    "        return [(source[0], None)]\n",
    "    else:\n",
    "\n",
    "        for p1 in range(N):\n",
    "            for p2 in range(p1+1,len(source)):\n",
    "                    result.append((source[p1],source[p2]))\n",
    "        return result\n"
   ]
  },
  {
   "cell_type": "code",
   "execution_count": 7,
   "metadata": {},
   "outputs": [
    {
     "name": "stdout",
     "output_type": "stream",
     "text": [
      "Ricardo Ayala Barajas; Michael Scott Engel\n",
      "[('Ricardo Ayala Barajas', 'Michael Scott Engel')]\n",
      "[('Earle Gorton Linsley', 'John Winslow MacSwain')]\n"
     ]
    }
   ],
   "source": [
    "print(df_li[2].iloc[2])\n",
    "print(li_pairs(df_li[2].iloc[2]))\n",
    "print(li_pairs(df_li[2].iloc[63]))"
   ]
  },
  {
   "cell_type": "code",
   "execution_count": 8,
   "metadata": {},
   "outputs": [],
   "source": [
    "df_li = [x.apply(lambda x: li_pairs(x)) for x in df_li]"
   ]
  },
  {
   "cell_type": "code",
   "execution_count": 9,
   "metadata": {},
   "outputs": [],
   "source": [
    "li = [[] for i in range(3)]\n",
    "for i in range(len(df_li)):\n",
    "    df = df_li[i]\n",
    "    for j, row in df.iteritems():\n",
    "        li[i].append(row[0])"
   ]
  },
  {
   "cell_type": "code",
   "execution_count": 10,
   "metadata": {},
   "outputs": [],
   "source": [
    "df_li = [pd.DataFrame(x, columns=['p1', 'p2']) for x in li]\n",
    "df_li = [pd.DataFrame(x).groupby(['p1', 'p2']).size() for x in df_li]\n",
    "df_li = [x.reset_index() for x in df_li]"
   ]
  },
  {
   "cell_type": "code",
   "execution_count": 11,
   "metadata": {},
   "outputs": [],
   "source": [
    "def get_edges(df):\n",
    "    edges = []\n",
    "    for i, row in df.iterrows():\n",
    "        edges.append((row.p1, row.p2, row[0]))\n",
    "    return edges"
   ]
  },
  {
   "cell_type": "code",
   "execution_count": 12,
   "metadata": {},
   "outputs": [],
   "source": [
    "df_li = [get_edges(df) for df in df_li]"
   ]
  },
  {
   "cell_type": "code",
   "execution_count": 13,
   "metadata": {},
   "outputs": [],
   "source": [
    "def get_node_names(edges):\n",
    "    all_node_names = []\n",
    "    all_node_names = [all_node_names + [e[0], e[1]] for e in edges]\n",
    "    all_node_names = reduce(operator.add, all_node_names)\n",
    "    return set(all_node_names)"
   ]
  },
  {
   "cell_type": "code",
   "execution_count": 14,
   "metadata": {},
   "outputs": [],
   "source": [
    "node_names = [get_node_names(df) for df in df_li]"
   ]
  },
  {
   "cell_type": "code",
   "execution_count": 15,
   "metadata": {},
   "outputs": [],
   "source": [
    "# Load into graph\n",
    "g_li = [nx.Graph() for x in range(3)]\n",
    "for i in range(len(df_li)):\n",
    "\n",
    "    g_li[i].add_nodes_from(node_names[i])\n",
    "    g_li[i].add_weighted_edges_from(df_li[i])"
   ]
  },
  {
   "cell_type": "code",
   "execution_count": 16,
   "metadata": {
    "scrolled": false
   },
   "outputs": [
    {
     "name": "stdout",
     "output_type": "stream",
     "text": [
      "Network 0\n",
      "Network density: 33.3 %\n",
      "Triadic closure: 0 %\n",
      "Number of subgraphs: 2\n",
      "Network diameter of largest component: 1\n",
      "['Amédée Louis Michel le Peletier, comte de Saint-Fargeau', 'Léon [Jean Marie] Dufour', 'Jean Guillaume Audinet-Serville', '[Jean-Pierre Omer Anne] Édouard Perris']\n",
      "\n",
      "\n",
      "Network 1\n",
      "Network density: 4.0 %\n",
      "Triadic closure: 0 %\n",
      "Number of subgraphs: 11\n",
      "Network diameter of largest component: 3\n",
      "['Kurt [Curt] Schrottky', 'Henry Lorenz Viereck', 'Myron Harmon Swenk', 'Wilmatte Porter Cockerell', 'Hans Bischoff', 'Philip Hunter Timberlake', 'Sievert Allen Rohwer', 'Heinrich Friedrich August Karl Ludwig Friese', 'Ruth Sumner', 'Arnaldo de Winkelried Bertoni', 'Louis Jérôme Reiche', 'G. Trautmann', 'Charles H. Hicks', 'Edward Sharpe Gaige Titus', 'Alberto H. Abrahamovich', 'Robert Cyril Layton Perkins', 'Norma Ebolie LeVeque', 'John Harvey Lovell', 'Léon Marc Herminie Fairmaire', 'James Chamberlain Crawford', 'Woldemar Trautmann', 'James Fletcher', 'Otto Emil Plath', 'Grace Adelbert Sandhouse', 'Hans [Franz Paul] Hedicke', 'Jessie E. Casad', 'Shōnen Matsumura', 'Beulah Hix Blair', 'Theodore Dru Alison Cockerell', 'Joseph Charles Bequaert', 'Arthur Gibson', 'Mariano Lucia', 'Lucy Evelyn Cheesman', 'Franz von Wagner', 'Karl Wilhelm von Dalla Torre', 'Tohru Uchida']\n",
      "\n",
      "\n",
      "Network 2\n",
      "Network density: 0.7 %\n",
      "Triadic closure: 5.7 %\n",
      "Number of subgraphs: 41\n",
      "Network diameter of largest component: 11\n",
      "['Carlos Balboa', 'Thomas Eltz', 'Ryôsuke Ishikawa', 'Thiago Mahlmann', 'Sarah Whitman-Mascherini', 'Achik Dorchin', 'Andreas Werner Ebmer', 'Meeta Tomar', 'Robert W. Brooks', 'Eduardo Andrade Botelho de Almeida', 'Yuriy Andreyevich Pesenko', 'Marco Antônio Costa', 'Allan Henry Smith-Pardo', 'Andrew R. Moldenke', 'Judith [Judy] King', 'Suniti Tomar', 'Denis Michez', 'Benjamin Bembé', 'Rafael Rodrigues Ferrari', 'Rosalind Patricia Urban', 'Victor Cabezas', 'Felipe Vivallo [Felipe Rodrigo Vivallo Martínez]', 'Manfredo A. Fritz', 'Leif D. Deyrup', 'Terry Francis Houston', 'Rajiv K. Gupta', 'Harlan Glenn Hall', 'T. Jobiraj', 'Randall Hepburn', 'José Eustáquio dos Santos Júnior', 'Sébastien Patiny', 'Timofey Victorovich Levchenko', 'Julio Antonio Genaro', 'Alvin Fleetwood Shinn', 'Betânia Truylio', 'Luisa Ruz', 'Fernando César Vieira Zanella', 'Favízia Freitas de Oliveira', 'Birgit Harter-Marques', 'Leslie J. Lollin', 'Alain Pauly', 'Kenneth L. Walker', 'Kim E. Steiner', 'Maurits Anne Lieftinck', 'Korrawat Attasopa', 'Gideon Pisanty', 'Marcio Luiz de Oliveira', 'Holger Heinrich Dathe', 'I-Hsin Sung', 'Albert A. Grigarick', 'Danúncia Urban', 'Yulia V. Astafurova', 'Francisco La Roche', 'Jason Gibbs', 'Vinita Sharma', 'Paula A. Sepúlveda', 'Giuseppe Fabrizio Turrisi', 'Y. B. Soukontoua', 'Marina Siqueira de Castro', 'Rita I. Velez-Ruiz', 'Natapot Warrit', 'Yoshito Haneda', 'Jorge Arturo Lobo Segura', 'Cindy Julieth Celis', 'Michael Christopher Orr', 'Klaus Schönitzer', 'Andreas Müller', 'Simon M. Tierney', 'Jakub Straka', 'N. P. Chopra', 'Boris O. Schlumpberger', 'Yoshihiro Hirashima', 'Vladimir G. Radchenko', 'Andreas Dubitzky', 'Howell Vann Daly, Jr.', 'Joan G. Ehrenfeld', 'Sharon Rodríguez', 'Lionel Alvin Stange', 'Petr Bogusch', 'K. Sajan Jose', 'Ze-qing Niu', 'Mohammed A. Hannan', 'Antonio José Camillo Aguiar', 'Gerhard K. H. Przemeck', 'Tatiana G. Romankova', 'Sabita Simlote', 'Erwin Scheuchl', 'George Edward [Ned] Bohart', 'Ahmad Nadimi', 'Juan Carlos Sandino-Franco', 'John Stoskopf Ascher', 'Maxim Yurievich Proshchalykin', 'Kelli dos Santos Ramos', 'Sergey P. Ivanov', 'Chang-Whan Kim', 'I. H. Syed', 'Arkady S. Lelej', 'Ardeshir Ariana', 'Patrícia Maia Correia de Albuquerque', 'Paul Hugh Williams', 'Huan-li Xu', 'Anna Zakharovna Osytshnjuk', 'Ryuki Murao', 'Francisco Javier Ortiz-Sánchez', 'Sydney G. Cannings', 'Paul David Hurd, Jr.', 'Dieter Wittmann', 'Rocío Ana González-Vaquero', 'Thomas J. Pohl', 'Robert Wilhelm Grünwaldt', 'Alberto H. Abrahamovich', 'Yan-ru Wu', 'V. K. Tewari', 'Fabrício R. Santos', 'Richard W. Rust', 'Rui Zhang', 'Sandra M. Rehan', 'B. Lucas de Oliveira', \"Nina Grigo'yevna Davydova\", 'Hai-rong Huang', 'João Maria Franco de Camargo', 'Jan Smit', 'Andreas Bertsch', 'Alexander Lall', 'Philip Hunter Timberlake', 'Misaki Abe', 'Alina Nilovna Kupianskaya', 'Donald Burton Baker', 'Michael Batley', 'Sheila Dumesh', 'Katja Hogendoorn', 'Makoto Kato', 'Edgard Cédric Fabre Anguilet', 'Wensdae Miller', 'Leandro Mattos Santos', 'Kees [Cornelius] van Achterberg', 'Theodore Dru Alison Cockerell', 'Salvatore Vicidomini', 'Pia Oremek', 'Ya Tang', 'Michael Kuhlmann', 'Somnuk Boongird', 'Michael Terzo', 'Rodulfo Ospina-Torres', 'Masashi Goubara', 'Roderic B. Martines', 'Radclyffe Burnand Roberts', 'Robert Louis Dressler', 'Glynn Vivian Maynard', 'Alejandro Parra-H', 'Barry James Donovan', 'Paola Marchi', 'Elizabeth Chiappa', 'Connal D. Eardley', 'Sherlem Patricia de Seixas Felizardo', 'Cécile Vogt', 'Suzanne Willington Tubby Batra', 'Mariano Lucia', 'Embrik Strand', 'Abdulaziz S. Alqarni', 'Vladimir Veniaminovich Popov', 'Sebastião Laroca', 'Edinaldo Luz das Neves', 'Charlotte Skov', 'Stefan Vogel', 'Beatriz Woiski Teixeira Coelho', 'Noudjoud Benarfa', 'Vittorio Nobile', 'Konrad Schmidt', 'Clemens Schlindwein', 'William T. [Bill] Wcislo', 'Alexsander A. Azevedo', 'Claus Rasmussen', 'Charles Duncan Michener', 'Haroldo Toro [Guttierez]', 'Ana Rita Gonçalves', 'Guanhuang Yang', 'Guaraci Duran Cordeiro', 'Masao Ito', 'Arturo Roig-Alsina', 'Barrett Anthony Klein', 'Warwick Estevam Kerr', 'Juan Pablo Torretta', 'Paul Westrich', 'M. Herrera', 'Prerna Chandel', 'Keizô Yasumatsu', 'Hans Bänziger', 'Daniel H. Tapia', 'Gerald [Jerry] Irving Stage', 'Silvia Regina de Menezes Pedro', \"Asya Anatol'evna Ponomareva\", 'John L. [Jack] Neff', 'Thomas J. Zavortink', 'Jesus Santiago Moure', 'Gérard Le Goff', 'Elizabeth Morris Exley', 'Jerome George Rozen, Jr.', 'María Fernanda Rodríguez', 'Rodrigo Barbosa Gonçalves', 'Gabriel Augusto Rodrigues de Melo', 'Alice Barringer Mackie', 'Takeshi Matsumura', 'Herbert Ferlando Schwarz', 'Mark Amidon Deyrup', 'Ali Asghar Talebi', 'Michael P. Schwarz', 'Vinalto Graf', 'Karl Mazzucco', 'Jiří Hadrava', 'John Winslow MacSwain', 'Klaus Standfuss', 'Ryôichi Miyanaga', 'Jessica Janjic', 'Erin Willis', 'Hideo Takahashi', 'Ismael Alejandro Hinojosa-Díaz', 'Shôichi F. Sakagami', 'Zewdu Ararso Hora', 'Danny Vélez', 'Léo Correia da Rocha Filho', 'Stephen Gavilan Reyes', 'Kim Timmermann', 'Deborah Roan Smith', 'Leah LaPerle Larkin', 'Luis A. Compagnucci', 'Gerd Knerer', 'Christophe J. Praz', 'David Ward Roubik', 'Daniele R. Parizotto', 'Volker Mauss', 'Anne E. Dollin', 'Jorge M. González', 'Frank D. Parker', 'Pierre Rasmont', 'Yasuo Maeta', 'Roy R. Snelling', 'M. L. Thakur', 'Ataur Rahman', 'Remko Leijs [or Leys]', 'Fernando Amaral da Silveira', 'Karl Nicholas Magnacca', 'Xuan Chen', 'Jessica [Jesse] Litman', 'José Ricardo Cure', 'Bo G. Svensson', 'Chao-dong Zhu', 'Earle Gorton Linsley', 'Meiyo Munakata', 'Gerald Hölzler', 'Ricardo Ayala Barajas', 'Carlos Alberto Campos Seabra', 'Terry L. Griswold', 'Canan Hazir', 'Marco A. Gaiani', 'David A. Tanner', 'Bryan Nicholas Danforth', 'Evandson José dos Anjos-Silva', 'Nadia S. Gibran', 'Leopoldo J. Alvarez', 'Wan He', 'Michael Scott Engel', 'Juan M. Labougle', 'Luiz R. R. Faria', 'Carl Edmund Atwood', 'Felipe Vieira Freitas', 'Silvana P. Durante', 'Victor Hugo Gonzalez', 'Anselm Kratochwil', 'Thomas James Wood', 'Oskar Vogt', 'Katsushi Mitai', 'José Manuel Macário Rebêlo', 'Hywel Roberts', 'Zach M. Portman', 'David W. Ribble', 'Mohamed Shebl', 'Jérôme Munzinger', 'Gaurav Sharma', 'Ellen Ordway', 'Jelle Devalez', 'Bangyu Kuang', 'Wallace Edmund LaBerge', 'Avdhesh Kumar', 'Shuichi Ikudome', 'John Keith Bouseman', 'David W. Baldock', 'Tamiji Inoue', 'Laurence Packer', 'Maximilian Schwarz', 'Shashidhar Viraktamath', 'Carlos Hernan Vergara', 'Jian-guo Fan', 'Makoto Shiokawa', 'Cory Silas Sheffield', 'Lucy Evelyn Cheesman', 'Shusaburo Tamasawa', 'Vincent Booth Whitehead', 'Hermanus Gerardus Maria Teunissen', 'Osamu Tadauchi', 'Louise M. Ireland', 'Qiang Li', 'Maria Christina de Almeida', 'Ian Cross', 'Robbin W. Thorp', 'Sundar Lal Sharma', 'Renee M. Borges', 'Robert Cyril Layton Perkins', 'Molly Greer Rightmyer', 'André Nemésio', 'Mi-Lyang Kim', 'Fresia Rojas [Alvarez]', 'T. C. Narendran', 'Fritz Josef [Friedrich] Gusenleitner', 'Kimio Yoshikawa', 'Rodrigo da Cunha']\n",
      "\n",
      "\n"
     ]
    }
   ],
   "source": [
    "for i in range(len(df_li)):\n",
    "    print(\"Network\", i)\n",
    "    \n",
    "    density = nx.density(g_li[i])\n",
    "    print(\"Network density:\", round(density*100, 1), \"%\")\n",
    "    \n",
    "    triadic_closure = nx.transitivity(g_li[i])\n",
    "    print(\"Triadic closure:\", round(triadic_closure*100, 1), \"%\")\n",
    "    \n",
    "    # Get subgraphs\n",
    "    subgraphs = [c for c in sorted(nx.connected_components(g_li[i]), key=len, reverse=True)]\n",
    "    print(\"Number of subgraphs:\", len(subgraphs))\n",
    "    \n",
    "    # Largest component\n",
    "    components = nx.connected_components(g_li[i])\n",
    "    largest_component = max(components, key=len) # max number of nodes\n",
    "\n",
    "    # Create a \"subgraph\" of just the largest component\n",
    "    # Then calculate the diameter of the subgraph, just like you did with density.\n",
    "    subgraph = g_li[i].subgraph(largest_component)\n",
    "    diameter = nx.diameter(subgraph)\n",
    "    print(\"Network diameter of largest component:\", diameter)\n",
    "    \n",
    "    print([v[0] for v in g_li[i].nodes(data=True)])\n",
    "    \n",
    "    \n",
    "    print(\"\\n\")"
   ]
  }
 ],
 "metadata": {
  "kernelspec": {
   "display_name": "Python 3",
   "language": "python",
   "name": "python3"
  },
  "language_info": {
   "codemirror_mode": {
    "name": "ipython",
    "version": 3
   },
   "file_extension": ".py",
   "mimetype": "text/x-python",
   "name": "python",
   "nbconvert_exporter": "python",
   "pygments_lexer": "ipython3",
   "version": "3.9.1"
  }
 },
 "nbformat": 4,
 "nbformat_minor": 2
}
