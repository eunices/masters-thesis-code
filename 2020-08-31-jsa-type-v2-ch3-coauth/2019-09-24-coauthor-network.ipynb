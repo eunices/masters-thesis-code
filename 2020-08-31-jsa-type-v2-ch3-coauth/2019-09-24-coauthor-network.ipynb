{
 "cells": [
  {
   "cell_type": "markdown",
   "metadata": {},
   "source": [
    "# Network analysis for coauthors \n",
    "\n",
    "Following tutorial from [this](https://programminghistorian.org/en/lessons/exploring-and-analyzing-network-data-with-python#advanced-networkx-community-detection-with-modularity).\n",
    "\n",
    "This section is following the tutorial, as such only calculates general network metrics on the network and individual level."
   ]
  },
  {
   "cell_type": "code",
   "execution_count": 1,
   "metadata": {},
   "outputs": [
    {
     "name": "stdout",
     "output_type": "stream",
     "text": [
      "The history saving thread hit an unexpected error (DatabaseError('database disk image is malformed')).History will not be written to the database.\n"
     ]
    }
   ],
   "source": [
    "%load_ext autoreload\n",
    "%autoreload 2\n",
    "\n",
    "import csv\n",
    "import networkx as nx\n",
    "from operator import itemgetter\n",
    "from functools import reduce\n",
    "from collections import Counter\n",
    "import operator\n",
    "import community \n",
    "import matplotlib.pyplot as plt\n",
    "import statistics as s\n",
    "import pandas as pd\n",
    "import seaborn as sns\n",
    "import numpy as np\n",
    "import scipy\n",
    "\n",
    "\n",
    "from src.util import load_coauthor_nx, ddir, ddir_analysis, get_spp_df, fn_spp"
   ]
  },
  {
   "cell_type": "markdown",
   "metadata": {},
   "source": [
    "##  Read data/ setup network"
   ]
  },
  {
   "cell_type": "code",
   "execution_count": 2,
   "metadata": {},
   "outputs": [
    {
     "name": "stderr",
     "output_type": "stream",
     "text": [
      "/home/ejysoh/miniconda3/envs/msc/lib/python3.9/site-packages/IPython/core/interactiveshell.py:3337: DtypeWarning: Columns (22,30,60,61,65,86,89,106,117) have mixed types.Specify dtype option on import or set low_memory=False.\n",
      "  if (await self.run_code(code, result,  async_=asy)):\n",
      "/mnt/c/_dev/msc/thesis/2020-08-31-jsa-type-v2-ch3-coauth/src/util.py:35: UserWarning: Boolean Series key will be reindexed to match DataFrame index.\n",
      "  spp = spp[~spp['duplicated']][\n"
     ]
    },
    {
     "data": {
      "text/html": [
       "<div>\n",
       "<style scoped>\n",
       "    .dataframe tbody tr th:only-of-type {\n",
       "        vertical-align: middle;\n",
       "    }\n",
       "\n",
       "    .dataframe tbody tr th {\n",
       "        vertical-align: top;\n",
       "    }\n",
       "\n",
       "    .dataframe thead th {\n",
       "        text-align: right;\n",
       "    }\n",
       "</style>\n",
       "<table border=\"1\" class=\"dataframe\">\n",
       "  <thead>\n",
       "    <tr style=\"text-align: right;\">\n",
       "      <th></th>\n",
       "      <th>idx</th>\n",
       "      <th>date</th>\n",
       "      <th>status</th>\n",
       "      <th>full_name_of_describer</th>\n",
       "    </tr>\n",
       "  </thead>\n",
       "  <tbody>\n",
       "    <tr>\n",
       "      <th>1</th>\n",
       "      <td>2</td>\n",
       "      <td>2004</td>\n",
       "      <td>Valid species</td>\n",
       "      <td>Carlos Hernan Vergara</td>\n",
       "    </tr>\n",
       "    <tr>\n",
       "      <th>1</th>\n",
       "      <td>2</td>\n",
       "      <td>2004</td>\n",
       "      <td>Valid species</td>\n",
       "      <td>Charles Duncan Michener</td>\n",
       "    </tr>\n",
       "    <tr>\n",
       "      <th>2</th>\n",
       "      <td>3</td>\n",
       "      <td>2004</td>\n",
       "      <td>Valid species</td>\n",
       "      <td>Charles Duncan Michener</td>\n",
       "    </tr>\n",
       "    <tr>\n",
       "      <th>2</th>\n",
       "      <td>3</td>\n",
       "      <td>2004</td>\n",
       "      <td>Valid species</td>\n",
       "      <td>Mark Amidon Deyrup</td>\n",
       "    </tr>\n",
       "    <tr>\n",
       "      <th>13</th>\n",
       "      <td>14</td>\n",
       "      <td>2014</td>\n",
       "      <td>Valid species</td>\n",
       "      <td>Ricardo Ayala Barajas</td>\n",
       "    </tr>\n",
       "  </tbody>\n",
       "</table>\n",
       "</div>"
      ],
      "text/plain": [
       "    idx  date         status   full_name_of_describer\n",
       "1     2  2004  Valid species    Carlos Hernan Vergara\n",
       "1     2  2004  Valid species  Charles Duncan Michener\n",
       "2     3  2004  Valid species  Charles Duncan Michener\n",
       "2     3  2004  Valid species       Mark Amidon Deyrup\n",
       "13   14  2014  Valid species    Ricardo Ayala Barajas"
      ]
     },
     "execution_count": 2,
     "metadata": {},
     "output_type": "execute_result"
    }
   ],
   "source": [
    "spp = get_spp_df()\n",
    "spp.head(5)"
   ]
  },
  {
   "cell_type": "code",
   "execution_count": 3,
   "metadata": {
    "scrolled": true
   },
   "outputs": [
    {
     "name": "stdout",
     "output_type": "stream",
     "text": [
      "\n",
      "Name: \n",
      "Type: Graph\n",
      "Number of nodes: 391\n",
      "Number of edges: 510\n",
      "Average degree:   2.6087\n"
     ]
    }
   ],
   "source": [
    "(G, nodes) = load_coauthor_nx() # abstracted into src"
   ]
  },
  {
   "cell_type": "markdown",
   "metadata": {},
   "source": [
    "## Network metrics"
   ]
  },
  {
   "cell_type": "markdown",
   "metadata": {},
   "source": [
    "### Basic functions"
   ]
  },
  {
   "cell_type": "code",
   "execution_count": 4,
   "metadata": {},
   "outputs": [
    {
     "name": "stdout",
     "output_type": "stream",
     "text": [
      "More than one component:  True\n"
     ]
    }
   ],
   "source": [
    "# If your Graph has more than one component, this will return False:\n",
    "print(\"More than one component: \", not(nx.is_connected(G)))"
   ]
  },
  {
   "cell_type": "code",
   "execution_count": 5,
   "metadata": {},
   "outputs": [
    {
     "data": {
      "text/plain": [
       "'US'"
      ]
     },
     "execution_count": 5,
     "metadata": {},
     "output_type": "execute_result"
    }
   ],
   "source": [
    "# How to access individual nodes\n",
    "G.nodes()['Charles Duncan Michener'][\"country_of_residence\"]"
   ]
  },
  {
   "cell_type": "code",
   "execution_count": 6,
   "metadata": {},
   "outputs": [
    {
     "data": {
      "text/plain": [
       "443"
      ]
     },
     "execution_count": 6,
     "metadata": {},
     "output_type": "execute_result"
    }
   ],
   "source": [
    "G.nodes()['Charles Duncan Michener'][\"ns_spp_n\"]"
   ]
  },
  {
   "cell_type": "code",
   "execution_count": 7,
   "metadata": {},
   "outputs": [
    {
     "data": {
      "text/plain": [
       "EdgeDataView([('Abdulaziz S. Alqarni', 'Victor Hugo Gonzalez', {'weight': 1}), ('Abdulaziz S. Alqarni', 'Mohammed A. Hannan', {'weight': 2}), ('Abdulaziz S. Alqarni', 'Michael Scott Engel', {'weight': 2})])"
      ]
     },
     "execution_count": 7,
     "metadata": {},
     "output_type": "execute_result"
    }
   ],
   "source": [
    "# How to access edges\n",
    "G.edges(('Abdulaziz S. Alqarni'), data=True)"
   ]
  },
  {
   "cell_type": "markdown",
   "metadata": {},
   "source": [
    "### Network metrics"
   ]
  },
  {
   "cell_type": "code",
   "execution_count": 8,
   "metadata": {},
   "outputs": [
    {
     "name": "stdout",
     "output_type": "stream",
     "text": [
      "Network density: 0.7 %\n"
     ]
    }
   ],
   "source": [
    "density = nx.density(G)\n",
    "print(\"Network density:\", round(density*100, 1), \"%\")"
   ]
  },
  {
   "cell_type": "markdown",
   "metadata": {},
   "source": [
    "**Network density** is the ratio of one node to all possible edges. Gives idea of how closely knit the network is. Ranges from 0 to 1."
   ]
  },
  {
   "cell_type": "code",
   "execution_count": 9,
   "metadata": {},
   "outputs": [
    {
     "name": "stdout",
     "output_type": "stream",
     "text": [
      "Triadic closure: 15.5 %\n"
     ]
    }
   ],
   "source": [
    "triadic_closure = nx.transitivity(G)\n",
    "print(\"Triadic closure:\", round(triadic_closure*100, 1), \"%\")"
   ]
  },
  {
   "cell_type": "markdown",
   "metadata": {},
   "source": [
    "**Transitivity** is one metric of measuring tradic closure (\"triangles\" formed as if two people know each other, they are more likely to know another). It is the ratio of all triangles over all possible triangles. Range from 0 to 1. "
   ]
  },
  {
   "cell_type": "code",
   "execution_count": 10,
   "metadata": {},
   "outputs": [
    {
     "name": "stdout",
     "output_type": "stream",
     "text": [
      "                                 index  degree\n",
      "353                Michael Scott Engel      31\n",
      "313            Charles Duncan Michener      24\n",
      "33                         Alain Pauly      20\n",
      "377                  Terry L. Griswold      19\n",
      "67                Jesus Santiago Moure      19\n",
      "234                Shôichi F. Sakagami      17\n",
      "228                     Osamu Tadauchi      17\n",
      "381               Victor Hugo Gonzalez      16\n",
      "65   Gabriel Augusto Rodrigues de Melo      15\n",
      "378      Theodore Dru Alison Cockerell      15\n",
      "\n",
      "Median centrality: 1\n"
     ]
    }
   ],
   "source": [
    "degree_dict = dict(G.degree(G.nodes()))\n",
    "nx.set_node_attributes(G, degree_dict, 'degree')\n",
    "\n",
    "degree_df = pd.DataFrame.from_dict(dict(G.nodes(data=True)), orient='index')\n",
    "degree_df = degree_df.reset_index()\n",
    "\n",
    "print(degree_df[['index', 'degree']].sort_values(\"degree\", ascending=False)[0:10])\n",
    "print(\"\\nMedian centrality:\", s.median(degree_df.degree))"
   ]
  },
  {
   "cell_type": "markdown",
   "metadata": {},
   "source": [
    "**Centrality** are a group of metrics to determine which nodes are most important.\n",
    "\n",
    "**Degree** is the sum of edges. Those with the highest degree are known as **\"hubs\"**."
   ]
  },
  {
   "cell_type": "code",
   "execution_count": 11,
   "metadata": {},
   "outputs": [
    {
     "data": {
      "text/plain": [
       "<seaborn.axisgrid.FacetGrid at 0x7f48e399b610>"
      ]
     },
     "execution_count": 11,
     "metadata": {},
     "output_type": "execute_result"
    },
    {
     "data": {
      "image/png": "[encoded data removed]",
      "text/plain": [
       "<Figure size 360x360 with 1 Axes>"
      ]
     },
     "metadata": {
      "needs_background": "light"
     },
     "output_type": "display_data"
    }
   ],
   "source": [
    "sns.lmplot(x='degree', y='ns_spp_n', data=degree_df, x_estimator=np.mean)\n",
    "# https://seaborn.pydata.org/tutorial/regression.html"
   ]
  },
  {
   "cell_type": "code",
   "execution_count": 12,
   "metadata": {},
   "outputs": [
    {
     "data": {
      "text/plain": [
       "<seaborn.axisgrid.FacetGrid at 0x7f48e421ab80>"
      ]
     },
     "execution_count": 12,
     "metadata": {},
     "output_type": "execute_result"
    },
    {
     "data": {
      "image/png": "[encoded data removed]",
      "text/plain": [
       "<Figure size 360x360 with 1 Axes>"
      ]
     },
     "metadata": {
      "needs_background": "light"
     },
     "output_type": "display_data"
    }
   ],
   "source": [
    "condition = degree_df['ns_spp_n'] <500\n",
    "sns.lmplot(x='degree', y='ns_spp_n', data=degree_df[condition], x_estimator=np.mean)\n",
    "# https://seaborn.pydata.org/tutorial/regression.html"
   ]
  },
  {
   "cell_type": "code",
   "execution_count": 13,
   "metadata": {},
   "outputs": [
    {
     "name": "stdout",
     "output_type": "stream",
     "text": [
      "                                 index     value\n",
      "353                Michael Scott Engel  0.458887\n",
      "313            Charles Duncan Michener  0.337522\n",
      "377                  Terry L. Griswold  0.307806\n",
      "381               Victor Hugo Gonzalez  0.292760\n",
      "252              Ricardo Ayala Barajas  0.222091\n",
      "332     Ismael Alejandro Hinojosa-Díaz  0.214119\n",
      "366                   Robert W. Brooks  0.172822\n",
      "341               John Stoskopf Ascher  0.161856\n",
      "65   Gabriel Augusto Rodrigues de Melo  0.135301\n",
      "355              Molly Greer Rightmyer  0.133774\n",
      "\n",
      "Median eigenvector centrality: 0.0033607211661788616\n"
     ]
    }
   ],
   "source": [
    "eigenvector_dict = nx.eigenvector_centrality(G) # Run eigenvector centrality\n",
    "eigenvector_df = pd.DataFrame.from_dict(eigenvector_dict, orient=\"index\", columns=['value'])\n",
    "eigenvector_df = eigenvector_df.reset_index()\n",
    "\n",
    "print(eigenvector_df.sort_values('value', ascending=False)[0:10])\n",
    "print(\"\\nMedian eigenvector centrality:\", s.median(eigenvector_df['value']))"
   ]
  },
  {
   "cell_type": "markdown",
   "metadata": {},
   "source": [
    "**Eigenvector centrality** is an extension, including values from the neighbour's centrality too."
   ]
  },
  {
   "cell_type": "code",
   "execution_count": 14,
   "metadata": {},
   "outputs": [
    {
     "name": "stdout",
     "output_type": "stream",
     "text": [
      "                        index     value\n",
      "313   Charles Duncan Michener  0.160293\n",
      "353       Michael Scott Engel  0.145246\n",
      "67       Jesus Santiago Moure  0.122388\n",
      "33                Alain Pauly  0.100077\n",
      "377         Terry L. Griswold  0.097858\n",
      "234       Shôichi F. Sakagami  0.081497\n",
      "32         Maximilian Schwarz  0.069426\n",
      "228            Osamu Tadauchi  0.065253\n",
      "381      Victor Hugo Gonzalez  0.056359\n",
      "360  Philip Hunter Timberlake  0.054420\n",
      "\n",
      "Median betweenness centrality: 0.0\n"
     ]
    }
   ],
   "source": [
    "betweenness_dict = nx.betweenness_centrality(G) # Run betweenness centrality\n",
    "betweenness_df = pd.DataFrame.from_dict(betweenness_dict, orient=\"index\", columns=[\"value\"])\n",
    "betweenness_df = betweenness_df.reset_index()\n",
    "\n",
    "print(betweenness_df.sort_values('value', ascending=False)[0:10])\n",
    "print(\"\\nMedian betweenness centrality:\", s.median(betweenness_df['value']))"
   ]
  },
  {
   "cell_type": "markdown",
   "metadata": {},
   "source": [
    "**Betweenness centrality** tabulates minimum of all shortest paths (see below) to pass through that node. Range from 0 to 1.\n",
    " "
   ]
  },
  {
   "cell_type": "code",
   "execution_count": 15,
   "metadata": {
    "scrolled": true
   },
   "outputs": [],
   "source": [
    "nx.set_node_attributes(G, betweenness_dict, 'betweenness')\n",
    "nx.set_node_attributes(G, eigenvector_dict, 'eigenvector')\n",
    "\n",
    "cen_df = pd.DataFrame.from_dict(dict(G.nodes(data=True)), orient='index')\n",
    "\n",
    "cen_df.to_csv(ddir_analysis +'ch3-coauth/2019-11-07-coauth-metrics.csv')"
   ]
  },
  {
   "cell_type": "code",
   "execution_count": 16,
   "metadata": {},
   "outputs": [
    {
     "name": "stdout",
     "output_type": "stream",
     "text": [
      "                                      degree  betweenness country_of_residence\n",
      "Mariano Lucia                              3     0.021508                   AR\n",
      "Silvana P. Durante                         3     0.021198                   AR\n",
      "Maxim Yurievich Proshchalykin              5     0.017182                   RS\n",
      "Jerome George Rozen, Jr.                   5     0.016411                   US\n",
      "Andreas Müller                             4     0.014277                   SZ\n",
      "Yuriy Andreyevich Pesenko                  5     0.012018                   RS\n",
      "João Maria Franco de Camargo               5     0.011532                   BR\n",
      "Jason Gibbs                                4     0.010981                   CA\n",
      "Roy R. Snelling                            4     0.010900                   US\n",
      "Keizô Yasumatsu                            3     0.010744                   JA\n",
      "Zach M. Portman                            2     0.010718                   US\n",
      "Holger Heinrich Dathe                      4     0.010519                   GM\n",
      "David Ward Roubik                          4     0.010221                   PM\n",
      "Danúncia Urban                             4     0.008858                   BR\n",
      "Denis Michez                               5     0.008140                   BE\n",
      "Fritz Josef [Friedrich] Gusenleitner       5     0.007234                   AU\n",
      "John L. [Jack] Neff                        2     0.007172                   US\n",
      "Julio Antonio Genaro                       2     0.007172                   CU\n",
      "George Edward [Ned] Bohart                 4     0.006796                   US\n"
     ]
    }
   ],
   "source": [
    "check = (cen_df['degree'] <= 5) & (cen_df['betweenness'] >= s.median(cen_df['betweenness'])) # use 4 instead of median of 1\n",
    "brokers = cen_df[['degree', 'betweenness', 'country_of_residence']][check].sort_values('betweenness', ascending=False)[1:20]\n",
    "print(brokers)\n",
    "brokers.to_csv(ddir_analysis +'ch3-coauth/2019-11-07-coauth-brokers.csv')"
   ]
  },
  {
   "cell_type": "code",
   "execution_count": 17,
   "metadata": {},
   "outputs": [
    {
     "name": "stdout",
     "output_type": "stream",
     "text": [
      "                          degree  eigenvector country_of_residence\n",
      "Philip Hunter Timberlake       2     0.041883                   US\n"
     ]
    }
   ],
   "source": [
    "print(cen_df[cen_df.index=='Philip Hunter Timberlake'][['degree', 'eigenvector', 'country_of_residence']])\n",
    "# Timberlake was a “bridge” to Michener and Cockerell. "
   ]
  },
  {
   "cell_type": "code",
   "execution_count": 18,
   "metadata": {},
   "outputs": [
    {
     "name": "stdout",
     "output_type": "stream",
     "text": [
      "                                   eigenvector  degree\n",
      "Michael Scott Engel                   0.458887      31\n",
      "Charles Duncan Michener               0.337522      24\n",
      "Terry L. Griswold                     0.307806      19\n",
      "Victor Hugo Gonzalez                  0.292760      16\n",
      "Ricardo Ayala Barajas                 0.222091       9\n",
      "Ismael Alejandro Hinojosa-Díaz        0.214119       9\n",
      "Robert W. Brooks                      0.172822       8\n",
      "John Stoskopf Ascher                  0.161856       6\n",
      "Gabriel Augusto Rodrigues de Melo     0.135301      15\n",
      "Molly Greer Rightmyer                 0.133774       5\n"
     ]
    }
   ],
   "source": [
    "print(cen_df.sort_values(\"eigenvector\", ascending=False)[[\"eigenvector\", \"degree\"]][0:10])"
   ]
  },
  {
   "cell_type": "code",
   "execution_count": 19,
   "metadata": {},
   "outputs": [
    {
     "name": "stdout",
     "output_type": "stream",
     "text": [
      "Mean\n",
      " ns_spp_n       3.00000\n",
      "degree         1.00000\n",
      "betweenness    0.00000\n",
      "eigenvector    0.00336\n",
      "dtype: float64\n",
      "Count\n",
      " country_of_residence    391\n",
      "ns_spp_n                391\n",
      "degree                  391\n",
      "betweenness             391\n",
      "eigenvector             391\n",
      "dtype: int64\n"
     ]
    }
   ],
   "source": [
    "print(\"Mean\\n\", round(cen_df.median(), 5))\n",
    "print(\"Count\\n\", cen_df.count())"
   ]
  },
  {
   "cell_type": "markdown",
   "metadata": {},
   "source": [
    "A **broker** is one where clusters of subgraphs need to pass through you, they usually \"have high betweenness centrality but low degree\".\n"
   ]
  },
  {
   "cell_type": "code",
   "execution_count": 20,
   "metadata": {},
   "outputs": [
    {
     "name": "stdout",
     "output_type": "stream",
     "text": [
      "Shortest path between  Theodore Dru Alison Cockerell  and  Jesus Santiago Moure : ['Theodore Dru Alison Cockerell', 'Philip Hunter Timberlake', 'Charles Duncan Michener', 'Jesus Santiago Moure']\n",
      "Length of that path: 3 \n",
      "\n",
      "Shortest path between  Chao-dong Zhu  and  Michael Scott Engel : ['Chao-dong Zhu', 'Michael Kuhlmann', 'Jason Gibbs', 'Laurence Packer', 'Michael Scott Engel']\n",
      "Length of that path: 4 \n",
      "\n"
     ]
    }
   ],
   "source": [
    "def shortest_path(n1, n2):\n",
    "    shortest_path = nx.shortest_path(G, source=n1, target=n2)\n",
    "    print(\"Shortest path between \", n1, \" and \", n2, \":\", shortest_path)\n",
    "    print(\"Length of that path:\", len(shortest_path)-1, \"\\n\")\n",
    "    \n",
    "shortest_path(\"Theodore Dru Alison Cockerell\", \"Jesus Santiago Moure\")\n",
    "shortest_path(\"Chao-dong Zhu\", \"Michael Scott Engel\")"
   ]
  },
  {
   "cell_type": "markdown",
   "metadata": {},
   "source": [
    "**Shortest path** allows one to see how many \"steps\" it takes to reach from one node to another.\n",
    "\n",
    "Possible analysis: how one important node from one \"module\" links to another important node in another \"module\", i.e. who are the bridges."
   ]
  },
  {
   "cell_type": "code",
   "execution_count": 21,
   "metadata": {},
   "outputs": [
    {
     "name": "stdout",
     "output_type": "stream",
     "text": [
      "Network diameter of largest component: 11\n"
     ]
    },
    {
     "data": {
      "image/png": "[encoded data removed]",
      "text/plain": [
       "<Figure size 432x288 with 1 Axes>"
      ]
     },
     "metadata": {},
     "output_type": "display_data"
    }
   ],
   "source": [
    "# Next, use nx.connected_components to get the list of components,\n",
    "# then use the max() command to find the largest one:\n",
    "components = nx.connected_components(G)\n",
    "largest_component = max(components, key=len) # max number of nodes\n",
    "\n",
    "# Create a \"subgraph\" of just the largest component\n",
    "# Then calculate the diameter of the subgraph, just like you did with density.\n",
    "subgraph = G.subgraph(largest_component)\n",
    "diameter = nx.diameter(subgraph)\n",
    "print(\"Network diameter of largest component:\", diameter)\n",
    "\n",
    "# Plot subgraph\n",
    "plt.plot()\n",
    "nx.draw(subgraph, with_labels=False, node_size=10)\n",
    "\n",
    "# How to improve graphing: https://networkx.github.io/documentation/latest/auto_examples/index.html"
   ]
  },
  {
   "cell_type": "markdown",
   "metadata": {},
   "source": [
    "**Network diameter** is the length of the longest of shortest path in the network. Gives idea of size of network from one end to another. The largest subgraph gives an idea of the diameter of the entire network.\n",
    "\n",
    "Compared to Newman (2006), the diameter range from 20-30. Here, it's 11, suggesting it is more connected."
   ]
  },
  {
   "cell_type": "code",
   "execution_count": 22,
   "metadata": {
    "scrolled": true
   },
   "outputs": [
    {
     "name": "stdout",
     "output_type": "stream",
     "text": [
      "Number of subgraphs: 46\n",
      "\n",
      "Median diameter: 1.0\n",
      "Diameter of subgraphs: [11, 2, 2, 3, 2, 2, 2, 1, 2, 2, 1, 2, 1, 1, 1, 1, 1, 1, 1, 1, 1, 1, 1, 1, 1, 1, 1, 1, 1, 1, 1, 1, 1, 1, 1, 1, 1, 1, 1, 1, 1, 1, 1, 1, 1, 1] \n",
      "\n",
      "Median number of nodes: 2.0\n",
      "Number of subgraphs graphs with n = 2 authors: 34\n",
      "Number of nodes of subgraphs: [275, 6, 6, 5, 5, 5, 4, 4, 4, 3, 3, 3, 2, 2, 2, 2, 2, 2, 2, 2, 2, 2, 2, 2, 2, 2, 2, 2, 2, 2, 2, 2, 2, 2, 2, 2, 2, 2, 2, 2, 2, 2, 2, 2, 2, 2]\n"
     ]
    }
   ],
   "source": [
    "# Get subgraphs\n",
    "subgraphs = [c for c in sorted(nx.connected_components(G), key=len, reverse=True)]\n",
    "print(\"Number of subgraphs:\", len(subgraphs))\n",
    "print()\n",
    "dia_li = []\n",
    "nod_li = []\n",
    "for i in subgraphs:\n",
    "    dia_li.append(nx.diameter(G.subgraph(i)))\n",
    "    nod_li.append(len(i))\n",
    "\n",
    "print(\"Median diameter:\", s.median(dia_li))\n",
    "print(\"Diameter of subgraphs:\", dia_li, \"\\n\")\n",
    "\n",
    "print(\"Median number of nodes:\", s.median(nod_li))\n",
    "print(\"Number of subgraphs graphs with n = 2 authors:\", sum([x==2 for x in nod_li]))\n",
    "print(\"Number of nodes of subgraphs:\", nod_li)"
   ]
  },
  {
   "cell_type": "code",
   "execution_count": 23,
   "metadata": {
    "scrolled": true
   },
   "outputs": [
    {
     "name": "stdout",
     "output_type": "stream",
     "text": [
      "275 1716 179 {'US': 72, 'TW': 1, 'BR': 45, 'CM': 1, 'RS': 10, 'AG': 2, 'AR': 10, 'JA': 27, 'CS': 1, 'GM': 12, 'SF': 3, 'AU': 8, 'MX': 6, 'CI': 8, 'EZ': 1, 'CO': 3, 'CH': 10, 'GA': 2, 'CA': 9, 'SP': 3, 'SA': 1, 'ET': 1, 'CU': 1, 'TH': 5, 'PK': 1, 'BE': 5, 'UK': 4, 'FR': 2, 'IS': 2, 'NL': 1, 'SZ': 3, '[unknown]': 1, 'NO': 1, 'PE': 1, 'NZ': 2, 'DA': 3, 'SW': 1, 'KE': 1, 'TU': 1, 'ID': 1, 'PM': 1, 'AS': 1, 'IN': 1}\n",
      "6 6 2 {'BE': 5, 'IT': 1}\n",
      "6 35 4 {'IN': 6}\n",
      "5 33 0 {'AS': 5}\n",
      "5 2 0 {'US': 2, 'UK': 1, 'CA': 1, 'CH': 1}\n",
      "5 3 0 {'US': 1, 'PM': 1, 'CO': 3}\n",
      "4 10 0 {'AS': 3, 'AU': 1}\n",
      "4 2 2 {'CA': 1, 'US': 2, 'SF': 1}\n",
      "4 3 0 {'CO': 3, 'GM': 1}\n",
      "3 21 14 {'GM': 2, 'AU': 1}\n",
      "3 1 1 {'GM': 3}\n",
      "3 3 3 {'IN': 3}\n"
     ]
    }
   ],
   "source": [
    "syn_id = set(list(spp[spp.status == \"Synonym\"]['idx']))\n",
    "subgraph_info = {}\n",
    "total_spp = 0\n",
    "\n",
    "for i in range(0, nod_li.index(2)): # don't include those with 2 authors or nodes\n",
    "    \n",
    "    subgraph = subgraphs[i]\n",
    "    countries = Counter([G.nodes()[p][\"country_of_residence\"] for p in subgraph])\n",
    "    N_species_li = [list(spp[spp[\"full_name_of_describer\"] == p].idx) for p in subgraph]\n",
    "    N_species = set(list(reduce(lambda x,y: x+y, N_species_li)))\n",
    "    N_synonyms = len([x for x in N_species if x in syn_id])\n",
    "    N_species = len(N_species)\n",
    "    N_authors = len(subgraph)\n",
    "    print(N_authors, N_species, N_synonyms, dict(countries))\n",
    "    \n",
    "    subgraph_info[i] = {\n",
    "        'N_species': N_species,\n",
    "        'N_synonyms': N_synonyms,\n",
    "        'N_authors': N_authors,\n",
    "        'id_nodes': subgraph,\n",
    "        'countries': dict(countries)\n",
    "    }\n",
    "    \n",
    "    total_spp = total_spp + N_species\n",
    "    \n",
    "coauth_df = pd.DataFrame.from_dict(subgraph_info, orient='index')"
   ]
  },
  {
   "cell_type": "code",
   "execution_count": 24,
   "metadata": {},
   "outputs": [
    {
     "name": "stdout",
     "output_type": "stream",
     "text": [
      "Total species contribution: 1835\n"
     ]
    },
    {
     "data": {
      "text/plain": [
       "Ttest_1sampResult(statistic=0.012297908896131079, pvalue=0.9904081467502414)"
      ]
     },
     "execution_count": 24,
     "metadata": {},
     "output_type": "execute_result"
    }
   ],
   "source": [
    "coauth_df['synonymy_rate'] = (coauth_df['N_synonyms'] / coauth_df['N_species'])\n",
    "coauth_df.to_csv(ddir_analysis+'ch3-coauth/2019-11-07-coauth-subgraphs.csv')\n",
    "print(\"Total species contribution:\", total_spp)\n",
    "\n",
    "scipy.stats.ttest_1samp(coauth_df['synonymy_rate'], .35)"
   ]
  },
  {
   "cell_type": "code",
   "execution_count": 25,
   "metadata": {},
   "outputs": [
    {
     "data": {
      "text/plain": [
       "0.35154983904983905"
      ]
     },
     "execution_count": 25,
     "metadata": {},
     "output_type": "execute_result"
    }
   ],
   "source": [
    "np.mean(coauth_df['synonymy_rate'])"
   ]
  },
  {
   "cell_type": "code",
   "execution_count": 26,
   "metadata": {},
   "outputs": [
    {
     "data": {
      "text/plain": [
       "0.1260246000299005"
      ]
     },
     "execution_count": 26,
     "metadata": {},
     "output_type": "execute_result"
    }
   ],
   "source": [
    "scipy.stats.sem(coauth_df['synonymy_rate'])"
   ]
  },
  {
   "cell_type": "code",
   "execution_count": 27,
   "metadata": {},
   "outputs": [
    {
     "data": {
      "text/plain": [
       "1835"
      ]
     },
     "execution_count": 27,
     "metadata": {},
     "output_type": "execute_result"
    }
   ],
   "source": [
    "total_spp"
   ]
  },
  {
   "cell_type": "code",
   "execution_count": 28,
   "metadata": {
    "scrolled": false
   },
   "outputs": [
    {
     "name": "stdout",
     "output_type": "stream",
     "text": [
      "                 0                  1              2\n",
      "0   Pierre Rasmont    Nicolas Brasero  {'weight': 1}\n",
      "1   Pierre Rasmont      Thomas Lecocq  {'weight': 1}\n",
      "2   Pierre Rasmont       Paulo Biella  {'weight': 1}\n",
      "3   Pierre Rasmont  Baptiste Martinet  {'weight': 2}\n",
      "4   Pierre Rasmont      Michael Terzo  {'weight': 4}\n",
      "5    Thomas Lecocq       Paulo Biella  {'weight': 1}\n",
      "6    Thomas Lecocq  Baptiste Martinet  {'weight': 1}\n",
      "7  Nicolas Brasero  Baptiste Martinet  {'weight': 1}\n",
      "8     Paulo Biella  Baptiste Martinet  {'weight': 1}\n"
     ]
    },
    {
     "data": {
      "image/png": "[encoded data removed]",
      "text/plain": [
       "<Figure size 432x288 with 1 Axes>"
      ]
     },
     "metadata": {},
     "output_type": "display_data"
    }
   ],
   "source": [
    "# Plotting one of the subgraphs\n",
    "S = G.subgraph(subgraphs[1])\n",
    "print(pd.DataFrame(S.edges(data=True)))\n",
    "pos=nx.spring_layout(S) \n",
    "nx.draw_networkx_nodes(S, pos, node_size=30)\n",
    "nx.draw_networkx_labels(S, pos, font_size=10,font_color='g')\n",
    "\n",
    "all_weights = []\n",
    "for (n1, n2, attr) in S.edges(data=True):\n",
    "    all_weights.append(attr['weight'])\n",
    "unique_weights = list(set(all_weights))\n",
    "\n",
    "for wt in range(1, int(max(unique_weights))+1):\n",
    "    edges = [(n1,n2) for (n1, n2, attr) in S.edges(data=True) if attr['weight']==wt]\n",
    "    width = wt*len(edges)*3.0/sum(all_weights)\n",
    "    nx.draw_networkx_edges(S, pos, edgelist=edges, width=width, edge_color='b')"
   ]
  },
  {
   "cell_type": "markdown",
   "metadata": {},
   "source": [
    "This shows that there is one main \"subgraph\"/\"network\" with many other tiny subgraphs with authors that have residence in one dominant country and other countries in the network tend to be countries nearby.\n",
    "\n",
    "Possible analysis: check how many \"species\" outputs the smaller subgraphs have to test their influence. For example, the \"Jian Yao\" network only described 3 species in total (not including those individually described/collaboratively) whereas the \"Friese\" network described 19 species."
   ]
  },
  {
   "cell_type": "markdown",
   "metadata": {},
   "source": [
    "Quote from tutorial: \"This only scratches the surface of what can be done with network metrics in Python. NetworkX offers dozens of functions and measures for you to use in various combinations, and you can use Python to extend these measures in almost unlimited ways. A programming language like Python or R will give you the flexibility to explore your network computationally in ways other interfaces cannot by allowing you to combine and compare the statistical results of your network with other attributes of your data (like the dates and occupations you added to the network at the beginning of this tutorial!).\""
   ]
  },
  {
   "cell_type": "markdown",
   "metadata": {},
   "source": [
    "## Modularity"
   ]
  },
  {
   "cell_type": "code",
   "execution_count": 29,
   "metadata": {},
   "outputs": [],
   "source": [
    "communities = community.best_partition(G)"
   ]
  },
  {
   "cell_type": "code",
   "execution_count": 30,
   "metadata": {},
   "outputs": [],
   "source": [
    "nx.set_node_attributes(G, communities, 'modularity')"
   ]
  },
  {
   "cell_type": "code",
   "execution_count": 31,
   "metadata": {
    "scrolled": true
   },
   "outputs": [
    {
     "data": {
      "text/plain": [
       "15"
      ]
     },
     "execution_count": 31,
     "metadata": {},
     "output_type": "execute_result"
    }
   ],
   "source": [
    "class0 = [n for n in G.nodes() if G.nodes[n]['modularity'] == 0]; len(class0)"
   ]
  },
  {
   "cell_type": "code",
   "execution_count": 32,
   "metadata": {},
   "outputs": [],
   "source": [
    "# Then create a dictionary of the eigenvector centralities of those nodes\n",
    "class0_eigenvector = {n:G.nodes[n]['eigenvector'] for n in class0}"
   ]
  },
  {
   "cell_type": "code",
   "execution_count": 33,
   "metadata": {},
   "outputs": [
    {
     "name": "stdout",
     "output_type": "stream",
     "text": [
      "Modularity Class 0 Sorted by Eigenvector Centrality:\n",
      "Name: Maximilian Schwarz | Eigenvector Centrality: 0.08084146449549443\n",
      "Name: Fritz Josef [Friedrich] Gusenleitner | Eigenvector Centrality: 0.01635333120213761\n",
      "Name: Karl Mazzucco | Eigenvector Centrality: 0.012015231943082728\n",
      "Name: Esther Ockermüller | Eigenvector Centrality: 0.011209840199713222\n",
      "Name: Jan Smit | Eigenvector Centrality: 0.011209840199713222\n"
     ]
    }
   ],
   "source": [
    "# Then sort that dictionary and print the first 5 results\n",
    "class0_sorted_by_eigenvector = sorted(class0_eigenvector.items(), key=itemgetter(1), reverse=True)\n",
    "\n",
    "print(\"Modularity Class 0 Sorted by Eigenvector Centrality:\")\n",
    "for node in class0_sorted_by_eigenvector[:5]:\n",
    "    print(\"Name:\", node[0], \"| Eigenvector Centrality:\", node[1])"
   ]
  },
  {
   "cell_type": "code",
   "execution_count": 34,
   "metadata": {},
   "outputs": [
    {
     "name": "stdout",
     "output_type": "stream",
     "text": [
      "Class 0: ['Kamel Louadi', 'Noudjoud Benarfa', 'Esther Ockermüller', 'Fritz Josef [Friedrich] Gusenleitner', 'Gerald Hölzler', 'Karl Mazzucco', 'Maximilian Schwarz', 'Klaus Standfuss', 'Anselm Kratochwil', 'Erwin Scheuchl', 'Gideon Pisanty', 'Ardeshir Ariana', 'Jan Smit', 'Timofey Victorovich Levchenko', 'Canan Hazir']\n",
      "Class 1: ['Alberto H. Abrahamovich', 'Arturo Roig-Alsina', 'Juan Pablo Torretta', 'Leopoldo J. Alvarez', 'Luis A. Compagnucci', 'Mariano Lucia', 'María Fernanda Rodríguez', 'Rocío Ana González-Vaquero', 'Silvana P. Durante', 'Boris O. Schlumpberger']\n",
      "Class 2: ['Manfredo A. Fritz', 'Daniel H. Tapia', 'Elizabeth Chiappa', 'Fresia Rojas [Alvarez]', 'Haroldo Toro [Guttierez]', 'Luisa Ruz', 'Sharon Rodríguez', 'M. Herrera', 'Andrew R. Moldenke', 'Victor Cabezas']\n",
      "Class 4: ['Glynn Vivian Maynard', 'Katja Hogendoorn', 'Michael Batley', 'Remko Leijs [or Leys]', 'Terry Francis Houston']\n",
      "Class 5: ['James B. Dorey', 'Michael P. Schwarz', 'Simon M. Tierney', 'Mark I. Stevens']\n",
      "Class 6: ['Kenneth L. Walker', 'Alain Pauly', 'Edgard Cédric Fabre Anguilet', 'Jelle Devalez', 'Hans Bänziger', 'Francisco La Roche', 'Y. B. Soukontoua', 'Zewdu Ararso Hora', 'Jérôme Munzinger', 'Barry James Donovan', \"Nina Grigo'yevna Davydova\", 'Yuriy Andreyevich Pesenko', 'Connal D. Eardley', 'Rosalind Patricia Urban', 'Vincent Booth Whitehead', 'Korrawat Attasopa', 'Douglas Yanega', 'Howell Vann Daly, Jr.', 'Karl Nicholas Magnacca', 'Kim E. Steiner', 'Radclyffe Burnand Roberts', 'Robert W. Brooks', 'Silas Bossert']\n",
      "Class 7: ['Andreas Werner Ebmer', 'Huan-li Xu', 'Jian-guo Fan', 'Xuan Chen', 'Swantje Grabener', 'Maurits Anne Lieftinck', 'Ahmatjan Dawut', 'Hideo Takahashi', 'Katsushi Mitai', 'Keizô Yasumatsu', 'Kimio Yoshikawa', 'Makoto Kato', 'Makoto Shiokawa', 'Masao Ito', 'Masashi Goubara', 'Meiyo Munakata', 'Misaki Abe', 'Mohamed Shebl', 'Osamu Tadauchi', 'Ryuki Murao', 'Ryôichi Miyanaga', 'Ryôsuke Ishikawa', 'Shuichi Ikudome', 'Shusaburo Tamasawa', 'Shôichi F. Sakagami', 'Takao Itino', 'Takeo Yamauchi', 'Takeshi Matsumura', 'Tamiji Inoue', 'Yasuo Maeta', 'Yoshihiro Hirashima', 'Yoshito Haneda', 'Embrik Strand', \"Asya Anatol'evna Ponomareva\", 'Vladimir Veniaminovich Popov', 'Bo G. Svensson', 'I-Hsin Sung', 'Hywel Roberts', 'Stephen Gavilan Reyes']\n",
      "Class 8: ['Anne E. Dollin', 'André Nemésio', 'David Silva Nogueira', 'Favízia Freitas de Oliveira', 'José Eustáquio dos Santos Júnior', 'Marcio Luiz de Oliveira', 'Thiago Mahlmann', 'Paula A. Sepúlveda', 'Charlotte Skov', 'Claus Rasmussen', 'Leslie J. Lollin', 'Jakub Straka', 'Thomas Eltz', 'Benjamin Bembé', 'Carlos Balboa', 'Carlos Hernan Vergara', 'Gabriela Armas-Quiñonez', 'Juan M. Labougle', 'Olivia Yáñez-Ordóñez', 'Ricardo Ayala Barajas', 'Mabel Alvarado', 'Abdulaziz S. Alqarni', 'Donald Burton Baker', 'Allan Henry Smith-Pardo', 'Alvin Fleetwood Shinn', 'Barrett Anthony Klein', 'Daniel J. Bennett', 'David A. Tanner', 'Frank D. Parker', 'George Edward [Ned] Bohart', 'Harlan Glenn Hall', 'Ismael Alejandro Hinojosa-Díaz', 'John L. [Jack] Neff', 'John Stoskopf Ascher', 'Leah LaPerle Larkin', 'Leif D. Deyrup', 'Mark Amidon Deyrup', 'Michael Christopher Orr', 'Michael S. Arduser', 'Michael Scott Engel', 'Mohammed A. Hannan', 'Molly Greer Rightmyer', 'Richard W. Rust', 'Rita I. Velez-Ruiz', 'Terry L. Griswold', 'Thomas J. Pohl', 'Victor Hugo Gonzalez', 'Wensdae Miller', 'Zach M. Portman']\n",
      "Class 9: ['Guaraci Duran Cordeiro', 'B. Lucas de Oliveira', 'Betânia Truylio', 'Birgit Harter-Marques', 'Blandina Felipe Viana', 'Carlos Alberto Campos Seabra', 'Clemens Schlindwein', 'Daniele R. Parizotto', 'Danúncia Urban', 'Edinaldo Luz das Neves', 'Evandson José dos Anjos-Silva', 'Jesus Santiago Moure', 'José Manuel Macário Rebêlo', 'João Maria Franco de Camargo', 'Marina Siqueira de Castro', 'Patrícia Maia Correia de Albuquerque', 'Rodrigo da Cunha', 'Silvia Regina de Menezes Pedro', 'Vinalto Graf', 'Warwick Estevam Kerr', 'Jorge Arturo Lobo Segura', 'Stefan Vogel', 'Renee M. Borges', 'I. H. Syed', 'David Ward Roubik', 'Chariya Lekprayoon', 'Natapot Warrit', 'Somnuk Boongird', 'Yuvarin [Rak] Boontop', 'Charles Duncan Michener', 'David W. Ribble', 'Earle Gorton Linsley', 'Ellen Ordway', 'Herbert Ferlando Schwarz', 'John Keith Bouseman', 'John Winslow MacSwain', 'Paul David Hurd, Jr.', 'Philip Hunter Timberlake', 'Robbin W. Thorp', 'Suzanne Willington Tubby Batra', 'Wallace Edmund LaBerge']\n",
      "Class 10: ['Karl Wilhelm von Dalla Torre', 'Franz von Wagner', 'Heinrich Friedrich August Karl Ludwig Friese']\n",
      "Class 11: ['Baptiste Martinet', 'Michael Terzo', 'Nicolas Brasero', 'Pierre Rasmont', 'Thomas Lecocq', 'Paulo Biella']\n",
      "Class 12: ['Denis Michez', 'Sébastien Patiny', 'Da-Wei Huang', 'Hai-rong Huang', 'Qiang Li', 'Rui Zhang', 'Wan He', 'Yan-ru Wu', 'Ze-qing Niu', 'Andreas Dubitzky', 'Holger Heinrich Dathe', 'Kim Timmermann', 'Klaus Schönitzer', 'Pia Oremek', 'Alina Nilovna Kupianskaya', 'Arkady S. Lelej', 'Maxim Yurievich Proshchalykin', 'Tatiana G. Romankova', 'Yulia V. Astafurova', 'Concepción Ornosa', 'Francisco Javier Ortiz-Sánchez', 'Jessica [Jesse] Litman', 'Chao-dong Zhu', 'David W. Baldock', 'Michael Kuhlmann']\n",
      "Class 14: ['Alexsander A. Azevedo', 'Eduardo Andrade Botelho de Almeida', 'Fabrício R. Santos', 'Felipe Vieira Freitas', 'Fernando Amaral da Silveira', 'Igor R. Coelho', 'Nadia S. Gibran', 'Paula C. Zama', 'Rafael Rodrigues Ferrari', 'Roderic B. Martines']\n",
      "Class 15: ['Antonio José Camillo Aguiar', 'Beatriz Woiski Teixeira Coelho', 'Fernando César Vieira Zanella', 'Gabriel Augusto Rodrigues de Melo', 'Kelli dos Santos Ramos', 'Leandro Mattos Santos', 'Luiz R. R. Faria', 'Marco Antônio Costa', 'Paola Marchi', 'Rodrigo Barbosa Gonçalves', 'Felipe Vivallo [Felipe Rodrigo Vivallo Martínez]', 'Danny Vélez', 'Fernando Fernández', 'Sherlem Patricia de Seixas Felizardo']\n",
      "Class 19: ['Cory Silas Sheffield', 'Erin Willis', 'Jason Gibbs', 'Jessica Janjic', 'Laurence Packer', 'Léo Correia da Rocha Filho', 'Negar Mir Sharifi', 'Sheila Dumesh', 'Julio Antonio Genaro', 'Dino J. Martins', 'Sandra M. Rehan']\n",
      "Class 20: ['Gard Otis', 'Sarah Radloff', 'Deborah Roan Smith', 'Randall Hepburn']\n",
      "Class 21: ['Sydney G. Cannings', 'Ya Tang', 'Paul Hugh Williams', 'Jian Yao', 'Sydney Cameron']\n",
      "Class 23: ['Alejandro Parra-H', 'Juan Carlos Sandino-Franco', 'Rodulfo Ospina-Torres', 'Robert Louis Dressler', 'Santiago Ramírez']\n",
      "Class 24: ['Cindy Julieth Celis', 'José Ricardo Cure', 'Marlene Lucia Aguilar-Benavides', 'Dieter Wittmann']\n",
      "Class 27: ['David Genoud', 'Volker Mauss', 'Achik Dorchin', 'Andreas Müller', 'Christophe J. Praz']\n",
      "Class 31: ['Andreas Bertsch', 'Gerhard K. H. Przemeck', 'Martin Hrabé de Angelis']\n",
      "Class 37: ['Alexander Lall', 'Avdhesh Kumar', 'Prerna Chandel']\n",
      "Class 39: ['Gaurav Sharma', 'P. Girish Kumar', 'Rajiv K. Gupta', 'Sabita Simlote', 'Sundar Lal Sharma', 'V. K. Tewari']\n",
      "Class 51: ['Alice Barringer Mackie', 'Beulah Hix Blair', 'Charles H. Hicks', 'Edward Sharpe Gaige Titus', 'Grace Adelbert Sandhouse', 'Henry Lorenz Viereck', 'James Chamberlain Crawford', 'Jessie E. Casad', 'John Harvey Lovell', 'Louise M. Ireland', 'Myron Harmon Swenk', 'Norma Ebolie LeVeque', 'Ruth Sumner', 'Sievert Allen Rohwer', 'Theodore Dru Alison Cockerell', 'Wilmatte Porter Cockerell']\n",
      "Class 56: ['Bryan Nicholas Danforth', 'Gerald [Jerry] Irving Stage', 'Jerome George Rozen, Jr.', 'Joan G. Ehrenfeld', 'Roy R. Snelling', 'Thomas J. Zavortink', 'William T. [Bill] Wcislo']\n"
     ]
    }
   ],
   "source": [
    "modularity = {} # Create a new, empty dictionary\n",
    "for k,v in communities.items(): # Loop through the community dictionary\n",
    "    if v not in modularity:\n",
    "        modularity[v] = [k] # Add a new key for a modularity class the code hasn't seen before\n",
    "    else:\n",
    "        modularity[v].append(k) # Append a name to the list for a modularity class the code has already seen\n",
    "\n",
    "for k,v in modularity.items(): # Loop through the new dictionary\n",
    "    if len(v) > 2: # Filter out modularity classes with 2 or fewer nodes\n",
    "        print('Class '+str(k)+':', v) # Print out the classes and their members"
   ]
  }
 ],
 "metadata": {
  "kernelspec": {
   "display_name": "Python 3",
   "language": "python",
   "name": "python3"
  },
  "language_info": {
   "codemirror_mode": {
    "name": "ipython",
    "version": 3
   },
   "file_extension": ".py",
   "mimetype": "text/x-python",
   "name": "python",
   "nbconvert_exporter": "python",
   "pygments_lexer": "ipython3",
   "version": "3.9.1"
  }
 },
 "nbformat": 4,
 "nbformat_minor": 2
}
