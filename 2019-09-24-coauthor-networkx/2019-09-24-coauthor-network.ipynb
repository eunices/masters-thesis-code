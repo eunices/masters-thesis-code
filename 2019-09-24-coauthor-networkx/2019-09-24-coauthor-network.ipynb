{
 "cells": [
  {
   "cell_type": "markdown",
   "metadata": {},
   "source": [
    "# Network analysis for coauthors \n",
    "\n",
    "Following tutorial from [this](https://programminghistorian.org/en/lessons/exploring-and-analyzing-network-data-with-python#advanced-networkx-community-detection-with-modularity)."
   ]
  },
  {
   "cell_type": "code",
   "execution_count": 69,
   "metadata": {},
   "outputs": [],
   "source": [
    "import csv\n",
    "import networkx as nx\n",
    "from operator import itemgetter\n",
    "from functools import reduce\n",
    "from collections import Counter\n",
    "import operator\n",
    "import community \n",
    "import matplotlib.pyplot as plt\n",
    "import statistics as s\n",
    "import pandas as pd\n",
    "\n",
    "ddir = \"../data/2019-05-23-ascher-bee-data/\""
   ]
  },
  {
   "cell_type": "markdown",
   "metadata": {},
   "source": [
    "##  Read data/ setup network"
   ]
  },
  {
   "cell_type": "code",
   "execution_count": 218,
   "metadata": {},
   "outputs": [],
   "source": [
    "fn_spp = ddir + '2019-05-23-Apoidea world consensus file Sorted by name 2019 describers_2.0-denormalised.csv'\n",
    "spp = pd.read_csv(fn_spp)[[\"idx\", \"full.name.of.describer.n\"]]\n",
    "spp = spp[spp.duplicated(subset=\"idx\", keep=False)] # keep only those with >1 authors"
   ]
  },
  {
   "cell_type": "code",
   "execution_count": 219,
   "metadata": {},
   "outputs": [],
   "source": [
    "# dataset includes valid and invalid species\n",
    "fn_edges = ddir + '2019-05-23-Apoidea world consensus file Sorted by name 2019 describers_7.0-author-networks.csv' \n",
    "with open(fn_edges, 'r') as edgecsv: # Open the file\n",
    "    edgereader = csv.reader(edgecsv) # Read the csv\n",
    "    edges = [(e[1], e[2], e[0]) for e in edgereader if e[2] != \"\"][1:]\n",
    "\n",
    "edges = [(e[0], e[1], float(e[2])) for e in edges]"
   ]
  },
  {
   "cell_type": "code",
   "execution_count": 220,
   "metadata": {},
   "outputs": [
    {
     "data": {
      "text/plain": [
       "361"
      ]
     },
     "execution_count": 220,
     "metadata": {},
     "output_type": "execute_result"
    }
   ],
   "source": [
    "all_node_names = []\n",
    "all_node_names = [all_node_names + [e[0], e[1]] for e in edges]\n",
    "all_node_names = reduce(operator.add, all_node_names)\n",
    "all_node_names = set(all_node_names); len(all_node_names)"
   ]
  },
  {
   "cell_type": "code",
   "execution_count": 221,
   "metadata": {},
   "outputs": [
    {
     "name": "stdout",
     "output_type": "stream",
     "text": [
      "N nodes 361 ; N not nodes: 368\n",
      "Proportion who did not coauthor 50.48010973936899\n"
     ]
    }
   ],
   "source": [
    "fn_nodes = ddir + '2019-05-23-Apoidea world consensus file Sorted by name 2019 describers_5.0-describers-final.csv'\n",
    "with open(fn_nodes, 'r') as nodecsv: # Open the file                       \n",
    "    nodereader = csv.reader(nodecsv) # Read the csv  \n",
    "    # Retrieve the data (using Python list comprhension and list slicing to remove the header row, see footnote 3)\n",
    "    nodes = [n for n in nodereader][1:]                     \n",
    "\n",
    "node_names = [n[1] for n in nodes if n[1] in all_node_names] # Get a list of only the node names\n",
    "not_node_names = [n[1] for n in nodes if not(n[1] in all_node_names)] # Get a list of only the node names\n",
    "print(\"N nodes\", len(node_names), \"; N not nodes:\", len(not_node_names))\n",
    "print(\"Proportion who did not coauthor\", len(not_node_names)/len(node_names+not_node_names)*100)"
   ]
  },
  {
   "cell_type": "code",
   "execution_count": 222,
   "metadata": {},
   "outputs": [],
   "source": [
    "G = nx.Graph()"
   ]
  },
  {
   "cell_type": "code",
   "execution_count": 223,
   "metadata": {},
   "outputs": [],
   "source": [
    "G.add_nodes_from(node_names)\n",
    "G.add_weighted_edges_from(edges)"
   ]
  },
  {
   "cell_type": "code",
   "execution_count": 224,
   "metadata": {},
   "outputs": [
    {
     "name": "stdout",
     "output_type": "stream",
     "text": [
      "Name: \n",
      "Type: Graph\n",
      "Number of nodes: 361\n",
      "Number of edges: 463\n",
      "Average degree:   2.5651\n"
     ]
    }
   ],
   "source": [
    "print(nx.info(G))"
   ]
  },
  {
   "cell_type": "code",
   "execution_count": 225,
   "metadata": {},
   "outputs": [],
   "source": [
    "res_dict = {}\n",
    "for node in nodes: # Loop through the list, one row at a time\n",
    "    res_dict[node[1]] = str.split(node[7], \"; \")[0]"
   ]
  },
  {
   "cell_type": "code",
   "execution_count": 226,
   "metadata": {},
   "outputs": [],
   "source": [
    "# Add attributes\n",
    "nx.set_node_attributes(G, res_dict, 'country_of_residence')"
   ]
  },
  {
   "cell_type": "markdown",
   "metadata": {},
   "source": [
    "## Network metrics"
   ]
  },
  {
   "cell_type": "markdown",
   "metadata": {},
   "source": [
    "### Basic functions"
   ]
  },
  {
   "cell_type": "code",
   "execution_count": 227,
   "metadata": {},
   "outputs": [
    {
     "name": "stdout",
     "output_type": "stream",
     "text": [
      "More than one component:  True\n"
     ]
    }
   ],
   "source": [
    "# If your Graph has more than one component, this will return False:\n",
    "print(\"More than one component: \", not(nx.is_connected(G)))"
   ]
  },
  {
   "cell_type": "code",
   "execution_count": 327,
   "metadata": {},
   "outputs": [
    {
     "data": {
      "text/plain": [
       "'US'"
      ]
     },
     "execution_count": 327,
     "metadata": {},
     "output_type": "execute_result"
    }
   ],
   "source": [
    "# How to access individual nodes\n",
    "G.nodes()['Charles Duncan Michener'][\"country_of_residence\"]"
   ]
  },
  {
   "cell_type": "code",
   "execution_count": 229,
   "metadata": {},
   "outputs": [
    {
     "data": {
      "text/plain": [
       "EdgeDataView([('Abdulaziz S. Alqarni', 'Mohammed A. Hannan', {'weight': 2.0}), ('Abdulaziz S. Alqarni', 'Michael Scott Engel', {'weight': 2.0}), ('Abdulaziz S. Alqarni', 'Victor Hugo Gonzalez [Betancourt]', {'weight': 1.0})])"
      ]
     },
     "execution_count": 229,
     "metadata": {},
     "output_type": "execute_result"
    }
   ],
   "source": [
    "# How to access edges\n",
    "G.edges(('Abdulaziz S. Alqarni'), data=True)"
   ]
  },
  {
   "cell_type": "markdown",
   "metadata": {},
   "source": [
    "### Network metrics"
   ]
  },
  {
   "cell_type": "code",
   "execution_count": 231,
   "metadata": {},
   "outputs": [
    {
     "name": "stdout",
     "output_type": "stream",
     "text": [
      "Network density: 0.007125269313634964\n"
     ]
    }
   ],
   "source": [
    "density = nx.density(G)\n",
    "print(\"Network density:\", density)"
   ]
  },
  {
   "cell_type": "markdown",
   "metadata": {},
   "source": [
    "**Network density** is the ratio of one node to all possible edges. Gives idea of how closely knit the network is. Ranges from 0 to 1."
   ]
  },
  {
   "cell_type": "code",
   "execution_count": 254,
   "metadata": {},
   "outputs": [
    {
     "name": "stdout",
     "output_type": "stream",
     "text": [
      "Triadic closure: 0.14188462916517378\n"
     ]
    }
   ],
   "source": [
    "triadic_closure = nx.transitivity(G)\n",
    "print(\"Triadic closure:\", triadic_closure)"
   ]
  },
  {
   "cell_type": "markdown",
   "metadata": {},
   "source": [
    "**Transitivity** is one metric of measuring tradic closure (\"triangles\" formed as if two people know each other, they are more likely to know another). It is the ratio of all triangles over all possible triangles. Range from 0 to 1. "
   ]
  },
  {
   "cell_type": "code",
   "execution_count": 371,
   "metadata": {},
   "outputs": [
    {
     "name": "stdout",
     "output_type": "stream",
     "text": [
      "5\n",
      "                                 index  degree\n",
      "235                Michael Scott Engel      30\n",
      "54             Charles Duncan Michener      23\n",
      "323                  Terry L. Griswold      19\n",
      "4                          Alain Pauly      19\n",
      "150               Jesus Santiago Moure      19\n",
      "300                Shôichi F. Sakagami      17\n",
      "249                     Osamu Tadauchi      17\n",
      "106  Gabriel Augusto Rodrigues de Melo      15\n",
      "334  Victor Hugo Gonzalez [Betancourt]      15\n",
      "324      Theodore Dru Alison Cockerell      15\n",
      "\n",
      "Median centrality: 1\n"
     ]
    }
   ],
   "source": [
    "degree_dict = dict(G.degree(G.nodes()))\n",
    "nx.set_node_attributes(G, degree_dict, 'degree')\n",
    "\n",
    "degree_df = pd.DataFrame.from_dict(dict(G.nodes(data=True)), orient='index')\n",
    "degree_df = degree_df.reset_index()\n",
    "\n",
    "print(degree_df[['index', 'degree']].sort_values(\"degree\", ascending=False)[0:10])\n",
    "print(\"\\nMedian centrality:\", s.median(degree_df.degree))"
   ]
  },
  {
   "cell_type": "markdown",
   "metadata": {},
   "source": [
    "**Centrality** are a group of metrics to determine which nodes are most important.\n",
    "\n",
    "**Degree** is the sum of edges. Those with the highest degree are known as **\"hubs\"**."
   ]
  },
  {
   "cell_type": "code",
   "execution_count": 338,
   "metadata": {},
   "outputs": [
    {
     "name": "stdout",
     "output_type": "stream",
     "text": [
      "                                 index     value\n",
      "235                Michael Scott Engel  0.460701\n",
      "54             Charles Duncan Michener  0.341882\n",
      "323                  Terry L. Griswold  0.321461\n",
      "334  Victor Hugo Gonzalez [Betancourt]  0.294204\n",
      "268              Ricardo Ayala Barajas  0.196201\n",
      "138     Ismael Alejandro Hinojosa-Díaz  0.184564\n",
      "274                   Robert W. Brooks  0.182049\n",
      "158               John Stoskopf Ascher  0.169752\n",
      "240              Molly Greer Rightmyer  0.141194\n",
      "106  Gabriel Augusto Rodrigues de Melo  0.135495\n",
      "\n",
      "Median eigenvector centrality: 0.003972729626010645\n"
     ]
    }
   ],
   "source": [
    "eigenvector_dict = nx.eigenvector_centrality(G) # Run eigenvector centrality\n",
    "eigenvector_df = pd.DataFrame.from_dict(eigenvector_dict, orient=\"index\", columns=['value'])\n",
    "eigenvector_df = eigenvector_df.reset_index()\n",
    "\n",
    "print(eigenvector_df.sort_values('value', ascending=False)[0:10])\n",
    "print(\"\\nMedian eigenvector centrality:\", s.median(eigenvector_df['value']))"
   ]
  },
  {
   "cell_type": "markdown",
   "metadata": {},
   "source": [
    "**Eigenvector centrality** is an extension, including values from the neighbour's centrality too."
   ]
  },
  {
   "cell_type": "code",
   "execution_count": 339,
   "metadata": {},
   "outputs": [
    {
     "name": "stdout",
     "output_type": "stream",
     "text": [
      "                                 index     value\n",
      "54             Charles Duncan Michener  0.172105\n",
      "235                Michael Scott Engel  0.151704\n",
      "150               Jesus Santiago Moure  0.132085\n",
      "4                          Alain Pauly  0.102802\n",
      "323                  Terry L. Griswold  0.094475\n",
      "300                Shôichi F. Sakagami  0.089539\n",
      "226                 Maximilian Schwarz  0.073034\n",
      "249                     Osamu Tadauchi  0.072153\n",
      "259           Philip Hunter Timberlake  0.060167\n",
      "334  Victor Hugo Gonzalez [Betancourt]  0.058586\n",
      "\n",
      "Median betweenness centrality: 0.0\n"
     ]
    }
   ],
   "source": [
    "betweenness_dict = nx.betweenness_centrality(G) # Run betweenness centrality\n",
    "betweenness_df = pd.DataFrame.from_dict(betweenness_dict, orient=\"index\", columns=[\"value\"])\n",
    "betweenness_df = betweenness_df.reset_index()\n",
    "\n",
    "print(betweenness_df.sort_values('value', ascending=False)[0:10])\n",
    "print(\"\\nMedian betweenness centrality:\", s.median(betweenness_df['value']))"
   ]
  },
  {
   "cell_type": "markdown",
   "metadata": {},
   "source": [
    "**Betweenness centrality** tabulates minimum of all shortest paths (see below) to pass through that node. Range from 0 to 1.\n",
    " "
   ]
  },
  {
   "cell_type": "code",
   "execution_count": 370,
   "metadata": {},
   "outputs": [
    {
     "name": "stdout",
     "output_type": "stream",
     "text": [
      "                           degree  eigenvector country_of_residence\n",
      "Mark Amidon Deyrup              5     0.123341                   US\n",
      "Allan Henry Smith-Pardo         4     0.108268                   US\n",
      "Abdulaziz S. Alqarni            3     0.107478                   SA\n",
      "Mohammed A. Hannan              3     0.107478                   US\n",
      "Carlos Hernan Vergara           3     0.107125                   MX\n",
      "Yuvarin [Rak] Boontop           2     0.100025                   TH\n",
      "Rodrigo Barbosa Gonçalves       4     0.087678                   BR\n",
      "Olivia Yáñez-Ordóñez            2     0.080419                   MX\n",
      "Daniel J. Bennett               2     0.080419                   US\n"
     ]
    }
   ],
   "source": [
    "nx.set_node_attributes(G, betweenness_dict, 'betweenness')\n",
    "nx.set_node_attributes(G, eigenvector_dict, 'eigenvector')\n",
    "\n",
    "cen_df = pd.DataFrame.from_dict(dict(G.nodes(data=True)), orient='index')\n",
    "\n",
    "check = (cen_df['degree'] <= 5) & (cen_df['betweenness'] >= s.median(cen_df['betweenness'])) # use 4 instead of median of 1\n",
    "print(cen_df[['degree', 'eigenvector', 'country_of_residence']][check].sort_values('eigenvector', ascending=False)[1:10])"
   ]
  },
  {
   "cell_type": "markdown",
   "metadata": {},
   "source": [
    "A **broker** is one where clusters of subgraphs need to pass through you, they usually \"have high betweenness centrality but low degree\".\n"
   ]
  },
  {
   "cell_type": "code",
   "execution_count": 293,
   "metadata": {},
   "outputs": [
    {
     "name": "stdout",
     "output_type": "stream",
     "text": [
      "Shortest path between  Theodore Dru Alison Cockerell  and  Jesus Santiago Moure : ['Theodore Dru Alison Cockerell', 'Philip Hunter Timberlake', 'Charles Duncan Michener', 'Jesus Santiago Moure']\n",
      "Length of that path: 3 \n",
      "\n",
      "Shortest path between  Chao-dong Zhu  and  Michael Scott Engel : ['Chao-dong Zhu', 'Michael Kuhlmann', 'Maxim Yurievich Proshchalykin', 'Holger Heinrich Dathe', 'Michael Scott Engel']\n",
      "Length of that path: 4 \n",
      "\n"
     ]
    }
   ],
   "source": [
    "def shortest_path(n1, n2):\n",
    "    shortest_path = nx.shortest_path(G, source=n1, target=n2)\n",
    "    print(\"Shortest path between \", n1, \" and \", n2, \":\", shortest_path)\n",
    "    print(\"Length of that path:\", len(shortest_path)-1, \"\\n\")\n",
    "    \n",
    "shortest_path(\"Theodore Dru Alison Cockerell\", \"Jesus Santiago Moure\")\n",
    "shortest_path(\"Chao-dong Zhu\", \"Michael Scott Engel\")"
   ]
  },
  {
   "cell_type": "markdown",
   "metadata": {},
   "source": [
    "**Shortest path** allows one to see how many \"steps\" it takes to reach from one node to another.\n",
    "\n",
    "Possible analysis: how one important node from one \"module\" links to another important node in another \"module\", i.e. who are the bridges."
   ]
  },
  {
   "cell_type": "code",
   "execution_count": 244,
   "metadata": {},
   "outputs": [
    {
     "name": "stdout",
     "output_type": "stream",
     "text": [
      "Network diameter of largest component: 11\n"
     ]
    },
    {
     "data": {
      "image/png": "[encoded data removed]",
      "text/plain": [
       "<Figure size 432x288 with 1 Axes>"
      ]
     },
     "metadata": {},
     "output_type": "display_data"
    }
   ],
   "source": [
    "# Next, use nx.connected_components to get the list of components,\n",
    "# then use the max() command to find the largest one:\n",
    "components = nx.connected_components(G)\n",
    "largest_component = max(components, key=len) # max number of nodes\n",
    "\n",
    "# Create a \"subgraph\" of just the largest component\n",
    "# Then calculate the diameter of the subgraph, just like you did with density.\n",
    "subgraph = G.subgraph(largest_component)\n",
    "diameter = nx.diameter(subgraph)\n",
    "print(\"Network diameter of largest component:\", diameter)\n",
    "\n",
    "# Plot subgraph\n",
    "plt.plot()\n",
    "nx.draw(subgraph, with_labels=False, node_size=10)\n",
    "\n",
    "# How to improve graphing: https://networkx.github.io/documentation/latest/auto_examples/index.html"
   ]
  },
  {
   "cell_type": "markdown",
   "metadata": {},
   "source": [
    "**Network diameter** is the length of the longest of shortest path in the network. Gives idea of size of network from one end to another. The largest subgraph gives an idea of the diameter of the entire network.\n",
    "\n",
    "Compared to Newman (2006), the diameter range from 20-30. Here, it's 11, suggesting it is more connected."
   ]
  },
  {
   "cell_type": "code",
   "execution_count": 237,
   "metadata": {
    "scrolled": true
   },
   "outputs": [
    {
     "name": "stdout",
     "output_type": "stream",
     "text": [
      "Number of subgraphs: 42\n",
      "Median diameter: 1.0\n",
      "Diameter: [11, 2, 2, 3, 2, 2, 1, 1, 2, 1, 1, 1, 1, 1, 1, 1, 1, 1, 1, 1, 1, 1, 1, 1, 1, 1, 1, 1, 1, 1, 1, 1, 1, 1, 1, 1, 1, 1, 1, 1, 1, 1] \n",
      "\n",
      "Median number of nodes: 2.0\n",
      "Number of nodes: [260, 6, 5, 5, 5, 4, 4, 3, 3, 2, 2, 2, 2, 2, 2, 2, 2, 2, 2, 2, 2, 2, 2, 2, 2, 2, 2, 2, 2, 2, 2, 2, 2, 2, 2, 2, 2, 2, 2, 2, 2, 2]\n"
     ]
    }
   ],
   "source": [
    "# Get subgraphs\n",
    "subgraphs = [c for c in sorted(nx.connected_components(G), key=len, reverse=True)]\n",
    "print(\"Number of subgraphs:\", len(subgraphs))\n",
    "dia_li = []\n",
    "nod_li = []\n",
    "for i in subgraphs:\n",
    "    dia_li.append(nx.diameter(G.subgraph(i)))\n",
    "    nod_li.append(len(i))\n",
    "\n",
    "print(\"Median diameter:\", s.median(dia_li))\n",
    "print(\"Diameter:\", dia_li, \"\\n\")\n",
    "print(\"Median number of nodes:\", s.median(nod_li))\n",
    "print(\"Number of nodes:\", nod_li)"
   ]
  },
  {
   "cell_type": "code",
   "execution_count": 238,
   "metadata": {
    "scrolled": true
   },
   "outputs": [
    {
     "name": "stdout",
     "output_type": "stream",
     "text": [
      "6 35 {'P. Girish Kumar', 'V. K. Tewari', 'Rajiv K. Gupta', 'Sundar Lal Sharma', 'Gaurav Sharma', 'Sabita Simlote'} {'IN': 6}\n",
      "5 3 {'Robert Louis Dressler', 'Santiago Ramírez', 'Rodulfo Ospina-Torres', 'Juan Carlos Sandino-Franco', 'Alejandro Parra-H'} {'CS': 1, 'US': 1, 'CO': 3}\n",
      "5 33 {'Glynn V. Maynard', 'Michael Batley', 'Katja Hogendoorn', 'Terry F. Houston', 'Remko Leijs'} {'AS': 5}\n",
      "5 2 {'Jian Yao', 'Sydney Cameron', 'Ya Tang', 'Paul Hugh Williams', 'Sydney G. Cannings'} {'US': 2, 'CH': 1, 'UK': 1, 'CA': 1}\n",
      "4 3 {'Marlene Lucia Aguilar-Benavides', 'Cindy Julieth Celis', 'Dieter Wittmann', 'José Ricardo Cure'} {'CO': 3, 'GM': 1}\n",
      "4 2 {'H. Randall Hepburn', 'Gard W. Otis', 'Deborah R. Smith', 'Sarah E. Radloff'} {'SF': 2, 'CA': 1, 'US': 1}\n",
      "3 1 {'Andreas Bertsch', 'Gerhard K. H. Przemeck', 'Martin Hrabé de Angelis'} {'GM': 3}\n",
      "3 19 {'Heinrich Friedrich August Karl Ludwig Friese', 'Karl Wilhelm von Dalla Torre', 'Franz von Wagner'} {'GM': 2, 'AU': 1}\n"
     ]
    }
   ],
   "source": [
    "for i in range(1, nod_li.index(2)):\n",
    "    subgraph = subgraphs[i]\n",
    "    countries = Counter([G.nodes()[p][\"country_of_residence\"] for p in subgraph])\n",
    "    N_species_li = [list(spp[spp[\"full.name.of.describer.n\"] == p].idx) for p in subgraph]\n",
    "    N_species = len(set(list(reduce(lambda x,y: x+y, N_species_li))))\n",
    "    print(len(subgraph), N_species, subgraph,  dict(countries))"
   ]
  },
  {
   "cell_type": "code",
   "execution_count": 253,
   "metadata": {},
   "outputs": [
    {
     "name": "stdout",
     "output_type": "stream",
     "text": [
      "                  0                 1                 2\n",
      "0  Glynn V. Maynard  Terry F. Houston   {'weight': 1.0}\n",
      "1    Michael Batley  Terry F. Houston  {'weight': 23.0}\n",
      "2    Michael Batley       Remko Leijs   {'weight': 4.0}\n",
      "3    Michael Batley  Katja Hogendoorn   {'weight': 4.0}\n",
      "4  Katja Hogendoorn       Remko Leijs   {'weight': 9.0}\n"
     ]
    },
    {
     "data": {
      "image/png": "[encoded data removed]",
      "text/plain": [
       "<Figure size 432x288 with 1 Axes>"
      ]
     },
     "metadata": {},
     "output_type": "display_data"
    }
   ],
   "source": [
    "# Plotting one of the subgraphs\n",
    "S = G.subgraph(subgraphs[3])\n",
    "print(pd.DataFrame(S.edges(data=True)))\n",
    "pos=nx.spring_layout(S) \n",
    "nx.draw_networkx_nodes(S, pos, node_size=30)\n",
    "nx.draw_networkx_labels(S, pos, font_size=10,font_color='g')\n",
    "\n",
    "all_weights = []\n",
    "for (n1, n2, attr) in S.edges(data=True):\n",
    "    all_weights.append(attr['weight'])\n",
    "unique_weights = list(set(all_weights))\n",
    "\n",
    "for wt in range(1, int(max(unique_weights))+1):\n",
    "    edges = [(n1,n2) for (n1, n2, attr) in S.edges(data=True) if attr['weight']==wt]\n",
    "    width = wt*len(edges)*3.0/sum(all_weights)\n",
    "    nx.draw_networkx_edges(S, pos, edgelist=edges, width=width, edge_color='b')"
   ]
  },
  {
   "cell_type": "markdown",
   "metadata": {},
   "source": [
    "This shows that there is one main \"subgraph\"/\"network\" with many other tiny subgraphs with authors that have residence in one dominant country and other countries in the network tend to be countries nearby.\n",
    "\n",
    "Possible analysis: check how many \"species\" outputs the smaller subgraphs have to test their influence. For example, the \"Jian Yao\" network only described 3 species in total (not including those individually described/collaboratively) whereas the \"Friese\" network described 19 species."
   ]
  },
  {
   "cell_type": "markdown",
   "metadata": {},
   "source": [
    "Quote from tutorial: \"This only scratches the surface of what can be done with network metrics in Python. NetworkX offers dozens of functions and measures for you to use in various combinations, and you can use Python to extend these measures in almost unlimited ways. A programming language like Python or R will give you the flexibility to explore your network computationally in ways other interfaces cannot by allowing you to combine and compare the statistical results of your network with other attributes of your data (like the dates and occupations you added to the network at the beginning of this tutorial!).\""
   ]
  },
  {
   "cell_type": "markdown",
   "metadata": {},
   "source": [
    "## Modularity"
   ]
  },
  {
   "cell_type": "code",
   "execution_count": 372,
   "metadata": {},
   "outputs": [],
   "source": [
    "communities = community.best_partition(G)"
   ]
  },
  {
   "cell_type": "code",
   "execution_count": 373,
   "metadata": {},
   "outputs": [],
   "source": [
    "nx.set_node_attributes(G, communities, 'modularity')"
   ]
  },
  {
   "cell_type": "code",
   "execution_count": 374,
   "metadata": {
    "scrolled": true
   },
   "outputs": [
    {
     "data": {
      "text/plain": [
       "46"
      ]
     },
     "execution_count": 374,
     "metadata": {},
     "output_type": "execute_result"
    }
   ],
   "source": [
    "class0 = [n for n in G.nodes() if G.nodes[n]['modularity'] == 0]; len(class0)"
   ]
  },
  {
   "cell_type": "code",
   "execution_count": 375,
   "metadata": {},
   "outputs": [],
   "source": [
    "# Then create a dictionary of the eigenvector centralities of those nodes\n",
    "class0_eigenvector = {n:G.nodes[n]['eigenvector'] for n in class0}"
   ]
  },
  {
   "cell_type": "code",
   "execution_count": 376,
   "metadata": {},
   "outputs": [
    {
     "name": "stdout",
     "output_type": "stream",
     "text": [
      "Modularity Class 0 Sorted by Eigenvector Centrality:\n",
      "Name: Michael Scott Engel | Eigenvector Centrality: 0.4607013143210458\n",
      "Name: Terry L. Griswold | Eigenvector Centrality: 0.32146051380748536\n",
      "Name: Victor Hugo Gonzalez [Betancourt] | Eigenvector Centrality: 0.29420394689460644\n",
      "Name: Ricardo Ayala Barajas | Eigenvector Centrality: 0.19620102130148936\n",
      "Name: Ismael Alejandro Hinojosa-Díaz | Eigenvector Centrality: 0.1845644245423236\n"
     ]
    }
   ],
   "source": [
    "# Then sort that dictionary and print the first 5 results\n",
    "class0_sorted_by_eigenvector = sorted(class0_eigenvector.items(), key=itemgetter(1), reverse=True)\n",
    "\n",
    "print(\"Modularity Class 0 Sorted by Eigenvector Centrality:\")\n",
    "for node in class0_sorted_by_eigenvector[:5]:\n",
    "    print(\"Name:\", node[0], \"| Eigenvector Centrality:\", node[1])"
   ]
  },
  {
   "cell_type": "code",
   "execution_count": 377,
   "metadata": {},
   "outputs": [
    {
     "name": "stdout",
     "output_type": "stream",
     "text": [
      "Class 0: ['Abdulaziz S. Alqarni', 'Allan Henry Smith-Pardo', 'Alvin Fleetwood Shinn', 'Andreas Müller', 'André Nemésio', 'Anne E. Dollin', 'Barrett Anthony Klein', 'Benjamin Bembé', 'Carlos Balboa', 'Carlos Hernan Vergara', 'Charlotte Skov', 'Claus Rasmussen', 'Daniel J. Bennett', 'David A. Tanner', 'Donald Burton Baker', 'Douglas Yanega', 'Frank D. Parker', 'George E. [Ned] Bohart', 'H. Glenn Hall', 'Ismael Alejandro Hinojosa-Díaz', 'Jakub Straka', 'John L. [Jack] Neff', 'John Stoskopf Ascher', 'Juan M. Labougle', 'Leah LaPerle Larkin', 'Leif D. Deyrup', 'Leslie J. Dollin', 'Mark Amidon Deyrup', 'Michael Christopher Orr', 'Michael S. Arduser', 'Michael Scott Engel', 'Mohammed A. Hannan', 'Molly Greer Rightmyer', 'Olivia Yáñez-Ordóñez', 'Paula A. Sepúlveda', 'Rafael R. Ferrari', 'Ricardo Ayala Barajas', 'Richard W. Rust', 'Rita I. Velez-Ruiz', 'Terry L. Griswold', 'Thomas Eltz', 'Thomas J. Pohl', 'Victor Hugo Gonzalez [Betancourt]', 'Volker Mauss', 'Wensdae Miller', 'Zach M. Portman']\n",
      "Class 3: ['Ahmatjan Dawut', 'Andreas Werner Ebmer', \"Asya Anatol'evna Ponomareva\", 'Bo G. Svensson', 'Embrik Strand', 'Hideo Takahashi', 'Huan Chen', 'Huan-li Xu', 'Hywel Roberts', 'I-Hsin Sung', 'Jian-guo Fan', 'Katsushi Mitai', 'Keizô Yasumatsu', 'Kimio Yoshikawa', 'Makoto Kato', 'Makoto Shiokawa', 'Masao Ito', 'Masashi Goubara', 'Maurits Anne Lieftinck', 'Meiyo Munakata', 'Misaki Abe', 'Mohamed Shebl', 'Osamu Tadauchi', 'Ryuki Murao', 'Ryôichi Miyanaga', 'Ryôsuke Ishikawa', 'Shuichi Ikudome', 'Shusaburo Tamasawa', 'Shôichi F. Sakagami', 'Stephen Gavilan Reyes', 'Swantje Grabener', 'Takao Itino', 'Takeo Yamauchi', 'Takeshi Matsumura', 'Tamiji Inoue', 'Vladimir Veniaminovich Popov', 'Yasuo Maeta', 'Yoshihiro Hirashima', 'Yoshito Haneda']\n",
      "Class 4: ['Alain Pauly', 'Alina Nilovna Kupianskaya', 'Andreas Dubitzky', 'Arkady S. Lelej', 'Barry James Donovan', 'Chao-dong Zhu', 'Concepción Ornosa', 'Cory Silas Sheffield', 'Da-Wei Huang', 'David W. Baldock', 'Denis Michez', 'Edgard Cédric Fabre Anguilet', 'Erin Willis', 'Francisco Javier Ortiz-Sánchez', 'Francisco La Roche', 'Hans Bänziger', 'Holger Heinrich Dathe', 'Jason Gibbs', 'Jelle Devalez', 'Jessica Janjic', 'Jessica Litman', 'Julio A. Genaro', 'Jérôme Munzinger', 'Kenneth L. Walker', 'Kim Timmermann', 'Korrawat Attasopa', 'Laurence Packer', 'Léo Correia da Rocha-Filho', 'Maxim Yurievich Proshchalykin', 'Michael Kuhlmann', \"Nina Grigo'yevna Davydova\", 'Pia Oremek', 'Qiang Li', 'Radclyffe Burnand Roberts', 'Robert W. Brooks', 'Rui Zhang', 'Sandra M. Rehan', 'Sheila Dumesh', 'Sébastien Patiny', 'Tatiana G. Romankova', 'Wan He', 'Y. B. Soukontoua', 'Yan-ru Wu', 'Yulia V. Astafurova', 'Yuriy Andreyevich Pesenko', 'Ze-qing Niu', 'Zewdu Ararso Hora']\n",
      "Class 6: ['Alberto H. Abrahamovich', 'Arturo Roig-Alsina', 'Boris O. Schlumpberger', 'Juan Pablo Torretta', 'Leopoldo J. Alvarez', 'Luis A. Compagnucci', 'Mariano Lucia', 'María Fernanda Rodríguez', 'Rocío Ana González-Vaquero', 'Silvana P. Durante']\n",
      "Class 7: ['Alejandro Parra-H', 'Juan Carlos Sandino-Franco', 'Robert Louis Dressler', 'Rodulfo Ospina-Torres', 'Santiago Ramírez']\n",
      "Class 9: ['Alexsander A. Azevedo', 'Antonio José Camillo Aguiar', 'Beatriz Woiski Teixeira Coelho', 'Danny Vélez', 'Eduardo Andrade Botelho de Almeida', 'Fabrício R. Santos', 'Favízia Freitas de Oliveira', 'Felipe V. Freitas', 'Felipe Vivallo [Felipe Rodrigo Vivallo Martínez]', 'Fernando Amaral da Silveira', 'Fernando César Vieira Zanella', 'Fernando Fernández', 'Gabriel Augusto Rodrigues de Melo', 'José Eustáquio Santos Júnior', 'Kelli dos Santos Ramos', 'Leandro Mattos Santos', 'Luiz R. R. Faria', 'Marcio Luiz de Oliveira', 'Marco Antônio Costa', 'Nadia S. Gibran', 'Paola Marchi', 'Roderic B. Martines', 'Rodrigo Barbosa Gonçalves', 'Sherlem Patricia de Seixas Felizardo', 'Thiago Mahlmann']\n",
      "Class 10: ['Alice Barringer Mackie', 'Beulah Hix Blair', 'Charles H. Hicks', 'Edward Sharpe Gaige Titus', 'Grace Adelbert Sandhouse', 'Henry Lorenz Viereck', 'James Chamberlain Crawford', 'Jessie E. Casad', 'John Harvey Lovell', 'Louise M. Ireland', 'Myron Harmon Swenk', 'Norma Ebolie LeVeque', 'Ruth Sumner', 'Sievert Allen Rohwer', 'Theodore Dru Alison Cockerell', 'Wilmatte Porter [Cockerell]']\n",
      "Class 13: ['Andreas Bertsch', 'Gerhard K. H. Przemeck', 'Martin Hrabé de Angelis']\n",
      "Class 14: ['Andrew R. Moldenke', 'Daniel H. Tapia', 'Elizabeth Chiappa', 'Fresia Rojas', 'Haroldo Toro [Guttierez]', 'Luisa Ruz', 'M. Herrera', 'Manfredo A. Fritz', 'Sharon Rodríguez', 'Victor Cabezas']\n",
      "Class 15: ['Anselm Kratochwil', 'Ardeshir Ariana', 'Canan Hazir', 'Connal D. Eardley', 'Erwin Scheuchl', 'Fritz Josef [Friedrich] Gusenleitner', 'Gerald Hölzler', 'Gideon Pisanty', 'Howell V. Daly', 'Jan Smit', 'Kamel Louadi', 'Karl Mazzucco', 'Karl N. Magnacca', 'Kim E. Steiner', 'Klaus Standfuss', 'Maximilian Schwarz', 'Noudjoud Benarfa', 'Rosalind Patricia Urban', 'Timofey Victorovich Levchenko', 'Vincent Booth Whitehead']\n",
      "Class 18: ['B. Lucas de Oliveira', 'Betânia Truylio', 'Birgit Harter-Marques', 'Blandina Felipe Viana', 'Carlos Alberto Campos Seabra', 'Chariya Lekprayoon', 'Charles Duncan Michener', 'Clemens Schlindwein', 'Daniele R. Parizotto', 'Danúncia Urban', 'David W. Ribble', 'David Ward Roubik', 'Earle Gorton Linsley', 'Edinaldo Luz das Neves', 'Ellen Ordway', 'Evandson José dos Anjos-Silva', 'Guaraci Duran Cordeiro', 'I. H. Syed', 'Jesus Santiago Moure', 'John K. Bouseman', 'John Winslow MacSwain', 'Jorge Arturo Lobo Segura', 'José Manuel Macário Rebêlo', 'João Maria Franco de Camargo', 'Marina Siqueira de Castro', 'Natapot Warrit', 'Patrícia maria Correia de Albuquerque', 'Paul David Hurd, Jr.', 'Philip Hunter Timberlake', 'Renee M. Borges', 'Robbin W. Thorp', 'Rodrigo da Cunha', 'Silvia Regina de Menezes Pedro', 'Somnuk Boongird', 'Stefan Vogel', 'Suzanne Willington Tubby Batra', 'Vinalto Graf', 'Wallace Edmund LaBerge', 'Warwick Estevam Kerr', 'Yuvarin [Rak] Boontop']\n",
      "Class 20: ['Bryan Nicholas Danforth', 'Gerald [Jerry] Irving Stage', 'Jerome George Rozen, Jr.', 'Joan G. Ehrenfeld', 'Roy R. Snelling', 'Thomas J. Zavortink', 'William T. Wcislo']\n",
      "Class 23: ['Cindy Julieth Celis', 'Dieter Wittmann', 'José Ricardo Cure', 'Marlene Lucia Aguilar-Benavides']\n",
      "Class 24: ['Deborah R. Smith', 'Gard W. Otis', 'H. Randall Hepburn', 'Sarah E. Radloff']\n",
      "Class 26: ['Franz von Wagner', 'Heinrich Friedrich August Karl Ludwig Friese', 'Karl Wilhelm von Dalla Torre']\n",
      "Class 28: ['Gaurav Sharma', 'P. Girish Kumar', 'Rajiv K. Gupta', 'Sabita Simlote', 'Sundar Lal Sharma', 'V. K. Tewari']\n",
      "Class 30: ['Glynn V. Maynard', 'Katja Hogendoorn', 'Michael Batley', 'Remko Leijs', 'Terry F. Houston']\n",
      "Class 35: ['Jian Yao', 'Paul Hugh Williams', 'Sydney Cameron', 'Sydney G. Cannings', 'Ya Tang']\n"
     ]
    }
   ],
   "source": [
    "modularity = {} # Create a new, empty dictionary\n",
    "for k,v in communities.items(): # Loop through the community dictionary\n",
    "    if v not in modularity:\n",
    "        modularity[v] = [k] # Add a new key for a modularity class the code hasn't seen before\n",
    "    else:\n",
    "        modularity[v].append(k) # Append a name to the list for a modularity class the code has already seen\n",
    "\n",
    "for k,v in modularity.items(): # Loop through the new dictionary\n",
    "    if len(v) > 2: # Filter out modularity classes with 2 or fewer nodes\n",
    "        print('Class '+str(k)+':', v) # Print out the classes and their members"
   ]
  }
 ],
 "metadata": {
  "kernelspec": {
   "display_name": "msc",
   "language": "python",
   "name": "msc"
  },
  "language_info": {
   "codemirror_mode": {
    "name": "ipython",
    "version": 3
   },
   "file_extension": ".py",
   "mimetype": "text/x-python",
   "name": "python",
   "nbconvert_exporter": "python",
   "pygments_lexer": "ipython3",
   "version": "3.7.3"
  }
 },
 "nbformat": 4,
 "nbformat_minor": 2
}
