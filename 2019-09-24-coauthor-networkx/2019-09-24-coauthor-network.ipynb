{
 "cells": [
  {
   "cell_type": "markdown",
   "metadata": {},
   "source": [
    "# Network analysis for coauthors \n",
    "\n",
    "Following tutorial from [this](https://programminghistorian.org/en/lessons/exploring-and-analyzing-network-data-with-python#advanced-networkx-community-detection-with-modularity)."
   ]
  },
  {
   "cell_type": "code",
   "execution_count": 1,
   "metadata": {},
   "outputs": [],
   "source": [
    "%load_ext autoreload\n",
    "%autoreload 2\n",
    "\n",
    "import csv\n",
    "import networkx as nx\n",
    "from operator import itemgetter\n",
    "from functools import reduce\n",
    "from collections import Counter\n",
    "import operator\n",
    "import community \n",
    "import matplotlib.pyplot as plt\n",
    "import statistics as s\n",
    "import pandas as pd\n",
    "\n",
    "from src.util import load_coauthor_nx, ddir"
   ]
  },
  {
   "cell_type": "markdown",
   "metadata": {},
   "source": [
    "##  Read data/ setup network"
   ]
  },
  {
   "cell_type": "code",
   "execution_count": 2,
   "metadata": {},
   "outputs": [],
   "source": [
    "fn_spp = ddir + '2019-05-23-Apoidea world consensus file Sorted by name 2019 describers_2.0-denormalised.csv'\n",
    "spp = pd.read_csv(fn_spp)[[\"idx\", \"full.name.of.describer.n\"]]\n",
    "spp = spp[spp.duplicated(subset=\"idx\", keep=False)] # keep only those with >1 authors"
   ]
  },
  {
   "cell_type": "code",
   "execution_count": 3,
   "metadata": {},
   "outputs": [
    {
     "name": "stdout",
     "output_type": "stream",
     "text": [
      "N nodes 361 ; N not nodes: 368\n",
      "Proportion who did not coauthor 50.48010973936899\n",
      "Name: \n",
      "Type: Graph\n",
      "Number of nodes: 361\n",
      "Number of edges: 463\n",
      "Average degree:   2.5651\n"
     ]
    }
   ],
   "source": [
    "(G, nodes) = load_coauthor_nx() # abstracted into src"
   ]
  },
  {
   "cell_type": "markdown",
   "metadata": {},
   "source": [
    "## Network metrics"
   ]
  },
  {
   "cell_type": "markdown",
   "metadata": {},
   "source": [
    "### Basic functions"
   ]
  },
  {
   "cell_type": "code",
   "execution_count": 4,
   "metadata": {},
   "outputs": [
    {
     "name": "stdout",
     "output_type": "stream",
     "text": [
      "More than one component:  True\n"
     ]
    }
   ],
   "source": [
    "# If your Graph has more than one component, this will return False:\n",
    "print(\"More than one component: \", not(nx.is_connected(G)))"
   ]
  },
  {
   "cell_type": "code",
   "execution_count": 5,
   "metadata": {},
   "outputs": [
    {
     "data": {
      "text/plain": [
       "'US'"
      ]
     },
     "execution_count": 5,
     "metadata": {},
     "output_type": "execute_result"
    }
   ],
   "source": [
    "# How to access individual nodes\n",
    "G.nodes()['Charles Duncan Michener'][\"country_of_residence\"]"
   ]
  },
  {
   "cell_type": "code",
   "execution_count": 6,
   "metadata": {},
   "outputs": [
    {
     "data": {
      "text/plain": [
       "EdgeDataView([('Abdulaziz S. Alqarni', 'Mohammed A. Hannan', {'weight': 2.0}), ('Abdulaziz S. Alqarni', 'Michael Scott Engel', {'weight': 2.0}), ('Abdulaziz S. Alqarni', 'Victor Hugo Gonzalez [Betancourt]', {'weight': 1.0})])"
      ]
     },
     "execution_count": 6,
     "metadata": {},
     "output_type": "execute_result"
    }
   ],
   "source": [
    "# How to access edges\n",
    "G.edges(('Abdulaziz S. Alqarni'), data=True)"
   ]
  },
  {
   "cell_type": "markdown",
   "metadata": {},
   "source": [
    "### Network metrics"
   ]
  },
  {
   "cell_type": "code",
   "execution_count": 7,
   "metadata": {},
   "outputs": [
    {
     "name": "stdout",
     "output_type": "stream",
     "text": [
      "Network density: 0.7 %\n"
     ]
    }
   ],
   "source": [
    "density = nx.density(G)\n",
    "print(\"Network density:\", round(density*100, 1), \"%\")"
   ]
  },
  {
   "cell_type": "markdown",
   "metadata": {},
   "source": [
    "**Network density** is the ratio of one node to all possible edges. Gives idea of how closely knit the network is. Ranges from 0 to 1."
   ]
  },
  {
   "cell_type": "code",
   "execution_count": 8,
   "metadata": {},
   "outputs": [
    {
     "name": "stdout",
     "output_type": "stream",
     "text": [
      "Triadic closure: 14.2 %\n"
     ]
    }
   ],
   "source": [
    "triadic_closure = nx.transitivity(G)\n",
    "print(\"Triadic closure:\", round(triadic_closure*100, 1), \"%\")"
   ]
  },
  {
   "cell_type": "markdown",
   "metadata": {},
   "source": [
    "**Transitivity** is one metric of measuring tradic closure (\"triangles\" formed as if two people know each other, they are more likely to know another). It is the ratio of all triangles over all possible triangles. Range from 0 to 1. "
   ]
  },
  {
   "cell_type": "code",
   "execution_count": 9,
   "metadata": {},
   "outputs": [
    {
     "name": "stdout",
     "output_type": "stream",
     "text": [
      "                                 index  degree\n",
      "235                Michael Scott Engel      30\n",
      "54             Charles Duncan Michener      23\n",
      "323                  Terry L. Griswold      19\n",
      "4                          Alain Pauly      19\n",
      "150               Jesus Santiago Moure      19\n",
      "300                Shôichi F. Sakagami      17\n",
      "249                     Osamu Tadauchi      17\n",
      "106  Gabriel Augusto Rodrigues de Melo      15\n",
      "334  Victor Hugo Gonzalez [Betancourt]      15\n",
      "324      Theodore Dru Alison Cockerell      15\n",
      "\n",
      "Median centrality: 1\n"
     ]
    }
   ],
   "source": [
    "degree_dict = dict(G.degree(G.nodes()))\n",
    "nx.set_node_attributes(G, degree_dict, 'degree')\n",
    "\n",
    "degree_df = pd.DataFrame.from_dict(dict(G.nodes(data=True)), orient='index')\n",
    "degree_df = degree_df.reset_index()\n",
    "\n",
    "print(degree_df[['index', 'degree']].sort_values(\"degree\", ascending=False)[0:10])\n",
    "print(\"\\nMedian centrality:\", s.median(degree_df.degree))"
   ]
  },
  {
   "cell_type": "markdown",
   "metadata": {},
   "source": [
    "**Centrality** are a group of metrics to determine which nodes are most important.\n",
    "\n",
    "**Degree** is the sum of edges. Those with the highest degree are known as **\"hubs\"**."
   ]
  },
  {
   "cell_type": "code",
   "execution_count": 10,
   "metadata": {},
   "outputs": [
    {
     "name": "stdout",
     "output_type": "stream",
     "text": [
      "                                 index     value\n",
      "235                Michael Scott Engel  0.460701\n",
      "54             Charles Duncan Michener  0.341882\n",
      "323                  Terry L. Griswold  0.321461\n",
      "334  Victor Hugo Gonzalez [Betancourt]  0.294204\n",
      "268              Ricardo Ayala Barajas  0.196201\n",
      "138     Ismael Alejandro Hinojosa-Díaz  0.184564\n",
      "274                   Robert W. Brooks  0.182049\n",
      "158               John Stoskopf Ascher  0.169752\n",
      "240              Molly Greer Rightmyer  0.141194\n",
      "106  Gabriel Augusto Rodrigues de Melo  0.135495\n",
      "\n",
      "Median eigenvector centrality: 0.003972729626010645\n"
     ]
    }
   ],
   "source": [
    "eigenvector_dict = nx.eigenvector_centrality(G) # Run eigenvector centrality\n",
    "eigenvector_df = pd.DataFrame.from_dict(eigenvector_dict, orient=\"index\", columns=['value'])\n",
    "eigenvector_df = eigenvector_df.reset_index()\n",
    "\n",
    "print(eigenvector_df.sort_values('value', ascending=False)[0:10])\n",
    "print(\"\\nMedian eigenvector centrality:\", s.median(eigenvector_df['value']))"
   ]
  },
  {
   "cell_type": "markdown",
   "metadata": {},
   "source": [
    "**Eigenvector centrality** is an extension, including values from the neighbour's centrality too."
   ]
  },
  {
   "cell_type": "code",
   "execution_count": 11,
   "metadata": {},
   "outputs": [
    {
     "name": "stdout",
     "output_type": "stream",
     "text": [
      "                                 index     value\n",
      "54             Charles Duncan Michener  0.172105\n",
      "235                Michael Scott Engel  0.151704\n",
      "150               Jesus Santiago Moure  0.132085\n",
      "4                          Alain Pauly  0.102802\n",
      "323                  Terry L. Griswold  0.094475\n",
      "300                Shôichi F. Sakagami  0.089539\n",
      "226                 Maximilian Schwarz  0.073034\n",
      "249                     Osamu Tadauchi  0.072153\n",
      "259           Philip Hunter Timberlake  0.060167\n",
      "334  Victor Hugo Gonzalez [Betancourt]  0.058586\n",
      "\n",
      "Median betweenness centrality: 0.0\n"
     ]
    }
   ],
   "source": [
    "betweenness_dict = nx.betweenness_centrality(G) # Run betweenness centrality\n",
    "betweenness_df = pd.DataFrame.from_dict(betweenness_dict, orient=\"index\", columns=[\"value\"])\n",
    "betweenness_df = betweenness_df.reset_index()\n",
    "\n",
    "print(betweenness_df.sort_values('value', ascending=False)[0:10])\n",
    "print(\"\\nMedian betweenness centrality:\", s.median(betweenness_df['value']))"
   ]
  },
  {
   "cell_type": "markdown",
   "metadata": {},
   "source": [
    "**Betweenness centrality** tabulates minimum of all shortest paths (see below) to pass through that node. Range from 0 to 1.\n",
    " "
   ]
  },
  {
   "cell_type": "code",
   "execution_count": 12,
   "metadata": {},
   "outputs": [
    {
     "name": "stdout",
     "output_type": "stream",
     "text": [
      "                                      degree  betweenness country_of_residence\n",
      "Mariano Lucia                              3     0.023799                   AR\n",
      "Silvana P. Durante                         3     0.023491                   AR\n",
      "Maxim Yurievich Proshchalykin              5     0.018292                   RS\n",
      "Jerome George Rozen, Jr.                   5     0.018167                   US\n",
      "João Maria Franco de Camargo               5     0.012802                   BR\n",
      "Yuriy Andreyevich Pesenko                  5     0.012383                   RS\n",
      "Roy R. Snelling                            4     0.012094                   US\n",
      "Keizô Yasumatsu                            3     0.011916                   JA\n",
      "Zach M. Portman                            2     0.011885                   US\n",
      "Holger Heinrich Dathe                      4     0.011387                   GM\n",
      "David Ward Roubik                          4     0.011170                   PM\n",
      "Jason Gibbs                                4     0.010717                   CA\n",
      "Danúncia Urban                             4     0.010415                   BR\n",
      "Denis Michez                               5     0.009051                   BE\n",
      "Fritz Josef [Friedrich] Gusenleitner       5     0.008011                   AU\n",
      "Julio A. Genaro                            2     0.007954                   US\n",
      "John L. [Jack] Neff                        2     0.007954                   US\n",
      "George E. [Ned] Bohart                     4     0.007323                   US\n",
      "Mohamed Shebl                              2     0.004855                   JA\n"
     ]
    }
   ],
   "source": [
    "nx.set_node_attributes(G, betweenness_dict, 'betweenness')\n",
    "nx.set_node_attributes(G, eigenvector_dict, 'eigenvector')\n",
    "\n",
    "cen_df = pd.DataFrame.from_dict(dict(G.nodes(data=True)), orient='index')\n",
    "\n",
    "check = (cen_df['degree'] <= 5) & (cen_df['betweenness'] >= s.median(cen_df['betweenness'])) # use 4 instead of median of 1\n",
    "brokers = cen_df[['degree', 'betweenness', 'country_of_residence']][check].sort_values('betweenness', ascending=False)[1:20]\n",
    "print(brokers)\n",
    "brokers.to_csv(ddir+'eda2_auth/2019-11-07-coauth-brokers.csv')"
   ]
  },
  {
   "cell_type": "code",
   "execution_count": 13,
   "metadata": {},
   "outputs": [
    {
     "name": "stdout",
     "output_type": "stream",
     "text": [
      "                          degree  eigenvector country_of_residence\n",
      "Philip Hunter Timberlake       2     0.043472                   US\n"
     ]
    }
   ],
   "source": [
    "print(cen_df[cen_df.index=='Philip Hunter Timberlake'][['degree', 'eigenvector', 'country_of_residence']])\n",
    "# Timberlake was a “bridge” to Michener and Cockerell. "
   ]
  },
  {
   "cell_type": "code",
   "execution_count": 14,
   "metadata": {},
   "outputs": [
    {
     "name": "stdout",
     "output_type": "stream",
     "text": [
      "                                   eigenvector  degree\n",
      "Michael Scott Engel                   0.460701      30\n",
      "Charles Duncan Michener               0.341882      23\n",
      "Terry L. Griswold                     0.321461      19\n",
      "Victor Hugo Gonzalez [Betancourt]     0.294204      15\n",
      "Ricardo Ayala Barajas                 0.196201       7\n",
      "Ismael Alejandro Hinojosa-Díaz        0.184564       7\n",
      "Robert W. Brooks                      0.182049       8\n",
      "John Stoskopf Ascher                  0.169752       6\n",
      "Molly Greer Rightmyer                 0.141194       5\n",
      "Gabriel Augusto Rodrigues de Melo     0.135495      15\n"
     ]
    }
   ],
   "source": [
    "print(cen_df.sort_values(\"eigenvector\", ascending=False)[[\"eigenvector\", \"degree\"]][0:10])"
   ]
  },
  {
   "cell_type": "code",
   "execution_count": 15,
   "metadata": {},
   "outputs": [
    {
     "name": "stdout",
     "output_type": "stream",
     "text": [
      "Mean\n",
      " degree         1.00000\n",
      "betweenness    0.00000\n",
      "eigenvector    0.00397\n",
      "dtype: float64\n",
      "Count\n",
      " country_of_residence    361\n",
      "degree                  361\n",
      "betweenness             361\n",
      "eigenvector             361\n",
      "dtype: int64\n"
     ]
    }
   ],
   "source": [
    "print(\"Mean\\n\", round(cen_df.median(), 5))\n",
    "print(\"Count\\n\", cen_df.count())"
   ]
  },
  {
   "cell_type": "markdown",
   "metadata": {},
   "source": [
    "A **broker** is one where clusters of subgraphs need to pass through you, they usually \"have high betweenness centrality but low degree\".\n"
   ]
  },
  {
   "cell_type": "code",
   "execution_count": 16,
   "metadata": {},
   "outputs": [
    {
     "name": "stdout",
     "output_type": "stream",
     "text": [
      "Shortest path between  Theodore Dru Alison Cockerell  and  Jesus Santiago Moure : ['Theodore Dru Alison Cockerell', 'Philip Hunter Timberlake', 'Charles Duncan Michener', 'Jesus Santiago Moure']\n",
      "Length of that path: 3 \n",
      "\n",
      "Shortest path between  Chao-dong Zhu  and  Michael Scott Engel : ['Chao-dong Zhu', 'Michael Kuhlmann', 'Maxim Yurievich Proshchalykin', 'Holger Heinrich Dathe', 'Michael Scott Engel']\n",
      "Length of that path: 4 \n",
      "\n"
     ]
    }
   ],
   "source": [
    "def shortest_path(n1, n2):\n",
    "    shortest_path = nx.shortest_path(G, source=n1, target=n2)\n",
    "    print(\"Shortest path between \", n1, \" and \", n2, \":\", shortest_path)\n",
    "    print(\"Length of that path:\", len(shortest_path)-1, \"\\n\")\n",
    "    \n",
    "shortest_path(\"Theodore Dru Alison Cockerell\", \"Jesus Santiago Moure\")\n",
    "shortest_path(\"Chao-dong Zhu\", \"Michael Scott Engel\")"
   ]
  },
  {
   "cell_type": "markdown",
   "metadata": {},
   "source": [
    "**Shortest path** allows one to see how many \"steps\" it takes to reach from one node to another.\n",
    "\n",
    "Possible analysis: how one important node from one \"module\" links to another important node in another \"module\", i.e. who are the bridges."
   ]
  },
  {
   "cell_type": "code",
   "execution_count": 17,
   "metadata": {},
   "outputs": [
    {
     "name": "stdout",
     "output_type": "stream",
     "text": [
      "Network diameter of largest component: 11\n"
     ]
    },
    {
     "data": {
      "image/png": "[encoded data removed]",
      "text/plain": [
       "<Figure size 432x288 with 1 Axes>"
      ]
     },
     "metadata": {},
     "output_type": "display_data"
    }
   ],
   "source": [
    "# Next, use nx.connected_components to get the list of components,\n",
    "# then use the max() command to find the largest one:\n",
    "components = nx.connected_components(G)\n",
    "largest_component = max(components, key=len) # max number of nodes\n",
    "\n",
    "# Create a \"subgraph\" of just the largest component\n",
    "# Then calculate the diameter of the subgraph, just like you did with density.\n",
    "subgraph = G.subgraph(largest_component)\n",
    "diameter = nx.diameter(subgraph)\n",
    "print(\"Network diameter of largest component:\", diameter)\n",
    "\n",
    "# Plot subgraph\n",
    "plt.plot()\n",
    "nx.draw(subgraph, with_labels=False, node_size=10)\n",
    "\n",
    "# How to improve graphing: https://networkx.github.io/documentation/latest/auto_examples/index.html"
   ]
  },
  {
   "cell_type": "markdown",
   "metadata": {},
   "source": [
    "**Network diameter** is the length of the longest of shortest path in the network. Gives idea of size of network from one end to another. The largest subgraph gives an idea of the diameter of the entire network.\n",
    "\n",
    "Compared to Newman (2006), the diameter range from 20-30. Here, it's 11, suggesting it is more connected."
   ]
  },
  {
   "cell_type": "code",
   "execution_count": 18,
   "metadata": {
    "scrolled": true
   },
   "outputs": [
    {
     "name": "stdout",
     "output_type": "stream",
     "text": [
      "Number of subgraphs: 42\n",
      "Median diameter: 1.0\n",
      "Diameter: [11, 2, 2, 3, 2, 2, 1, 1, 2, 1, 1, 1, 1, 1, 1, 1, 1, 1, 1, 1, 1, 1, 1, 1, 1, 1, 1, 1, 1, 1, 1, 1, 1, 1, 1, 1, 1, 1, 1, 1, 1, 1] \n",
      "\n",
      "Median number of nodes: 2.0\n",
      "Number of nodes when = 2 nodes: 33\n",
      "Number of nodes: [260, 6, 5, 5, 5, 4, 4, 3, 3, 2, 2, 2, 2, 2, 2, 2, 2, 2, 2, 2, 2, 2, 2, 2, 2, 2, 2, 2, 2, 2, 2, 2, 2, 2, 2, 2, 2, 2, 2, 2, 2, 2]\n"
     ]
    }
   ],
   "source": [
    "# Get subgraphs\n",
    "subgraphs = [c for c in sorted(nx.connected_components(G), key=len, reverse=True)]\n",
    "print(\"Number of subgraphs:\", len(subgraphs))\n",
    "dia_li = []\n",
    "nod_li = []\n",
    "for i in subgraphs:\n",
    "    dia_li.append(nx.diameter(G.subgraph(i)))\n",
    "    nod_li.append(len(i))\n",
    "\n",
    "print(\"Median diameter:\", s.median(dia_li))\n",
    "print(\"Diameter:\", dia_li, \"\\n\")\n",
    "\n",
    "print(\"Median number of nodes:\", s.median(nod_li))\n",
    "print(\"Number of nodes when = 2 nodes:\", sum([x==2 for x in nod_li]))\n",
    "print(\"Number of nodes:\", nod_li)"
   ]
  },
  {
   "cell_type": "code",
   "execution_count": 19,
   "metadata": {
    "scrolled": true
   },
   "outputs": [
    {
     "name": "stdout",
     "output_type": "stream",
     "text": [
      "6 35 4 {'Gaurav Sharma', 'Sabita Simlote', 'P. Girish Kumar', 'Rajiv K. Gupta', 'V. K. Tewari', 'Sundar Lal Sharma'} {'IN': 6}\n",
      "5 3 0 {'Santiago Ramírez', 'Robert Louis Dressler', 'Juan Carlos Sandino-Franco', 'Rodulfo Ospina-Torres', 'Alejandro Parra-H'} {'US': 1, 'CS': 1, 'CO': 3}\n",
      "5 33 0 {'Remko Leijs', 'Glynn V. Maynard', 'Michael Batley', 'Katja Hogendoorn', 'Terry F. Houston'} {'AS': 5}\n",
      "5 2 0 {'Ya Tang', 'Sydney G. Cannings', 'Jian Yao', 'Paul Hugh Williams', 'Sydney Cameron'} {'CH': 1, 'CA': 1, 'US': 2, 'UK': 1}\n",
      "4 3 0 {'Cindy Julieth Celis', 'Marlene Lucia Aguilar-Benavides', 'Dieter Wittmann', 'José Ricardo Cure'} {'CO': 3, 'GM': 1}\n",
      "4 2 2 {'Sarah E. Radloff', 'Gard W. Otis', 'H. Randall Hepburn', 'Deborah R. Smith'} {'SF': 2, 'CA': 1, 'US': 1}\n",
      "3 1 1 {'Andreas Bertsch', 'Gerhard K. H. Przemeck', 'Martin Hrabé de Angelis'} {'GM': 3}\n",
      "3 19 13 {'Heinrich Friedrich August Karl Ludwig Friese', 'Franz von Wagner', 'Karl Wilhelm von Dalla Torre'} {'GM': 2, 'AU': 1}\n",
      "Total species contribution: 98\n"
     ]
    }
   ],
   "source": [
    "subgraph_info = {}\n",
    "total_spp = 0\n",
    "for i in range(1, nod_li.index(2)):\n",
    "    subgraph = subgraphs[i]\n",
    "    countries = Counter([G.nodes()[p][\"country_of_residence\"] for p in subgraph])\n",
    "    N_species_li = [list(spp[spp[\"full.name.of.describer.n\"] == p].idx) for p in subgraph]\n",
    "    N_species = set(list(reduce(lambda x,y: x+y, N_species_li)))\n",
    "    N_synonyms = len([x for x in N_species if x > 20669])\n",
    "    N_species = len(N_species)\n",
    "    print(len(subgraph), N_species, N_synonyms, subgraph,  dict(countries))\n",
    "    subgraph_info[i] = {'N_species': N_species,\n",
    "                        'N_synonyms': N_synonyms,\n",
    "                        'N_nodes': len(subgraph),\n",
    "                        'id_nodes': subgraph,\n",
    "                        'countries': dict(countries)}\n",
    "    total_spp = total_spp + N_species\n",
    "pd.DataFrame.from_dict(subgraph_info, orient='index').to_csv(ddir+'eda2_auth/2019-11-07-coauth-subgraphs.csv')\n",
    "print(\"Total species contribution:\", total_spp)"
   ]
  },
  {
   "cell_type": "code",
   "execution_count": 20,
   "metadata": {
    "scrolled": false
   },
   "outputs": [
    {
     "name": "stdout",
     "output_type": "stream",
     "text": [
      "                 0                  1                 2\n",
      "0    Gaurav Sharma     Rajiv K. Gupta   {'weight': 1.0}\n",
      "1    Gaurav Sharma    P. Girish Kumar   {'weight': 1.0}\n",
      "2   Sabita Simlote     Rajiv K. Gupta  {'weight': 19.0}\n",
      "3   Sabita Simlote  Sundar Lal Sharma  {'weight': 12.0}\n",
      "4  P. Girish Kumar     Rajiv K. Gupta   {'weight': 1.0}\n",
      "5   Rajiv K. Gupta  Sundar Lal Sharma  {'weight': 24.0}\n",
      "6   Rajiv K. Gupta       V. K. Tewari   {'weight': 3.0}\n"
     ]
    },
    {
     "data": {
      "image/png": "[encoded data removed]",
      "text/plain": [
       "<Figure size 432x288 with 1 Axes>"
      ]
     },
     "metadata": {},
     "output_type": "display_data"
    }
   ],
   "source": [
    "# Plotting one of the subgraphs\n",
    "S = G.subgraph(subgraphs[1])\n",
    "print(pd.DataFrame(S.edges(data=True)))\n",
    "pos=nx.spring_layout(S) \n",
    "nx.draw_networkx_nodes(S, pos, node_size=30)\n",
    "nx.draw_networkx_labels(S, pos, font_size=10,font_color='g')\n",
    "\n",
    "all_weights = []\n",
    "for (n1, n2, attr) in S.edges(data=True):\n",
    "    all_weights.append(attr['weight'])\n",
    "unique_weights = list(set(all_weights))\n",
    "\n",
    "for wt in range(1, int(max(unique_weights))+1):\n",
    "    edges = [(n1,n2) for (n1, n2, attr) in S.edges(data=True) if attr['weight']==wt]\n",
    "    width = wt*len(edges)*3.0/sum(all_weights)\n",
    "    nx.draw_networkx_edges(S, pos, edgelist=edges, width=width, edge_color='b')"
   ]
  },
  {
   "cell_type": "markdown",
   "metadata": {},
   "source": [
    "This shows that there is one main \"subgraph\"/\"network\" with many other tiny subgraphs with authors that have residence in one dominant country and other countries in the network tend to be countries nearby.\n",
    "\n",
    "Possible analysis: check how many \"species\" outputs the smaller subgraphs have to test their influence. For example, the \"Jian Yao\" network only described 3 species in total (not including those individually described/collaboratively) whereas the \"Friese\" network described 19 species."
   ]
  },
  {
   "cell_type": "markdown",
   "metadata": {},
   "source": [
    "Quote from tutorial: \"This only scratches the surface of what can be done with network metrics in Python. NetworkX offers dozens of functions and measures for you to use in various combinations, and you can use Python to extend these measures in almost unlimited ways. A programming language like Python or R will give you the flexibility to explore your network computationally in ways other interfaces cannot by allowing you to combine and compare the statistical results of your network with other attributes of your data (like the dates and occupations you added to the network at the beginning of this tutorial!).\""
   ]
  },
  {
   "cell_type": "markdown",
   "metadata": {},
   "source": [
    "## Modularity"
   ]
  },
  {
   "cell_type": "code",
   "execution_count": 21,
   "metadata": {},
   "outputs": [],
   "source": [
    "communities = community.best_partition(G)"
   ]
  },
  {
   "cell_type": "code",
   "execution_count": 22,
   "metadata": {},
   "outputs": [],
   "source": [
    "nx.set_node_attributes(G, communities, 'modularity')"
   ]
  },
  {
   "cell_type": "code",
   "execution_count": 23,
   "metadata": {
    "scrolled": true
   },
   "outputs": [
    {
     "data": {
      "text/plain": [
       "48"
      ]
     },
     "execution_count": 23,
     "metadata": {},
     "output_type": "execute_result"
    }
   ],
   "source": [
    "class0 = [n for n in G.nodes() if G.nodes[n]['modularity'] == 0]; len(class0)"
   ]
  },
  {
   "cell_type": "code",
   "execution_count": 24,
   "metadata": {},
   "outputs": [],
   "source": [
    "# Then create a dictionary of the eigenvector centralities of those nodes\n",
    "class0_eigenvector = {n:G.nodes[n]['eigenvector'] for n in class0}"
   ]
  },
  {
   "cell_type": "code",
   "execution_count": 25,
   "metadata": {},
   "outputs": [
    {
     "name": "stdout",
     "output_type": "stream",
     "text": [
      "Modularity Class 0 Sorted by Eigenvector Centrality:\n",
      "Name: Michael Scott Engel | Eigenvector Centrality: 0.4607013143210458\n",
      "Name: Terry L. Griswold | Eigenvector Centrality: 0.32146051380748536\n",
      "Name: Victor Hugo Gonzalez [Betancourt] | Eigenvector Centrality: 0.29420394689460644\n",
      "Name: Ricardo Ayala Barajas | Eigenvector Centrality: 0.19620102130148936\n",
      "Name: Ismael Alejandro Hinojosa-Díaz | Eigenvector Centrality: 0.1845644245423236\n"
     ]
    }
   ],
   "source": [
    "# Then sort that dictionary and print the first 5 results\n",
    "class0_sorted_by_eigenvector = sorted(class0_eigenvector.items(), key=itemgetter(1), reverse=True)\n",
    "\n",
    "print(\"Modularity Class 0 Sorted by Eigenvector Centrality:\")\n",
    "for node in class0_sorted_by_eigenvector[:5]:\n",
    "    print(\"Name:\", node[0], \"| Eigenvector Centrality:\", node[1])"
   ]
  },
  {
   "cell_type": "code",
   "execution_count": 26,
   "metadata": {},
   "outputs": [
    {
     "name": "stdout",
     "output_type": "stream",
     "text": [
      "Class 0: ['Abdulaziz S. Alqarni', 'Allan Henry Smith-Pardo', 'Alvin Fleetwood Shinn', 'Andreas Müller', 'André Nemésio', 'Anne E. Dollin', 'Barrett Anthony Klein', 'Benjamin Bembé', 'Carlos Balboa', 'Carlos Hernan Vergara', 'Charlotte Skov', 'Claus Rasmussen', 'Daniel J. Bennett', 'David A. Tanner', 'Donald Burton Baker', 'Favízia Freitas de Oliveira', 'Frank D. Parker', 'George E. [Ned] Bohart', 'H. Glenn Hall', 'Ismael Alejandro Hinojosa-Díaz', 'Jakub Straka', 'John L. [Jack] Neff', 'John Stoskopf Ascher', 'Juan M. Labougle', 'Leah LaPerle Larkin', 'Leif D. Deyrup', 'Leslie J. Dollin', 'Marcio Luiz de Oliveira', 'Mark Amidon Deyrup', 'Michael Christopher Orr', 'Michael S. Arduser', 'Michael Scott Engel', 'Mohammed A. Hannan', 'Molly Greer Rightmyer', 'Olivia Yáñez-Ordóñez', 'Paula A. Sepúlveda', 'Rafael R. Ferrari', 'Ricardo Ayala Barajas', 'Richard W. Rust', 'Rita I. Velez-Ruiz', 'Terry L. Griswold', 'Thiago Mahlmann', 'Thomas Eltz', 'Thomas J. Pohl', 'Victor Hugo Gonzalez [Betancourt]', 'Volker Mauss', 'Wensdae Miller', 'Zach M. Portman']\n",
      "Class 3: ['Ahmatjan Dawut', 'Andreas Werner Ebmer', \"Asya Anatol'evna Ponomareva\", 'Bo G. Svensson', 'Embrik Strand', 'Hideo Takahashi', 'Huan Chen', 'Huan-li Xu', 'Hywel Roberts', 'I-Hsin Sung', 'Jian-guo Fan', 'Katsushi Mitai', 'Keizô Yasumatsu', 'Kimio Yoshikawa', 'Makoto Kato', 'Makoto Shiokawa', 'Masao Ito', 'Masashi Goubara', 'Maurits Anne Lieftinck', 'Meiyo Munakata', 'Misaki Abe', 'Mohamed Shebl', 'Osamu Tadauchi', 'Ryuki Murao', 'Ryôichi Miyanaga', 'Ryôsuke Ishikawa', 'Shuichi Ikudome', 'Shusaburo Tamasawa', 'Shôichi F. Sakagami', 'Stephen Gavilan Reyes', 'Swantje Grabener', 'Takao Itino', 'Takeo Yamauchi', 'Takeshi Matsumura', 'Tamiji Inoue', 'Vladimir Veniaminovich Popov', 'Yasuo Maeta', 'Yoshihiro Hirashima', 'Yoshito Haneda']\n",
      "Class 4: ['Alain Pauly', 'Barry James Donovan', 'Connal D. Eardley', 'Douglas Yanega', 'Edgard Cédric Fabre Anguilet', 'Francisco La Roche', 'Hans Bänziger', 'Howell V. Daly', 'Jelle Devalez', 'Jérôme Munzinger', 'Karl N. Magnacca', 'Kenneth L. Walker', 'Korrawat Attasopa', \"Nina Grigo'yevna Davydova\", 'Radclyffe Burnand Roberts', 'Robert W. Brooks', 'Rosalind Patricia Urban', 'Y. B. Soukontoua', 'Yuriy Andreyevich Pesenko', 'Zewdu Ararso Hora']\n",
      "Class 6: ['Alberto H. Abrahamovich', 'Arturo Roig-Alsina', 'Boris O. Schlumpberger', 'Juan Pablo Torretta', 'Leopoldo J. Alvarez', 'Luis A. Compagnucci', 'Mariano Lucia', 'María Fernanda Rodríguez', 'Rocío Ana González-Vaquero', 'Silvana P. Durante']\n",
      "Class 7: ['Alejandro Parra-H', 'Juan Carlos Sandino-Franco', 'Robert Louis Dressler', 'Rodulfo Ospina-Torres', 'Santiago Ramírez']\n",
      "Class 9: ['Alexsander A. Azevedo', 'Antonio José Camillo Aguiar', 'Beatriz Woiski Teixeira Coelho', 'Danny Vélez', 'Eduardo Andrade Botelho de Almeida', 'Fabrício R. Santos', 'Felipe V. Freitas', 'Felipe Vivallo [Felipe Rodrigo Vivallo Martínez]', 'Fernando Amaral da Silveira', 'Fernando César Vieira Zanella', 'Fernando Fernández', 'Gabriel Augusto Rodrigues de Melo', 'José Eustáquio Santos Júnior', 'Kelli dos Santos Ramos', 'Leandro Mattos Santos', 'Luiz R. R. Faria', 'Marco Antônio Costa', 'Nadia S. Gibran', 'Paola Marchi', 'Roderic B. Martines', 'Rodrigo Barbosa Gonçalves', 'Sherlem Patricia de Seixas Felizardo']\n",
      "Class 10: ['Alice Barringer Mackie', 'Beulah Hix Blair', 'Charles H. Hicks', 'Edward Sharpe Gaige Titus', 'Grace Adelbert Sandhouse', 'Henry Lorenz Viereck', 'James Chamberlain Crawford', 'Jessie E. Casad', 'John Harvey Lovell', 'Louise M. Ireland', 'Myron Harmon Swenk', 'Norma Ebolie LeVeque', 'Ruth Sumner', 'Sievert Allen Rohwer', 'Theodore Dru Alison Cockerell', 'Wilmatte Porter [Cockerell]']\n",
      "Class 11: ['Alina Nilovna Kupianskaya', 'Andreas Dubitzky', 'Arkady S. Lelej', 'Chao-dong Zhu', 'Concepción Ornosa', 'Cory Silas Sheffield', 'Da-Wei Huang', 'David W. Baldock', 'Denis Michez', 'Erin Willis', 'Francisco Javier Ortiz-Sánchez', 'Holger Heinrich Dathe', 'Jason Gibbs', 'Jessica Janjic', 'Jessica Litman', 'Julio A. Genaro', 'Kim Timmermann', 'Laurence Packer', 'Léo Correia da Rocha-Filho', 'Maxim Yurievich Proshchalykin', 'Michael Kuhlmann', 'Pia Oremek', 'Qiang Li', 'Rui Zhang', 'Sandra M. Rehan', 'Sheila Dumesh', 'Sébastien Patiny', 'Tatiana G. Romankova', 'Wan He', 'Yan-ru Wu', 'Yulia V. Astafurova', 'Ze-qing Niu']\n",
      "Class 14: ['Andreas Bertsch', 'Gerhard K. H. Przemeck', 'Martin Hrabé de Angelis']\n",
      "Class 15: ['Andrew R. Moldenke', 'Daniel H. Tapia', 'Elizabeth Chiappa', 'Fresia Rojas', 'Haroldo Toro [Guttierez]', 'Luisa Ruz', 'M. Herrera', 'Manfredo A. Fritz', 'Sharon Rodríguez', 'Victor Cabezas']\n",
      "Class 16: ['Anselm Kratochwil', 'Ardeshir Ariana', 'Canan Hazir', 'Erwin Scheuchl', 'Fritz Josef [Friedrich] Gusenleitner', 'Gerald Hölzler', 'Gideon Pisanty', 'Jan Smit', 'Kamel Louadi', 'Karl Mazzucco', 'Klaus Standfuss', 'Maximilian Schwarz', 'Noudjoud Benarfa', 'Timofey Victorovich Levchenko']\n",
      "Class 19: ['B. Lucas de Oliveira', 'Betânia Truylio', 'Birgit Harter-Marques', 'Blandina Felipe Viana', 'Carlos Alberto Campos Seabra', 'Chariya Lekprayoon', 'Charles Duncan Michener', 'Clemens Schlindwein', 'Daniele R. Parizotto', 'Danúncia Urban', 'David W. Ribble', 'David Ward Roubik', 'Earle Gorton Linsley', 'Edinaldo Luz das Neves', 'Ellen Ordway', 'Evandson José dos Anjos-Silva', 'Guaraci Duran Cordeiro', 'I. H. Syed', 'Jesus Santiago Moure', 'John K. Bouseman', 'John Winslow MacSwain', 'Jorge Arturo Lobo Segura', 'José Manuel Macário Rebêlo', 'João Maria Franco de Camargo', 'Marina Siqueira de Castro', 'Natapot Warrit', 'Patrícia maria Correia de Albuquerque', 'Paul David Hurd, Jr.', 'Philip Hunter Timberlake', 'Renee M. Borges', 'Robbin W. Thorp', 'Rodrigo da Cunha', 'Silvia Regina de Menezes Pedro', 'Somnuk Boongird', 'Stefan Vogel', 'Suzanne Willington Tubby Batra', 'Vinalto Graf', 'Wallace Edmund LaBerge', 'Warwick Estevam Kerr', 'Yuvarin [Rak] Boontop']\n",
      "Class 21: ['Bryan Nicholas Danforth', 'Gerald [Jerry] Irving Stage', 'Jerome George Rozen, Jr.', 'Joan G. Ehrenfeld', 'Roy R. Snelling', 'Thomas J. Zavortink', 'William T. Wcislo']\n",
      "Class 24: ['Cindy Julieth Celis', 'Dieter Wittmann', 'José Ricardo Cure', 'Marlene Lucia Aguilar-Benavides']\n",
      "Class 25: ['Deborah R. Smith', 'Gard W. Otis', 'H. Randall Hepburn', 'Sarah E. Radloff']\n",
      "Class 27: ['Franz von Wagner', 'Heinrich Friedrich August Karl Ludwig Friese', 'Karl Wilhelm von Dalla Torre']\n",
      "Class 29: ['Gaurav Sharma', 'P. Girish Kumar', 'Rajiv K. Gupta', 'Sabita Simlote', 'Sundar Lal Sharma', 'V. K. Tewari']\n",
      "Class 31: ['Glynn V. Maynard', 'Katja Hogendoorn', 'Michael Batley', 'Remko Leijs', 'Terry F. Houston']\n",
      "Class 36: ['Jian Yao', 'Paul Hugh Williams', 'Sydney Cameron', 'Sydney G. Cannings', 'Ya Tang']\n"
     ]
    }
   ],
   "source": [
    "modularity = {} # Create a new, empty dictionary\n",
    "for k,v in communities.items(): # Loop through the community dictionary\n",
    "    if v not in modularity:\n",
    "        modularity[v] = [k] # Add a new key for a modularity class the code hasn't seen before\n",
    "    else:\n",
    "        modularity[v].append(k) # Append a name to the list for a modularity class the code has already seen\n",
    "\n",
    "for k,v in modularity.items(): # Loop through the new dictionary\n",
    "    if len(v) > 2: # Filter out modularity classes with 2 or fewer nodes\n",
    "        print('Class '+str(k)+':', v) # Print out the classes and their members"
   ]
  }
 ],
 "metadata": {
  "kernelspec": {
   "display_name": "msc",
   "language": "python",
   "name": "msc"
  },
  "language_info": {
   "codemirror_mode": {
    "name": "ipython",
    "version": 3
   },
   "file_extension": ".py",
   "mimetype": "text/x-python",
   "name": "python",
   "nbconvert_exporter": "python",
   "pygments_lexer": "ipython3",
   "version": "3.7.3"
  }
 },
 "nbformat": 4,
 "nbformat_minor": 2
}
