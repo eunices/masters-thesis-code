{
 "cells": [
  {
   "cell_type": "code",
   "execution_count": 1,
   "metadata": {},
   "outputs": [],
   "source": [
    "%load_ext autoreload\n",
    "%autoreload 2\n",
    "\n",
    "from src.util import load_coauthor_nx, ddir, fn_nodes, fn_statoids\n",
    "import community\n",
    "import networkx as nx\n",
    "from operator import itemgetter\n",
    "import pandas as pd\n",
    "from collections import Counter\n",
    "import matplotlib.pyplot as plt\n",
    "import seaborn as sns"
   ]
  },
  {
   "cell_type": "code",
   "execution_count": 2,
   "metadata": {},
   "outputs": [
    {
     "name": "stdout",
     "output_type": "stream",
     "text": [
      "N nodes 361 ; N not nodes: 368\n",
      "Proportion who did not coauthor 50.48010973936899\n",
      "Name: \n",
      "Type: Graph\n",
      "Number of nodes: 361\n",
      "Number of edges: 463\n",
      "Average degree:   2.5651\n"
     ]
    }
   ],
   "source": [
    "(G, nodes) = load_coauthor_nx() # abstracted into src"
   ]
  },
  {
   "cell_type": "markdown",
   "metadata": {},
   "source": [
    "## Communities"
   ]
  },
  {
   "cell_type": "code",
   "execution_count": 3,
   "metadata": {},
   "outputs": [],
   "source": [
    "nodes_df = pd.read_csv(fn_nodes)\n",
    "statoids = pd.read_csv(fn_statoids)\n",
    "statoids = area_dict = dict(zip(statoids.DL, statoids.Country))\n",
    "\n",
    "fn_spp = ddir + '2019-05-23-Apoidea world consensus file Sorted by name 2019 describers_2.0-denormalised.csv'\n",
    "spp = pd.read_csv(fn_spp)[[\"idx\", \"full.name.of.describer.n\"]]\n",
    "spp = spp[spp.duplicated(subset=\"idx\", keep=False)] # keep only those with >1 authors"
   ]
  },
  {
   "cell_type": "code",
   "execution_count": 4,
   "metadata": {},
   "outputs": [
    {
     "name": "stdout",
     "output_type": "stream",
     "text": [
      "Modularity Class 0 Sorted by Eigenvector Centrality:\n",
      "Name: Michael Scott Engel | Eigenvector Centrality: 0.4607013143210458\n",
      "Name: Terry L. Griswold | Eigenvector Centrality: 0.32146051380748536\n",
      "Name: Victor Hugo Gonzalez [Betancourt] | Eigenvector Centrality: 0.29420394689460644\n",
      "Name: Ricardo Ayala Barajas | Eigenvector Centrality: 0.19620102130148936\n",
      "Name: Ismael Alejandro Hinojosa-Díaz | Eigenvector Centrality: 0.1845644245423236\n",
      "Name: John Stoskopf Ascher | Eigenvector Centrality: 0.1697520309963212\n",
      "Name: Molly Greer Rightmyer | Eigenvector Centrality: 0.14119439831030106\n",
      "Name: Mark Amidon Deyrup | Eigenvector Centrality: 0.12334089443215683\n",
      "Name: Allan Henry Smith-Pardo | Eigenvector Centrality: 0.10826750398308012\n",
      "Name: Abdulaziz S. Alqarni | Eigenvector Centrality: 0.1074778533950178\n"
     ]
    }
   ],
   "source": [
    "communities = community.best_partition(G)  # https://python-louvain.readthedocs.io/en/latest/api.html\n",
    "nx.set_node_attributes(G, communities, 'modularity')\n",
    "\n",
    "class0 = [n for n in G.nodes() if G.nodes[n]['modularity'] == 0]; len(class0)\n",
    "\n",
    "# Then create a dictionary of the eigenvector centralities of those nodes\n",
    "class0_eigenvector = {n:G.nodes[n]['eigenvector'] for n in class0}\n",
    "\n",
    "# Then sort that dictionary and print the first 5 results\n",
    "class0_sorted_by_eigenvector = sorted(class0_eigenvector.items(), key=itemgetter(1), reverse=True)\n",
    "print(\"Modularity Class 0 Sorted by Eigenvector Centrality:\")\n",
    "for node in class0_sorted_by_eigenvector[:10]:\n",
    "    print(\"Name:\", node[0], \"| Eigenvector Centrality:\", node[1])"
   ]
  },
  {
   "cell_type": "code",
   "execution_count": 26,
   "metadata": {},
   "outputs": [
    {
     "name": "stdout",
     "output_type": "stream",
     "text": [
      "\n",
      " 361  authors/ nodes\n"
     ]
    }
   ],
   "source": [
    "modularity = {}                            # Create a new, empty dictionary\n",
    "\n",
    "for k, v in communities.items():           # Loop through the community dictionary\n",
    "    if v not in modularity:\n",
    "        modularity[v] = [k]                # Add a new key for a modularity class the code hasn't seen before\n",
    "    else:\n",
    "        modularity[v].append(k)            # Append a name to the list for a modularity class the code has already seen\n",
    "\n",
    "countries = {}\n",
    "counter = 0\n",
    "for k, v in modularity.items():            # Loop through the new dictionary\n",
    "    counter = counter + len(v)\n",
    "    country_li = []\n",
    "    for i in range(0, len(v)):\n",
    "        country = nodes_df[nodes_df['full.name.of.describer.n'] == v[i]]['residence.country.describer.n'].values[0]\n",
    "        country = str.split(country, \"; \")\n",
    "        country_li = country_li + country\n",
    "    countries[k] = Counter(country_li)\n",
    "\n",
    "print(\"\\n\", counter, \" authors/ nodes\")"
   ]
  },
  {
   "cell_type": "code",
   "execution_count": 27,
   "metadata": {},
   "outputs": [
    {
     "data": {
      "text/plain": [
       "12"
      ]
     },
     "execution_count": 27,
     "metadata": {},
     "output_type": "execute_result"
    }
   ],
   "source": [
    "len(modularity)-41 # includes  subgraphs which are N=42"
   ]
  },
  {
   "cell_type": "code",
   "execution_count": 28,
   "metadata": {},
   "outputs": [],
   "source": [
    "subgraphs = [c for c in sorted(nx.connected_components(G), key=len, reverse=True)]\n",
    "\n",
    "def get_subgraph(node_name):\n",
    "    subgraph_idx = -1\n",
    "    \n",
    "    for i in range(0, len(subgraphs)):\n",
    "        if (node_name in list(subgraphs[i])):\n",
    "            subgraph_idx = i\n",
    "    \n",
    "    return subgraph_idx\n",
    "          \n",
    "community_subgraph = pd.DataFrame.from_dict({key:get_subgraph(value[0]) for (key,value) in modularity.items()}, orient='index')"
   ]
  },
  {
   "cell_type": "code",
   "execution_count": 29,
   "metadata": {},
   "outputs": [
    {
     "data": {
      "text/plain": [
       "53"
      ]
     },
     "execution_count": 29,
     "metadata": {},
     "output_type": "execute_result"
    }
   ],
   "source": [
    "len(modularity)"
   ]
  },
  {
   "cell_type": "code",
   "execution_count": 9,
   "metadata": {},
   "outputs": [
    {
     "data": {
      "text/plain": [
       "Index(['idx', 'full.name.of.describer.n'], dtype='object')"
      ]
     },
     "execution_count": 9,
     "metadata": {},
     "output_type": "execute_result"
    }
   ],
   "source": [
    "spp.columns"
   ]
  },
  {
   "cell_type": "code",
   "execution_count": 30,
   "metadata": {
    "scrolled": false
   },
   "outputs": [],
   "source": [
    "N_species = {}\n",
    "for i, sg in enumerate(modularity.items()):\n",
    "    spp_li = []\n",
    "    for auth in sg[1]:\n",
    "        spp_li = spp_li + list(spp[spp['full.name.of.describer.n']==auth]['idx'].values)\n",
    "        \n",
    "    N_species[i] = len(set(spp_li))\n",
    "N_species = pd.DataFrame.from_dict(N_species, orient=\"index\")\n",
    "N_species.columns = [\"N_species\"]"
   ]
  },
  {
   "cell_type": "code",
   "execution_count": 31,
   "metadata": {},
   "outputs": [],
   "source": [
    "countries_df = pd.DataFrame.from_dict(countries, orient='index')\n",
    "cols = list(countries_df.columns.values) \n",
    "cols.pop(cols.index('[unknown]'))\n",
    "cols_rearranged = cols + ['[unknown]']\n",
    "countries_df = countries_df[cols_rearranged]\n",
    "countries_df = countries_df.sort_index()"
   ]
  },
  {
   "cell_type": "code",
   "execution_count": 34,
   "metadata": {},
   "outputs": [],
   "source": [
    "countries_summary = countries_df.stack().reset_index()\n",
    "\n",
    "# count number of countries, count number of taxonomist\n",
    "countries_summary = countries_summary.groupby(\"level_0\").agg({0: ['count', 'sum']})\n",
    "countries_summary = countries_summary.merge(community_subgraph, \"outer\", left_index=True, right_index=True)\n",
    "countries_summary = countries_summary.merge(N_species, \"outer\", left_index=True, right_index=True)\n",
    "\n",
    "countries_summary.columns = ['N_countries', 'N_taxonomist', 'Subgraph_id', 'N_species']\n",
    "countries_summary.index.names = ['Modules']\n",
    "countries_summary = countries_summary.sort_values(['Subgraph_id', 'N_taxonomist'], ascending=[True,  False])\n",
    "countries_summary['idx'] = range(0, len(countries_summary))\n",
    "countries['lab'] = ' [' + countries_summary['N_taxonomist'].astype(int).astype(str) + ',' +\\\n",
    "    countries_summary['N_countries'].astype(int).astype(str) + \",\" +\\\n",
    "    countries_summary['N_species'].astype(int).astype(str) + '] ' +\\\n",
    "    \"id\" + countries_summary.idx.astype(str).str.pad(2, \"left\", \"0\") + \" / \" +\\\n",
    "    \"S\" + countries_summary['Subgraph_id'].astype(str).str.pad(2, \"left\", \"0\")\n",
    "    \n",
    "countries_summary = countries_summary.sort_index()\n",
    "idx = countries_summary.idx.values\n",
    "countries_summary = countries_summary.sort_values(['Subgraph_id', 'N_taxonomist'], ascending=[True,  False])"
   ]
  },
  {
   "cell_type": "code",
   "execution_count": 35,
   "metadata": {},
   "outputs": [
    {
     "data": {
      "text/plain": [
       "265"
      ]
     },
     "execution_count": 35,
     "metadata": {},
     "output_type": "execute_result"
    }
   ],
   "source": [
    "countries_summary.size"
   ]
  },
  {
   "cell_type": "code",
   "execution_count": 36,
   "metadata": {},
   "outputs": [
    {
     "data": {
      "text/html": [
       "<div>\n",
       "<style scoped>\n",
       "    .dataframe tbody tr th:only-of-type {\n",
       "        vertical-align: middle;\n",
       "    }\n",
       "\n",
       "    .dataframe tbody tr th {\n",
       "        vertical-align: top;\n",
       "    }\n",
       "\n",
       "    .dataframe thead th {\n",
       "        text-align: right;\n",
       "    }\n",
       "</style>\n",
       "<table border=\"1\" class=\"dataframe\">\n",
       "  <thead>\n",
       "    <tr style=\"text-align: right;\">\n",
       "      <th></th>\n",
       "      <th>N_countries</th>\n",
       "      <th>N_taxonomist</th>\n",
       "    </tr>\n",
       "  </thead>\n",
       "  <tbody>\n",
       "    <tr>\n",
       "      <th>median</th>\n",
       "      <td>1.0</td>\n",
       "      <td>2.0</td>\n",
       "    </tr>\n",
       "    <tr>\n",
       "      <th>min</th>\n",
       "      <td>1.0</td>\n",
       "      <td>2.0</td>\n",
       "    </tr>\n",
       "    <tr>\n",
       "      <th>max</th>\n",
       "      <td>12.0</td>\n",
       "      <td>45.0</td>\n",
       "    </tr>\n",
       "  </tbody>\n",
       "</table>\n",
       "</div>"
      ],
      "text/plain": [
       "        N_countries  N_taxonomist\n",
       "median          1.0           2.0\n",
       "min             1.0           2.0\n",
       "max            12.0          45.0"
      ]
     },
     "execution_count": 36,
     "metadata": {},
     "output_type": "execute_result"
    }
   ],
   "source": [
    "countries_summary.agg({'N_countries': ['median', 'min', 'max'],\n",
    "                       'N_taxonomist': ['median', 'min', 'max']})"
   ]
  },
  {
   "cell_type": "code",
   "execution_count": 37,
   "metadata": {},
   "outputs": [
    {
     "data": {
      "text/plain": [
       "N_countries   median     7.0\n",
       "              min        2.0\n",
       "              max       12.0\n",
       "              count     12.0\n",
       "N_taxonomist  median    18.5\n",
       "              min        2.0\n",
       "              max       45.0\n",
       "Name: 0, dtype: float64"
      ]
     },
     "execution_count": 37,
     "metadata": {},
     "output_type": "execute_result"
    }
   ],
   "source": [
    "countries_summary.groupby('Subgraph_id')\\\n",
    "                 .agg({'N_countries': ['median', 'min', 'max', 'count'],\n",
    "                       'N_taxonomist': ['median', 'min', 'max']}).iloc[0] # for subgraph 1"
   ]
  },
  {
   "cell_type": "markdown",
   "metadata": {},
   "source": [
    "All of the subgraphs only have one cluster, but the largest one has 12 clusters."
   ]
  },
  {
   "cell_type": "code",
   "execution_count": 38,
   "metadata": {},
   "outputs": [],
   "source": [
    "countries_prop = countries_df.apply(lambda r: round(r/r.sum()*100, 1), axis=1)\n",
    "countries_prop.index = idx\n",
    "countries_prop = countries_prop.sort_index()\n",
    "countries_prop.index = countries['lab']"
   ]
  },
  {
   "cell_type": "code",
   "execution_count": 39,
   "metadata": {},
   "outputs": [],
   "source": [
    "def parse_countries(country):\n",
    "    if country == \"[unknown]\":\n",
    "        return country\n",
    "    else:\n",
    "        return statoids[country]\n",
    "countries_prop.columns = [parse_countries(x) for x in countries_prop.columns]\n",
    "countries_prop.columns = countries_prop.columns + \" [\" + countries_prop.count().astype(str) + \"]\""
   ]
  },
  {
   "cell_type": "code",
   "execution_count": 40,
   "metadata": {},
   "outputs": [
    {
     "data": {
      "text/plain": [
       "[Text(113.99999999999999, 0.5, 'Countries'),\n",
       " Text(0.5, 96.0, '\\nProportion of country from each module (%)')]"
      ]
     },
     "execution_count": 40,
     "metadata": {},
     "output_type": "execute_result"
    },
    {
     "data": {
      "image/png": "[encoded data removed]",
      "text/plain": [
       "<Figure size 1080x936 with 2 Axes>"
      ]
     },
     "metadata": {
      "needs_background": "light"
     },
     "output_type": "display_data"
    }
   ],
   "source": [
    "countries_prop_t = countries_prop.transpose()\n",
    "plt.figure(figsize=(15, 13))\n",
    "ax = sns.heatmap(countries_prop_t, cmap=plt.get_cmap(\"Spectral\"), linecolor=\"k\", linewidths=0.1)\n",
    "ax.set(xlabel='\\nProportion of country from each module (%)', ylabel='Countries')"
   ]
  },
  {
   "cell_type": "code",
   "execution_count": 19,
   "metadata": {},
   "outputs": [
    {
     "data": {
      "text/plain": [
       "United States of America [15]    26.8\n",
       "Brazil [5]                       48.8\n",
       "Austria [5]                       2.4\n",
       "Germany [11]                      2.4\n",
       "Thailand [2]                      9.8\n",
       "Costa Rica [2]                    2.4\n",
       "India [8]                         2.4\n",
       "Panama [2]                        2.4\n",
       "Pakistan [1]                      2.4\n",
       "Name:  [41,9] id02 / S00, dtype: float64"
      ]
     },
     "execution_count": 19,
     "metadata": {},
     "output_type": "execute_result"
    }
   ],
   "source": [
    "countries_prop.iloc[2][countries_prop.iloc[2].notna()]"
   ]
  },
  {
   "cell_type": "code",
   "execution_count": 20,
   "metadata": {},
   "outputs": [
    {
     "data": {
      "text/plain": [
       "United States of America [15]    10.0\n",
       "Chile [3]                        60.0\n",
       "Argentina [3]                    10.0\n",
       "Spain [2]                        10.0\n",
       "[unknown] [2]                    10.0\n",
       "Name:  [10,5] id09 / S00, dtype: float64"
      ]
     },
     "execution_count": 20,
     "metadata": {},
     "output_type": "execute_result"
    }
   ],
   "source": [
    "countries_prop.iloc[9][countries_prop.iloc[9].notna()]"
   ]
  }
 ],
 "metadata": {
  "kernelspec": {
   "display_name": "msc",
   "language": "python",
   "name": "msc"
  },
  "language_info": {
   "codemirror_mode": {
    "name": "ipython",
    "version": 3
   },
   "file_extension": ".py",
   "mimetype": "text/x-python",
   "name": "python",
   "nbconvert_exporter": "python",
   "pygments_lexer": "ipython3",
   "version": "3.7.3"
  }
 },
 "nbformat": 4,
 "nbformat_minor": 2
}
