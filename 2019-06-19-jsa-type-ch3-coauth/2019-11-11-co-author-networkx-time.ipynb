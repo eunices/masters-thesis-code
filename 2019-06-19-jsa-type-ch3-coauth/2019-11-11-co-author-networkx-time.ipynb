{
 "cells": [
  {
   "cell_type": "markdown",
   "metadata": {},
   "source": [
    "# Network analysis for coauthors - network through time\n",
    "\n",
    "This looks at how the network changes through time with network metrics."
   ]
  },
  {
   "cell_type": "code",
   "execution_count": 1,
   "metadata": {},
   "outputs": [],
   "source": [
    "%load_ext autoreload\n",
    "%autoreload 2\n",
    "\n",
    "from src import util as u\n",
    "\n",
    "import pandas as pd\n",
    "from functools import reduce\n",
    "import operator\n",
    "import networkx as nx"
   ]
  },
  {
   "cell_type": "code",
   "execution_count": 2,
   "metadata": {},
   "outputs": [],
   "source": [
    "nodes = pd.read_csv(u.fn_nodes)"
   ]
  },
  {
   "cell_type": "code",
   "execution_count": 3,
   "metadata": {},
   "outputs": [],
   "source": [
    "# Import author data with dates\n",
    "start = 1758\n",
    "end = 2018\n",
    "years = end-start\n",
    "timepoints = 4\n",
    "interval = round(years/3, 0)\n",
    "year1= start + interval*1\n",
    "year2= start + interval*2"
   ]
  },
  {
   "cell_type": "code",
   "execution_count": 4,
   "metadata": {},
   "outputs": [
    {
     "name": "stdout",
     "output_type": "stream",
     "text": [
      "1758 1845.0\n",
      "1845.0 1932.0\n",
      "1932.0 2018\n"
     ]
    }
   ],
   "source": [
    "print(start, year1)\n",
    "print(year1, year2) # postal mail invented\n",
    "print(year2, end)   # airlines invested"
   ]
  },
  {
   "cell_type": "code",
   "execution_count": 5,
   "metadata": {},
   "outputs": [
    {
     "name": "stderr",
     "output_type": "stream",
     "text": [
      "/home/ejysoh/miniconda3/envs/msc/lib/python3.7/site-packages/IPython/core/interactiveshell.py:3058: DtypeWarning: Columns (5) have mixed types. Specify dtype option on import or set low_memory=False.\n",
      "  interactivity=interactivity, compiler=compiler, result=result)\n"
     ]
    }
   ],
   "source": [
    "auth = pd.read_csv(u.fn_auth)[['idxes', 'full.name.of.describer.n', 'date.n']]\n",
    "\n",
    "auth1 = auth[(auth['date.n'] >= start) & (auth['date.n']  < year1)][['idxes', 'full.name.of.describer.n']]\n",
    "auth2 = auth[(auth['date.n'] >= year1) & (auth['date.n']  < year2)][['idxes', 'full.name.of.describer.n']]\n",
    "auth3 = auth[(auth['date.n'] >= year2) & (auth['date.n']  <= end)][['idxes', 'full.name.of.describer.n']]\n",
    "\n",
    "df_li =  [auth1, auth2, auth3]\n",
    "df_li = [x.groupby('idxes')['full.name.of.describer.n'].apply(lambda x: \"%s\" % '; '.join(x)) for x in df_li]"
   ]
  },
  {
   "cell_type": "code",
   "execution_count": 6,
   "metadata": {},
   "outputs": [],
   "source": [
    "# Get pairs\n",
    "\n",
    "def li_pairs(source):\n",
    "    source = str.split(source, \"; \")\n",
    "    result = []\n",
    "    N = len(source)\n",
    "    if (N <= 1):\n",
    "        return [(source[0], None)]\n",
    "    else:\n",
    "\n",
    "        for p1 in range(N):\n",
    "            for p2 in range(p1+1,len(source)):\n",
    "                    result.append((source[p1],source[p2]))\n",
    "        return result\n"
   ]
  },
  {
   "cell_type": "code",
   "execution_count": 7,
   "metadata": {},
   "outputs": [
    {
     "name": "stdout",
     "output_type": "stream",
     "text": [
      "Philip Hunter Timberlake\n",
      "[('Philip Hunter Timberlake', None)]\n",
      "[('Osamu Tadauchi', 'Takeshi Matsumura')]\n"
     ]
    }
   ],
   "source": [
    "print(df_li[2].iloc[2])\n",
    "print(li_pairs(df_li[2].iloc[2]))\n",
    "print(li_pairs(df_li[2].iloc[63]))"
   ]
  },
  {
   "cell_type": "code",
   "execution_count": 8,
   "metadata": {},
   "outputs": [],
   "source": [
    "df_li = [x.apply(lambda x: li_pairs(x)) for x in df_li]"
   ]
  },
  {
   "cell_type": "code",
   "execution_count": 9,
   "metadata": {},
   "outputs": [],
   "source": [
    "li = [[] for i in range(3)]\n",
    "for i in range(len(df_li)):\n",
    "    df = df_li[i]\n",
    "    for j, row in df.iteritems():\n",
    "        li[i].append(row[0])"
   ]
  },
  {
   "cell_type": "code",
   "execution_count": 10,
   "metadata": {},
   "outputs": [],
   "source": [
    "df_li = [pd.DataFrame(x, columns=['p1', 'p2']) for x in li]\n",
    "df_li = [pd.DataFrame(x).groupby(['p1', 'p2']).size() for x in df_li]\n",
    "df_li = [x.reset_index() for x in df_li]"
   ]
  },
  {
   "cell_type": "code",
   "execution_count": 11,
   "metadata": {},
   "outputs": [],
   "source": [
    "def get_edges(df):\n",
    "    edges = []\n",
    "    for i, row in df.iterrows():\n",
    "        edges.append((row.p1, row.p2, row[0]))\n",
    "    return edges"
   ]
  },
  {
   "cell_type": "code",
   "execution_count": 12,
   "metadata": {},
   "outputs": [],
   "source": [
    "df_li = [get_edges(df) for df in df_li]"
   ]
  },
  {
   "cell_type": "code",
   "execution_count": 13,
   "metadata": {},
   "outputs": [],
   "source": [
    "def get_node_names(edges):\n",
    "    all_node_names = []\n",
    "    all_node_names = [all_node_names + [e[0], e[1]] for e in edges]\n",
    "    all_node_names = reduce(operator.add, all_node_names)\n",
    "    return set(all_node_names)"
   ]
  },
  {
   "cell_type": "code",
   "execution_count": 14,
   "metadata": {},
   "outputs": [],
   "source": [
    "node_names = [get_node_names(df) for df in df_li]"
   ]
  },
  {
   "cell_type": "code",
   "execution_count": 15,
   "metadata": {},
   "outputs": [],
   "source": [
    "# Load into graph\n",
    "g_li = [nx.Graph() for x in range(3)]\n",
    "for i in range(len(df_li)):\n",
    "\n",
    "    g_li[i].add_nodes_from(node_names[i])\n",
    "    g_li[i].add_weighted_edges_from(df_li[i])"
   ]
  },
  {
   "cell_type": "code",
   "execution_count": 16,
   "metadata": {
    "scrolled": false
   },
   "outputs": [
    {
     "name": "stdout",
     "output_type": "stream",
     "text": [
      "Network 0\n",
      "Network density: 33.3 %\n",
      "Triadic closure: 0 %\n",
      "Number of subgraphs: 2\n",
      "Network diameter of largest component: 1\n",
      "['Jeane Guillaume Audinet-Serville', 'Jean-Pierre Omer Anne Édouard Perris', 'Amédée Louis Michel le Peletier, comte de Saint-Fargeau', 'Léon [Jean Marie] Dufour']\n",
      "\n",
      "\n",
      "Network 1\n",
      "Network density: 4.6 %\n",
      "Triadic closure: 0 %\n",
      "Number of subgraphs: 9\n",
      "Network diameter of largest component: 3\n",
      "['Franz von Wagner', 'Theodore Dru Alison Cockerell', 'Grace Adelbert Sandhouse', 'Charles H. Hicks', 'Sievert Allen Rohwer', 'Arnaldo de Winkelried Bertoni', 'Jessie E. Casad', 'Woldemar Trautmann', 'Joseph Bequaert', 'Norma Ebolie LeVeque', 'Karl Wilhelm von Dalla Torre', 'Myron Harmon Swenk', 'Lucy Evelyn Cheesman', 'Tohru Uchida', 'Philip Hunter Timberlake', 'Beulah Hix Blair', 'Henry Lorenz Viereck', 'Louis Jérôme Reiche', 'Shonen Matsumura', 'Ruth Sumner', 'Hans Bischoff', 'John Harvey Lovell', 'Kurt [Curt] Schrottky', 'G. Trautmann', 'Heinrich Friedrich August Karl Ludwig Friese', 'Wilmatte Porter [Cockerell]', 'James Chamberlain Crawford', 'Otto E. Plath', 'Léon Marc Herminie Fairmaire', 'Hans [Franz Paul] Hedicke', 'Robert Cyril Layton Perkins', 'Edward Sharpe Gaige Titus']\n",
      "\n",
      "\n",
      "Network 2\n",
      "Network density: 0.7 %\n",
      "Triadic closure: 5.9 %\n",
      "Number of subgraphs: 37\n",
      "Network diameter of largest component: 11\n",
      "['Abdulaziz S. Alqarni', 'Karl Mazzucco', 'Suniti Tomar', 'Michael Christopher Orr', 'Blandina Felipe Viana', 'Laurence Packer', 'Hermanus Gerardus Maria Teunissen', 'Terry F. Houston', 'Osamu Tadauchi', 'Klaus Standfuss', 'Robbin W. Thorp', 'Shôichi F. Sakagami', 'Paul David Hurd, Jr.', 'Gérard Le Goff', 'Rodrigo Barbosa Gonçalves', 'Eduardo Andrade Botelho de Almeida', 'Evandson José dos Anjos-Silva', 'Arturo Roig-Alsina', 'Alice Barringer Mackie', 'Pia Oremek', 'Rui Zhang', 'Fabrício R. Santos', 'Jian Yao', 'Qiang Li', 'Wensdae Miller', 'Felipe V. Freitas', 'André Nemésio', 'Daniel H. Tapia', 'M. Herrera', 'Thomas Eltz', 'Léo Correia da Rocha-Filho', 'Rodulfo Ospina-Torres', 'Thomas J. Pohl', 'Simon M. Tierney', 'Francisco Javier Ortiz-Sánchez', 'Thomas J. Zavortink', 'Gabriel Augusto Rodrigues de Melo', 'Concepción Ornosa', 'Takeshi Matsumura', 'Yoshihiro Hirashima', 'Huan-li Xu', \"Lois Breimeier O'Brien\", 'Shusaburo Tamasawa', 'George E. [Ned] Bohart', 'Marina D. Meixner', 'Gudrun Koeniger', 'Carlos Alberto Campos Seabra', 'Leah LaPerle Larkin', 'Ahmatjan Dawut', 'Jir[diacritic]í Hadrava', 'Juan Carlos Sandino-Franco', 'Luiz R. R. Faria', 'Terry L. Griswold', 'Gerald [Jerry] Irving Stage', 'Edinaldo Luz das Neves', 'Jessica Janjic', 'Volker Mauss', 'Stefan Vogel', 'Sabita Simlote', 'Alexander Lall', 'José Ricardo Cure', 'María Fernanda Rodríguez', 'Clemens Schlindwein', 'Arkady S. Lelej', 'Gideon Pisanty', 'Makoto Kato', 'John K. Bouseman', 'Carlos Balboa', 'Richard W. Rust', 'Yan-ru Wu', 'Jakub Straka', 'Kamel Louadi', 'T. C. Narendran', 'João Maria Franco de Camargo', 'Birgit Harter-Marques', 'Guaraci Duran Cordeiro', 'Edgard Cédric Fabre Anguilet', 'Messele Abebe Leta', 'Sébastien Patiny', 'Chang-Whan Kim', 'Rocío Ana González-Vaquero', 'A. Grech', 'Sheila Dumesh', 'Dieter Wittmann', 'Andrew R. Moldenke', 'Chariya Lekprayoon', 'Andreas Bertsch', 'Pierre Rasmont', 'Douglas Yanega', 'Alvin Fleetwood Shinn', 'Elizabeth Chiappa', 'Ryôsuke Ishikawa', 'I-Hsin Sung', 'Michael Scott Engel', 'Jessica Litman', 'Jan Smit', 'Remko Leijs', 'Yuriy Andreyevich Pesenko', 'Kim E. Steiner', 'Victor Hugo Gonzalez [Betancourt]', 'Roderic B. Martines', 'José Eustáquio Santos Júnior', 'Erin Willis', 'Yasuo Maeta', 'Earle Gorton Linsley', 'Ardeshir Ariana', 'Rafael R. Ferrari', 'Fernando César Vieira Zanella', 'Cindy Julieth Celis', 'Luis A. Compagnucci', 'Vinalto Graf', 'David A. Tanner', 'Alina Nilovna Kupianskaya', 'Maxim Yurievich Proshchalykin', 'Keizô Yasumatsu', 'John L. [Jack] Neff', 'Alberto H. Abrahamovich', 'Julio A. Genaro', 'Lucy Evelyn Cheesman', 'H. Glenn Hall', 'Wan He', 'Paola Marchi', 'Barrett Anthony Klein', 'Katsushi Mitai', 'Renee M. Borges', 'Alain Pauly', 'Theodore Dru Alison Cockerell', 'Felipe Vivallo [Felipe Rodrigo Vivallo Martínez]', 'Anselm Kratochwil', 'Huan Chen', 'Gerald Hölzler', 'John Stoskopf Ascher', 'Suzanne Willington Tubby Batra', 'Nikolaus Koeniger', 'Meiyo Munakata', 'Mark Amidon Deyrup', 'Achik Dorchin', 'Wallace Edmund LaBerge', 'N. P. Chopra', 'Howell V. Daly', 'Misaki Abe', 'Alejandro Parra-H', 'Leif D. Deyrup', 'Yoshito Haneda', 'Yulia V. Astafurova', 'Maximilian Schwarz', 'Jelle Devalez', 'Sergey P. Ivanov', 'Barry James Donovan', 'Mi-Lyang Kim', 'Mohamed Shebl', 'I. H. Syed', 'Andreas Dubitzky', 'Jian-guo Fan', 'Elizabeth Morris Exley', 'Korrawat Attasopa', 'B. Y. Kuang', 'Denis Michez', 'Ze-qing Niu', 'Marcio Luiz de Oliveira', 'Ismael Alejandro Hinojosa-Díaz', 'Juan Pablo Torretta', 'Danny Vélez', 'Katja Hogendoorn', 'Vinita Sharma', 'Y. B. Soukontoua', 'Vladimir G. Radchenko', 'David W. Baldock', 'Warwick Estevam Kerr', 'Radclyffe Burnand Roberts', 'Giuseppe Fabrizio Turrisi', 'Da-Wei Huang', 'Zach M. Portman', 'Donald Burton Baker', 'Michael P. Schwarz', 'Christophe J. Praz', 'P. Girish Kumar', 'Vittorio Nobile', 'Rita I. Velez-Ruiz', 'Juan M. Labougle', 'Kim Timmermann', 'Canan Hazir', 'Philip Hunter Timberlake', 'Stephen Gavilan Reyes', 'Masashi Goubara', 'Sydney G. Cannings', 'Paul Hugh Williams', 'Sundar Lal Sharma', 'Karl N. Magnacca', 'Ryuki Murao', 'Michael S. Arduser', 'M. L. Thakur', 'Somnuk Boongird', 'Marina Siqueira de Castro', 'Leandro Mattos Santos', 'Glynn V. Maynard', 'Patrícia maria Correia de Albuquerque', 'Bryan Nicholas Danforth', 'T. Jobiraj', \"Asya Anatol'evna Ponomareva\", 'Benjamin Bembé', 'Boris O. Schlumpberger', 'Victor Cabezas', 'Vladimir Veniaminovich Popov', 'K. Sajan Jose', 'Zewdu Ararso Hora', 'Ana Rita Gonçalves', 'Jesus Santiago Moure', 'G. H. Yang', 'José Manuel Macário Rebêlo', 'Thomas J. Wood', 'Kees [Cornelius] van Achterberg', 'Silvia Regina de Menezes Pedro', 'Carl Edmund Atwood', 'Jorge M. González', 'Jérôme Munzinger', 'Francisco La Roche', 'John Winslow MacSwain', 'Rajiv K. Gupta', 'V. K. Tewari', 'Fernando Amaral da Silveira', 'Holger Heinrich Dathe', 'Ricardo Ayala Barajas', 'Haroldo Toro [Guttierez]', 'Ryôichi Miyanaga', 'Mariano Lucia', 'Meeta Tomar', 'Carlos Hernan Vergara', 'Gerhard K. H. Przemeck', 'Tatiana G. Romankova', 'Ahmad Nadimi', 'Gerd Knerer', 'Shashidhar Viraktamath', 'Maria Cristina Arias', 'Robert Louis Dressler', 'Masao Ito', 'Favízia Freitas de Oliveira', 'Tamiji Inoue', 'Vincent Booth Whitehead', 'Avdhesh Kumar', 'William T. Wcislo', 'Fresia Rojas', 'Fritz Josef [Friedrich] Gusenleitner', 'Natapot Warrit', 'Claus Rasmussen', 'Sharon Rodríguez', 'Ali Asghar Talebi', 'Robert Cyril Layton Perkins', 'Ataur Rahman', 'Daniel J. Bennett', 'Bo G. Svensson', 'David Ward Roubik', 'Marco Antônio Costa', 'Allan Henry Smith-Pardo', 'Thiago Mahlmann', 'Beatriz Woiski Teixeira Coelho', 'Betânia Truylio', 'Robert W. Brooks', 'Manfredo A. Fritz', 'Charles Duncan Michener', 'Lionel A. Stange', 'Jorge Arturo Lobo Segura', 'Ian Cross', 'Rosalind Patricia Urban', 'Luisa Ruz', 'Ellen Ordway', 'Frank D. Parker', 'Sandra M. Rehan', 'Deborah R. Smith', 'Connal D. Eardley', 'Roy R. Snelling', 'Antonio José Camillo Aguiar', 'Charlotte Skov', 'Nadia S. Gibran', 'David W. Ribble', 'Hans Bänziger', 'Molly Greer Rightmyer', 'Gaurav Sharma', 'Cory Silas Sheffield', 'Hideo Takahashi', 'Danúncia Urban', 'Hywel Roberts', 'Michael Terzo', 'Embrik Strand', 'Joan G. Ehrenfeld', \"Nina Grigo'yevna Davydova\", 'B. Lucas de Oliveira', 'Daniele R. Parizotto', 'Timofey Victorovich Levchenko', 'Chao-dong Zhu', 'Konrad Schmidt', 'Michael Kuhlmann', 'Hanan Bytinski-Salz', 'Michael Batley', 'Silvana P. Durante', 'Kimio Yoshikawa', 'Andreas Werner Ebmer', 'Petr Bogusch', 'Shuichi Ikudome', 'Andreas Müller', 'Albert A. Grigarick', 'Anne E. Dollin', 'Makoto Shiokawa', 'Erwin Scheuchl', 'Marco A. Gaiani', 'Louise M. Ireland', 'Sebastião Laroca', 'Maria Christina de Almeida', 'Kelli dos Santos Ramos', 'Alexsander A. Azevedo', 'Maurits Anne Lieftinck', 'Jason Gibbs', 'Paul Westrich', 'Judith King', 'Paula A. Sepúlveda', 'Gard W. Otis', 'Jerome George Rozen, Jr.']\n",
      "\n",
      "\n"
     ]
    }
   ],
   "source": [
    "for i in range(len(df_li)):\n",
    "    print(\"Network\", i)\n",
    "    \n",
    "    density = nx.density(g_li[i])\n",
    "    print(\"Network density:\", round(density*100, 1), \"%\")\n",
    "    \n",
    "    triadic_closure = nx.transitivity(g_li[i])\n",
    "    print(\"Triadic closure:\", round(triadic_closure*100, 1), \"%\")\n",
    "    \n",
    "    # Get subgraphs\n",
    "    subgraphs = [c for c in sorted(nx.connected_components(g_li[i]), key=len, reverse=True)]\n",
    "    print(\"Number of subgraphs:\", len(subgraphs))\n",
    "    \n",
    "    # Largest component\n",
    "    components = nx.connected_components(g_li[i])\n",
    "    largest_component = max(components, key=len) # max number of nodes\n",
    "\n",
    "    # Create a \"subgraph\" of just the largest component\n",
    "    # Then calculate the diameter of the subgraph, just like you did with density.\n",
    "    subgraph = g_li[i].subgraph(largest_component)\n",
    "    diameter = nx.diameter(subgraph)\n",
    "    print(\"Network diameter of largest component:\", diameter)\n",
    "    \n",
    "    print([v[0] for v in g_li[i].nodes(data=True)])\n",
    "    \n",
    "    \n",
    "    print(\"\\n\")"
   ]
  }
 ],
 "metadata": {
  "kernelspec": {
   "display_name": "msc",
   "language": "python",
   "name": "msc"
  },
  "language_info": {
   "codemirror_mode": {
    "name": "ipython",
    "version": 3
   },
   "file_extension": ".py",
   "mimetype": "text/x-python",
   "name": "python",
   "nbconvert_exporter": "python",
   "pygments_lexer": "ipython3",
   "version": "3.7.3"
  }
 },
 "nbformat": 4,
 "nbformat_minor": 2
}
