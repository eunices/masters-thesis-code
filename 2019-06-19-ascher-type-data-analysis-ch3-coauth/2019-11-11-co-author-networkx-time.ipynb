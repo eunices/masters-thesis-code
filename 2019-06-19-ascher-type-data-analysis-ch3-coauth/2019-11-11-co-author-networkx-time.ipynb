{
 "cells": [
  {
   "cell_type": "code",
   "execution_count": 31,
   "metadata": {},
   "outputs": [
    {
     "name": "stdout",
     "output_type": "stream",
     "text": [
      "The autoreload extension is already loaded. To reload it, use:\n",
      "  %reload_ext autoreload\n"
     ]
    }
   ],
   "source": [
    "%load_ext autoreload\n",
    "%autoreload 2\n",
    "\n",
    "from src import util as u\n",
    "\n",
    "import pandas as pd\n",
    "from functools import reduce\n",
    "import operator\n",
    "import networkx as nx"
   ]
  },
  {
   "cell_type": "code",
   "execution_count": 2,
   "metadata": {},
   "outputs": [],
   "source": [
    "nodes = pd.read_csv(u.fn_nodes)"
   ]
  },
  {
   "cell_type": "code",
   "execution_count": 3,
   "metadata": {},
   "outputs": [],
   "source": [
    "# Import author data with dates\n",
    "start = 1758\n",
    "end = 2018\n",
    "years = end-start\n",
    "timepoints = 4\n",
    "interval = round(years/3, 0)\n",
    "year1= start + interval*1\n",
    "year2= start + interval*2"
   ]
  },
  {
   "cell_type": "code",
   "execution_count": 4,
   "metadata": {},
   "outputs": [
    {
     "name": "stdout",
     "output_type": "stream",
     "text": [
      "1758 1845.0\n",
      "1845.0 1932.0\n",
      "1932.0 2018\n"
     ]
    }
   ],
   "source": [
    "print(start, year1)\n",
    "print(year1, year2) # postal mail invented\n",
    "print(year2, end)   # airlines invested"
   ]
  },
  {
   "cell_type": "code",
   "execution_count": 5,
   "metadata": {},
   "outputs": [
    {
     "name": "stderr",
     "output_type": "stream",
     "text": [
      "/home/ejysoh/miniconda3/envs/msc/lib/python3.7/site-packages/IPython/core/interactiveshell.py:3058: DtypeWarning: Columns (5) have mixed types. Specify dtype option on import or set low_memory=False.\n",
      "  interactivity=interactivity, compiler=compiler, result=result)\n"
     ]
    }
   ],
   "source": [
    "auth = pd.read_csv(u.fn_auth)[['idxes', 'full.name.of.describer.n', 'date.n']]\n",
    "\n",
    "auth1 = auth[(auth['date.n'] >= start) & (auth['date.n']  < year1)][['idxes', 'full.name.of.describer.n']]\n",
    "auth2 = auth[(auth['date.n'] >= year1) & (auth['date.n']  < year2)][['idxes', 'full.name.of.describer.n']]\n",
    "auth3 = auth[(auth['date.n'] >= year2) & (auth['date.n']  <= end)][['idxes', 'full.name.of.describer.n']]\n",
    "\n",
    "df_li =  [auth1, auth2, auth3]\n",
    "df_li = [x.groupby('idxes')['full.name.of.describer.n'].apply(lambda x: \"%s\" % '; '.join(x)) for x in df_li]"
   ]
  },
  {
   "cell_type": "code",
   "execution_count": 6,
   "metadata": {},
   "outputs": [],
   "source": [
    "# Get pairs\n",
    "\n",
    "def li_pairs(source):\n",
    "    source = str.split(source, \"; \")\n",
    "    result = []\n",
    "    N = len(source)\n",
    "    if (N <= 1):\n",
    "        return [(source[0], None)]\n",
    "    else:\n",
    "\n",
    "        for p1 in range(N):\n",
    "            for p2 in range(p1+1,len(source)):\n",
    "                    result.append((source[p1],source[p2]))\n",
    "        return result\n"
   ]
  },
  {
   "cell_type": "code",
   "execution_count": 7,
   "metadata": {},
   "outputs": [
    {
     "name": "stdout",
     "output_type": "stream",
     "text": [
      "Philip Hunter Timberlake\n",
      "[('Philip Hunter Timberlake', None)]\n",
      "[('Osamu Tadauchi', 'Takeshi Matsumura')]\n"
     ]
    }
   ],
   "source": [
    "print(df_li[2].iloc[2])\n",
    "print(li_pairs(df_li[2].iloc[2]))\n",
    "print(li_pairs(df_li[2].iloc[63]))"
   ]
  },
  {
   "cell_type": "code",
   "execution_count": 8,
   "metadata": {},
   "outputs": [],
   "source": [
    "df_li = [x.apply(lambda x: li_pairs(x)) for x in df_li]"
   ]
  },
  {
   "cell_type": "code",
   "execution_count": 9,
   "metadata": {},
   "outputs": [],
   "source": [
    "li = [[] for i in range(3)]\n",
    "for i in range(len(df_li)):\n",
    "    df = df_li[i]\n",
    "    for j, row in df.iteritems():\n",
    "        li[i].append(row[0])"
   ]
  },
  {
   "cell_type": "code",
   "execution_count": 10,
   "metadata": {},
   "outputs": [],
   "source": [
    "df_li = [pd.DataFrame(x, columns=['p1', 'p2']) for x in li]\n",
    "df_li = [pd.DataFrame(x).groupby(['p1', 'p2']).size() for x in df_li]\n",
    "df_li = [x.reset_index() for x in df_li]"
   ]
  },
  {
   "cell_type": "code",
   "execution_count": 11,
   "metadata": {},
   "outputs": [],
   "source": [
    "def get_edges(df):\n",
    "    edges = []\n",
    "    for i, row in df.iterrows():\n",
    "        edges.append((row.p1, row.p2, row[0]))\n",
    "    return edges"
   ]
  },
  {
   "cell_type": "code",
   "execution_count": 12,
   "metadata": {},
   "outputs": [],
   "source": [
    "df_li = [get_edges(df) for df in df_li]"
   ]
  },
  {
   "cell_type": "code",
   "execution_count": 23,
   "metadata": {},
   "outputs": [],
   "source": [
    "def get_node_names(edges):\n",
    "    all_node_names = []\n",
    "    all_node_names = [all_node_names + [e[0], e[1]] for e in edges]\n",
    "    all_node_names = reduce(operator.add, all_node_names)\n",
    "    return set(all_node_names)"
   ]
  },
  {
   "cell_type": "code",
   "execution_count": 26,
   "metadata": {},
   "outputs": [],
   "source": [
    "node_names = [get_node_names(df) for df in df_li]"
   ]
  },
  {
   "cell_type": "code",
   "execution_count": 34,
   "metadata": {},
   "outputs": [],
   "source": [
    "# Load into graph\n",
    "g_li = [nx.Graph() for x in range(3)]\n",
    "for i in range(len(df_li)):\n",
    "\n",
    "    g_li[i].add_nodes_from(node_names[i])\n",
    "    g_li[i].add_weighted_edges_from(df_li[i])"
   ]
  },
  {
   "cell_type": "code",
   "execution_count": 59,
   "metadata": {
    "scrolled": false
   },
   "outputs": [
    {
     "name": "stdout",
     "output_type": "stream",
     "text": [
      "Network 0\n",
      "Network density: 33.3 %\n",
      "Triadic closure: 0 %\n",
      "Number of subgraphs: 2\n",
      "Network diameter of largest component: 1\n",
      "['Léon [Jean Marie] Dufour', 'Amédée Louis Michel le Peletier, comte de Saint-Fargeau', 'Jeane Guillaume Audinet-Serville', 'Jean-Pierre Omer Anne Édouard Perris']\n",
      "\n",
      "\n",
      "Network 1\n",
      "Network density: 4.6 %\n",
      "Triadic closure: 0 %\n",
      "Number of subgraphs: 9\n",
      "Network diameter of largest component: 3\n",
      "['Wilmatte Porter [Cockerell]', 'Edward Sharpe Gaige Titus', 'Philip Hunter Timberlake', 'Otto E. Plath', 'Jessie E. Casad', 'Lucy Evelyn Cheesman', 'Heinrich Friedrich August Karl Ludwig Friese', 'Arnaldo de Winkelried Bertoni', 'Kurt [Curt] Schrottky', 'Sievert Allen Rohwer', 'Robert Cyril Layton Perkins', 'Beulah Hix Blair', 'Henry Lorenz Viereck', 'Myron Harmon Swenk', 'Charles H. Hicks', 'Léon Marc Herminie Fairmaire', 'Louis Jérôme Reiche', 'Grace Adelbert Sandhouse', 'Joseph Bequaert', 'John Harvey Lovell', 'Karl Wilhelm von Dalla Torre', 'Norma Ebolie LeVeque', 'Woldemar Trautmann', 'Franz von Wagner', 'Hans [Franz Paul] Hedicke', 'Ruth Sumner', 'James Chamberlain Crawford', 'Shonen Matsumura', 'Tohru Uchida', 'G. Trautmann', 'Hans Bischoff', 'Theodore Dru Alison Cockerell']\n",
      "\n",
      "\n",
      "Network 2\n",
      "Network density: 0.7 %\n",
      "Triadic closure: 5.9 %\n",
      "Number of subgraphs: 37\n",
      "Network diameter of largest component: 11\n",
      "['Jan Smit', 'Denis Michez', 'Favízia Freitas de Oliveira', 'Charles Duncan Michener', 'José Eustáquio Santos Júnior', 'Chang-Whan Kim', 'Nadia S. Gibran', 'Jelle Devalez', 'Blandina Felipe Viana', 'Remko Leijs', 'Michael Christopher Orr', 'Daniel H. Tapia', 'Beatriz Woiski Teixeira Coelho', 'Rafael R. Ferrari', 'Elizabeth Chiappa', 'Bryan Nicholas Danforth', 'Howell V. Daly', 'Giuseppe Fabrizio Turrisi', 'Jerome George Rozen, Jr.', 'Louise M. Ireland', 'Anselm Kratochwil', 'Karl N. Magnacca', 'Alejandro Parra-H', 'Simon M. Tierney', 'Rodrigo Barbosa Gonçalves', 'Danny Vélez', 'Concepción Ornosa', 'Deborah R. Smith', 'Michael Terzo', 'K. Sajan Jose', 'Rui Zhang', 'Evandson José dos Anjos-Silva', 'Shuichi Ikudome', 'Haroldo Toro [Guttierez]', 'Marcio Luiz de Oliveira', 'Juan Pablo Torretta', 'Kees [Cornelius] van Achterberg', 'Robbin W. Thorp', 'Thiago Mahlmann', 'Benjamin Bembé', 'Rajiv K. Gupta', 'Maximilian Schwarz', 'Y. B. Soukontoua', 'Timofey Victorovich Levchenko', 'Francisco La Roche', 'Allan Henry Smith-Pardo', 'Theodore Dru Alison Cockerell', 'Victor Cabezas', 'Paul Hugh Williams', 'Richard W. Rust', 'John L. [Jack] Neff', 'Jakub Straka', 'Warwick Estevam Kerr', 'Kamel Louadi', 'Shashidhar Viraktamath', 'Carlos Alberto Campos Seabra', 'Felipe V. Freitas', 'Fritz Josef [Friedrich] Gusenleitner', 'Volker Mauss', 'John K. Bouseman', 'Wensdae Miller', 'Douglas Yanega', 'Molly Greer Rightmyer', 'Zach M. Portman', 'Wallace Edmund LaBerge', 'Dieter Wittmann', 'Earle Gorton Linsley', 'Vincent Booth Whitehead', 'Jian Yao', 'Mohamed Shebl', 'Renee M. Borges', 'Vinita Sharma', 'Edgard Cédric Fabre Anguilet', 'Meiyo Munakata', 'Sundar Lal Sharma', 'Connal D. Eardley', 'Natapot Warrit', 'Marco Antônio Costa', 'Rodulfo Ospina-Torres', 'A. Grech', 'Maria Christina de Almeida', 'Suzanne Willington Tubby Batra', 'Ataur Rahman', 'Kimio Yoshikawa', 'Arkady S. Lelej', 'Betânia Truylio', 'Marco A. Gaiani', 'Ellen Ordway', 'Michael S. Arduser', 'David W. Baldock', 'Philip Hunter Timberlake', 'Lucy Evelyn Cheesman', 'Leandro Mattos Santos', 'Hermanus Gerardus Maria Teunissen', 'Gérard Le Goff', 'Embrik Strand', 'Ian Cross', 'Ali Asghar Talebi', 'Makoto Shiokawa', 'Da-Wei Huang', 'Jason Gibbs', 'Thomas J. Pohl', 'Pia Oremek', 'I-Hsin Sung', 'Luiz R. R. Faria', 'P. Girish Kumar', 'Danúncia Urban', 'Birgit Harter-Marques', 'Luis A. Compagnucci', 'Thomas Eltz', 'Ana Rita Gonçalves', 'Paula A. Sepúlveda', 'William T. Wcislo', 'Robert Cyril Layton Perkins', 'Rosalind Patricia Urban', 'Yoshihiro Hirashima', 'Ahmad Nadimi', 'Victor Hugo Gonzalez [Betancourt]', 'Glynn V. Maynard', 'T. Jobiraj', 'Boris O. Schlumpberger', 'Klaus Standfuss', 'Stefan Vogel', 'Guaraci Duran Cordeiro', 'Marina D. Meixner', 'George E. [Ned] Bohart', 'Avdhesh Kumar', 'B. Y. Kuang', 'Alexsander A. Azevedo', 'Gerald Hölzler', 'John Stoskopf Ascher', 'Messele Abebe Leta', 'Yasuo Maeta', 'Frank D. Parker', 'Masashi Goubara', 'I. H. Syed', 'Luisa Ruz', 'Fernando César Vieira Zanella', 'Ryôsuke Ishikawa', 'Katsushi Mitai', 'Stephen Gavilan Reyes', 'Rocío Ana González-Vaquero', 'Jorge M. González', 'Hanan Bytinski-Salz', 'Carlos Hernan Vergara', 'Vittorio Nobile', 'Holger Heinrich Dathe', 'Nikolaus Koeniger', 'Vladimir G. Radchenko', 'Radclyffe Burnand Roberts', 'Leif D. Deyrup', 'João Maria Franco de Camargo', 'N. P. Chopra', 'Tatiana G. Romankova', 'Joan G. Ehrenfeld', 'Qiang Li', 'Silvana P. Durante', 'Konrad Schmidt', 'Terry F. Houston', 'John Winslow MacSwain', 'Jessica Litman', 'G. H. Yang', 'Erwin Scheuchl', 'José Ricardo Cure', \"Lois Breimeier O'Brien\", 'Maria Cristina Arias', 'Carlos Balboa', 'M. Herrera', 'Julio A. Genaro', 'Edinaldo Luz das Neves', 'Jérôme Munzinger', 'Alberto H. Abrahamovich', 'Hideo Takahashi', 'Fernando Amaral da Silveira', 'Roderic B. Martines', 'Manfredo A. Fritz', 'María Fernanda Rodríguez', 'Achik Dorchin', 'Hywel Roberts', 'Léo Correia da Rocha-Filho', 'Jir[diacritic]í Hadrava', 'Paul Westrich', 'Jesus Santiago Moure', 'Huan-li Xu', 'Canan Hazir', 'Chariya Lekprayoon', 'Sharon Rodríguez', 'Daniel J. Bennett', 'Patrícia maria Correia de Albuquerque', 'Petr Bogusch', 'Karl Mazzucco', 'Chao-dong Zhu', 'Elizabeth Morris Exley', 'Anne E. Dollin', 'Barrett Anthony Klein', 'Andreas Bertsch', 'Cindy Julieth Celis', 'Jessica Janjic', 'Kim E. Steiner', 'David A. Tanner', 'Felipe Vivallo [Felipe Rodrigo Vivallo Martínez]', 'Andreas Müller', 'Mariano Lucia', 'Rita I. Velez-Ruiz', 'Thomas J. Zavortink', 'Judith King', 'Osamu Tadauchi', 'Paola Marchi', 'Michael Batley', 'H. Glenn Hall', 'Mi-Lyang Kim', 'Hans Bänziger', 'André Nemésio', 'Gabriel Augusto Rodrigues de Melo', 'José Manuel Macário Rebêlo', 'Bo G. Svensson', 'Daniele R. Parizotto', 'Maxim Yurievich Proshchalykin', 'Alvin Fleetwood Shinn', 'Sydney G. Cannings', 'Cory Silas Sheffield', 'Thomas J. Wood', 'David W. Ribble', 'Suniti Tomar', 'Leah LaPerle Larkin', 'Michael Scott Engel', 'Gard W. Otis', 'Yan-ru Wu', 'Michael Kuhlmann', 'Kim Timmermann', 'Keizô Yasumatsu', 'Juan M. Labougle', 'Maurits Anne Lieftinck', 'Pierre Rasmont', 'Terry L. Griswold', 'Alice Barringer Mackie', 'Yoshito Haneda', 'Paul David Hurd, Jr.', 'Gaurav Sharma', 'Antonio José Camillo Aguiar', 'Albert A. Grigarick', 'Korrawat Attasopa', 'Sheila Dumesh', 'Ze-qing Niu', 'Carl Edmund Atwood', 'Kelli dos Santos Ramos', 'Francisco Javier Ortiz-Sánchez', \"Asya Anatol'evna Ponomareva\", 'Christophe J. Praz', 'M. L. Thakur', 'Huan Chen', 'Sébastien Patiny', 'Shusaburo Tamasawa', 'Sergey P. Ivanov', 'Masao Ito', 'Gideon Pisanty', 'Robert Louis Dressler', 'Gerd Knerer', 'Shôichi F. Sakagami', 'Jorge Arturo Lobo Segura', 'Yuriy Andreyevich Pesenko', 'Sandra M. Rehan', 'Somnuk Boongird', 'Michael P. Schwarz', 'Alexander Lall', 'Arturo Roig-Alsina', 'Sebastião Laroca', 'Ismael Alejandro Hinojosa-Díaz', 'Lionel A. Stange', 'Gerald [Jerry] Irving Stage', 'Jian-guo Fan', 'Gudrun Koeniger', 'Takeshi Matsumura', 'Makoto Kato', 'Abdulaziz S. Alqarni', 'Claus Rasmussen', 'Ryuki Murao', 'Wan He', 'David Ward Roubik', 'Andreas Werner Ebmer', 'Zewdu Ararso Hora', 'Ricardo Ayala Barajas', 'Katja Hogendoorn', 'Roy R. Snelling', 'Juan Carlos Sandino-Franco', 'Mark Amidon Deyrup', 'Charlotte Skov', 'Fresia Rojas', 'Clemens Schlindwein', 'Tamiji Inoue', 'Eduardo Andrade Botelho de Almeida', \"Nina Grigo'yevna Davydova\", 'Erin Willis', 'Silvia Regina de Menezes Pedro', 'Sabita Simlote', 'V. K. Tewari', 'Andrew R. Moldenke', 'Alina Nilovna Kupianskaya', 'Vinalto Graf', 'Ahmatjan Dawut', 'Gerhard K. H. Przemeck', 'Donald Burton Baker', 'Robert W. Brooks', 'Barry James Donovan', 'Ryôichi Miyanaga', 'Laurence Packer', 'Alain Pauly', 'Meeta Tomar', 'Marina Siqueira de Castro', 'Yulia V. Astafurova', 'Misaki Abe', 'T. C. Narendran', 'Vladimir Veniaminovich Popov', 'Ardeshir Ariana', 'B. Lucas de Oliveira', 'Fabrício R. Santos', 'Andreas Dubitzky']\n",
      "\n",
      "\n"
     ]
    }
   ],
   "source": [
    "for i in range(len(df_li)):\n",
    "    print(\"Network\", i)\n",
    "    \n",
    "    density = nx.density(g_li[i])\n",
    "    print(\"Network density:\", round(density*100, 1), \"%\")\n",
    "    \n",
    "    triadic_closure = nx.transitivity(g_li[i])\n",
    "    print(\"Triadic closure:\", round(triadic_closure*100, 1), \"%\")\n",
    "    \n",
    "    # Get subgraphs\n",
    "    subgraphs = [c for c in sorted(nx.connected_components(g_li[i]), key=len, reverse=True)]\n",
    "    print(\"Number of subgraphs:\", len(subgraphs))\n",
    "    \n",
    "    # Largest component\n",
    "    components = nx.connected_components(g_li[i])\n",
    "    largest_component = max(components, key=len) # max number of nodes\n",
    "\n",
    "    # Create a \"subgraph\" of just the largest component\n",
    "    # Then calculate the diameter of the subgraph, just like you did with density.\n",
    "    subgraph = g_li[i].subgraph(largest_component)\n",
    "    diameter = nx.diameter(subgraph)\n",
    "    print(\"Network diameter of largest component:\", diameter)\n",
    "    \n",
    "    print([v[0] for v in g_li[i].nodes(data=True)])\n",
    "    \n",
    "    \n",
    "    print(\"\\n\")"
   ]
  }
 ],
 "metadata": {
  "kernelspec": {
   "display_name": "msc",
   "language": "python",
   "name": "msc"
  },
  "language_info": {
   "codemirror_mode": {
    "name": "ipython",
    "version": 3
   },
   "file_extension": ".py",
   "mimetype": "text/x-python",
   "name": "python",
   "nbconvert_exporter": "python",
   "pygments_lexer": "ipython3",
   "version": "3.7.3"
  }
 },
 "nbformat": 4,
 "nbformat_minor": 2
}
